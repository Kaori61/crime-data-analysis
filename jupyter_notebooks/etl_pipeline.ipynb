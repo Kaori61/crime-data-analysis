{
 "cells": [
  {
   "cell_type": "markdown",
   "id": "b409d289",
   "metadata": {},
   "source": [
    "# London Business Crime investigations"
   ]
  },
  {
   "cell_type": "markdown",
   "id": "5ffa74e2",
   "metadata": {},
   "source": [
    "### Navigation\n",
    "* [README](https://github.com/Kaori61/crime-data-analysis/blob/main/README.md)"
   ]
  },
  {
   "cell_type": "markdown",
   "id": "e9e0c916",
   "metadata": {},
   "source": [
    "### Import libraries and load data"
   ]
  },
  {
   "cell_type": "code",
   "execution_count": null,
   "id": "2d27e0e0",
   "metadata": {},
   "outputs": [],
   "source": [
    "# import necessary libraries\n",
    "import pandas as pd\n",
    "import numpy as np"
   ]
  },
  {
   "cell_type": "code",
   "execution_count": null,
   "id": "ba07579e",
   "metadata": {},
   "outputs": [],
   "source": []
  }
 ],
 "metadata": {
  "kernelspec": {
   "display_name": ".venv",
   "language": "python",
   "name": "python3"
  },
  "language_info": {
   "name": "python",
   "version": "3.12.8"
  }
 },
 "nbformat": 4,
 "nbformat_minor": 5
}
