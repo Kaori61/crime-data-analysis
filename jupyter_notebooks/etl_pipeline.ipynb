{
 "cells": [
  {
   "cell_type": "markdown",
   "id": "b409d289",
   "metadata": {},
   "source": [
    "# London Business Crime investigations"
   ]
  },
  {
   "cell_type": "markdown",
   "id": "5ffa74e2",
   "metadata": {},
   "source": [
    "### Navigation\n",
    "* [README](https://github.com/Kaori61/crime-data-analysis/blob/main/README.md)\n",
    "* [Clean data](https://github.com/Kaori61/crime-data-analysis/blob/main/dataset/data_cleaned.csv)\n",
    "* [Raw data](https://github.com/Kaori61/crime-data-analysis/blob/main/dataset/raw_data.csv)\n",
    "* [Exploratory data analysis (EDA)](https://github.com/Kaori61/crime-data-analysis/blob/main/jupyter_notebooks/exploratory_data_analysis.ipynb)\n",
    "* [Statistical analysis](https://github.com/Kaori61/crime-data-analysis/blob/main/jupyter_notebooks/statistical_analysis.ipynb)\n",
    "* [Dashboard - Business Crime Trends in London](https://public.tableau.com/views/LondonBusinessCrimeAnalysis/Dashboard1?:language=en-GB&:sid=&:redirect=auth&:display_count=n&:origin=viz_share_link)\n"
   ]
  },
  {
   "cell_type": "markdown",
   "id": "e9e0c916",
   "metadata": {},
   "source": [
    "### Import libraries and load data"
   ]
  },
  {
   "cell_type": "code",
   "execution_count": 1,
   "id": "2d27e0e0",
   "metadata": {},
   "outputs": [],
   "source": [
    "# import necessary libraries\n",
    "import pandas as pd\n",
    "import numpy as np"
   ]
  },
  {
   "cell_type": "code",
   "execution_count": null,
   "id": "ba07579e",
   "metadata": {},
   "outputs": [
    {
     "data": {
      "text/html": [
       "<div>\n",
       "<style scoped>\n",
       "    .dataframe tbody tr th:only-of-type {\n",
       "        vertical-align: middle;\n",
       "    }\n",
       "\n",
       "    .dataframe tbody tr th {\n",
       "        vertical-align: top;\n",
       "    }\n",
       "\n",
       "    .dataframe thead th {\n",
       "        text-align: right;\n",
       "    }\n",
       "</style>\n",
       "<table border=\"1\" class=\"dataframe\">\n",
       "  <thead>\n",
       "    <tr style=\"text-align: right;\">\n",
       "      <th></th>\n",
       "      <th>Date</th>\n",
       "      <th>Measure</th>\n",
       "      <th>Borough</th>\n",
       "      <th>Crime Section</th>\n",
       "      <th>Crime group</th>\n",
       "      <th>Outcome</th>\n",
       "      <th>Positive Outcome</th>\n",
       "      <th>Outcome Count</th>\n",
       "      <th>Refresh Date</th>\n",
       "    </tr>\n",
       "  </thead>\n",
       "  <tbody>\n",
       "    <tr>\n",
       "      <th>248172</th>\n",
       "      <td>2024-06-10</td>\n",
       "      <td>Business Crime Outcomes</td>\n",
       "      <td>Southwark</td>\n",
       "      <td>DRUG OFFENCES</td>\n",
       "      <td>POSSESSION OF DRUGS</td>\n",
       "      <td>Charged/Summonsed/Postal Requisition</td>\n",
       "      <td>Y</td>\n",
       "      <td>1</td>\n",
       "      <td>2025-01-05</td>\n",
       "    </tr>\n",
       "    <tr>\n",
       "      <th>298165</th>\n",
       "      <td>2024-09-04</td>\n",
       "      <td>Business Crime Outcomes</td>\n",
       "      <td>Lewisham</td>\n",
       "      <td>PUBLIC ORDER OFFENCES</td>\n",
       "      <td>PUBLIC FEAR ALARM OR DISTRESS</td>\n",
       "      <td>Investigation Complete; No Suspect Identified....</td>\n",
       "      <td>N</td>\n",
       "      <td>1</td>\n",
       "      <td>2025-01-05</td>\n",
       "    </tr>\n",
       "    <tr>\n",
       "      <th>191832</th>\n",
       "      <td>2024-01-16</td>\n",
       "      <td>Business Crime Outcomes</td>\n",
       "      <td>Other</td>\n",
       "      <td>VIOLENCE AGAINST THE PERSON</td>\n",
       "      <td>VIOLENCE WITHOUT INJURY</td>\n",
       "      <td>Investigation Complete; No Suspect Identified....</td>\n",
       "      <td>N</td>\n",
       "      <td>2</td>\n",
       "      <td>2025-01-05</td>\n",
       "    </tr>\n",
       "    <tr>\n",
       "      <th>84441</th>\n",
       "      <td>2023-06-08</td>\n",
       "      <td>Business Crime Outcomes</td>\n",
       "      <td>Islington</td>\n",
       "      <td>THEFT</td>\n",
       "      <td>SHOPLIFTING</td>\n",
       "      <td>Investigation Complete; No Suspect Identified....</td>\n",
       "      <td>N</td>\n",
       "      <td>18</td>\n",
       "      <td>2025-01-05</td>\n",
       "    </tr>\n",
       "    <tr>\n",
       "      <th>386902</th>\n",
       "      <td>2024-03-17</td>\n",
       "      <td>Business Crime Outcomes</td>\n",
       "      <td>Newham</td>\n",
       "      <td>THEFT</td>\n",
       "      <td>SHOPLIFTING</td>\n",
       "      <td>Investigation Complete; No Suspect Identified....</td>\n",
       "      <td>N</td>\n",
       "      <td>3</td>\n",
       "      <td>2025-01-05</td>\n",
       "    </tr>\n",
       "  </tbody>\n",
       "</table>\n",
       "</div>"
      ],
      "text/plain": [
       "              Date                  Measure    Borough  \\\n",
       "248172  2024-06-10  Business Crime Outcomes  Southwark   \n",
       "298165  2024-09-04  Business Crime Outcomes   Lewisham   \n",
       "191832  2024-01-16  Business Crime Outcomes      Other   \n",
       "84441   2023-06-08  Business Crime Outcomes  Islington   \n",
       "386902  2024-03-17  Business Crime Outcomes     Newham   \n",
       "\n",
       "                      Crime Section                    Crime group  \\\n",
       "248172                DRUG OFFENCES            POSSESSION OF DRUGS   \n",
       "298165        PUBLIC ORDER OFFENCES  PUBLIC FEAR ALARM OR DISTRESS   \n",
       "191832  VIOLENCE AGAINST THE PERSON        VIOLENCE WITHOUT INJURY   \n",
       "84441                         THEFT                    SHOPLIFTING   \n",
       "386902                        THEFT                    SHOPLIFTING   \n",
       "\n",
       "                                                  Outcome Positive Outcome  \\\n",
       "248172               Charged/Summonsed/Postal Requisition                Y   \n",
       "298165  Investigation Complete; No Suspect Identified....                N   \n",
       "191832  Investigation Complete; No Suspect Identified....                N   \n",
       "84441   Investigation Complete; No Suspect Identified....                N   \n",
       "386902  Investigation Complete; No Suspect Identified....                N   \n",
       "\n",
       "        Outcome Count Refresh Date  \n",
       "248172              1   2025-01-05  \n",
       "298165              1   2025-01-05  \n",
       "191832              2   2025-01-05  \n",
       "84441              18   2025-01-05  \n",
       "386902              3   2025-01-05  "
      ]
     },
     "execution_count": 2,
     "metadata": {},
     "output_type": "execute_result"
    }
   ],
   "source": [
    "# loading csv data \n",
    "raw = pd.read_csv('../dataset/raw_data.csv')\n",
    "\n",
    "# sample data to reduce dataset. Using 10% of the original rows.\n",
    "df = raw.sample(frac=0.1, random_state=42)\n",
    "df.to_csv(\"../dataset/sample_data.csv\", index=False)\n",
    "df.head()"
   ]
  },
  {
   "cell_type": "code",
   "execution_count": 3,
   "id": "af48685f",
   "metadata": {},
   "outputs": [
    {
     "data": {
      "text/plain": [
       "(41585, 9)"
      ]
     },
     "execution_count": 3,
     "metadata": {},
     "output_type": "execute_result"
    }
   ],
   "source": [
    "# check the dataset is loaded correctly \n",
    "df.shape"
   ]
  },
  {
   "cell_type": "markdown",
   "id": "bb67e7dc",
   "metadata": {},
   "source": [
    "### Data cleaning"
   ]
  },
  {
   "cell_type": "markdown",
   "id": "abe5c77e",
   "metadata": {},
   "source": [
    "##### Check for Null values"
   ]
  },
  {
   "cell_type": "code",
   "execution_count": 4,
   "id": "45609cf3",
   "metadata": {},
   "outputs": [
    {
     "data": {
      "text/plain": [
       "Date                  0\n",
       "Measure               0\n",
       "Borough               0\n",
       "Crime Section         0\n",
       "Crime group           0\n",
       "Outcome             145\n",
       "Positive Outcome      0\n",
       "Outcome Count         0\n",
       "Refresh Date          0\n",
       "dtype: int64"
      ]
     },
     "execution_count": 4,
     "metadata": {},
     "output_type": "execute_result"
    }
   ],
   "source": [
    "# check for null values\n",
    "df.isnull().sum()"
   ]
  },
  {
   "cell_type": "markdown",
   "id": "0ba255d9",
   "metadata": {},
   "source": [
    "The Outcome column contains the description of the crime outcome. Missing value in this column likely means there is no recorded outcome yet. Therefore, null values in Outcome column will be replaced with \"No outcome yet\","
   ]
  },
  {
   "cell_type": "markdown",
   "id": "19061591",
   "metadata": {},
   "source": [
    "##### Handling missing Outcome values"
   ]
  },
  {
   "cell_type": "code",
   "execution_count": 5,
   "id": "f8978f58",
   "metadata": {},
   "outputs": [
    {
     "data": {
      "text/html": [
       "<div>\n",
       "<style scoped>\n",
       "    .dataframe tbody tr th:only-of-type {\n",
       "        vertical-align: middle;\n",
       "    }\n",
       "\n",
       "    .dataframe tbody tr th {\n",
       "        vertical-align: top;\n",
       "    }\n",
       "\n",
       "    .dataframe thead th {\n",
       "        text-align: right;\n",
       "    }\n",
       "</style>\n",
       "<table border=\"1\" class=\"dataframe\">\n",
       "  <thead>\n",
       "    <tr style=\"text-align: right;\">\n",
       "      <th></th>\n",
       "      <th>Date</th>\n",
       "      <th>Measure</th>\n",
       "      <th>Borough</th>\n",
       "      <th>Crime Section</th>\n",
       "      <th>Crime group</th>\n",
       "      <th>Outcome</th>\n",
       "      <th>Positive Outcome</th>\n",
       "      <th>Outcome Count</th>\n",
       "      <th>Refresh Date</th>\n",
       "    </tr>\n",
       "  </thead>\n",
       "  <tbody>\n",
       "    <tr>\n",
       "      <th>288084</th>\n",
       "      <td>2024-08-16</td>\n",
       "      <td>Business Crime Outcomes</td>\n",
       "      <td>Kensington and Chelsea</td>\n",
       "      <td>VIOLENCE AGAINST THE PERSON</td>\n",
       "      <td>VIOLENCE WITHOUT INJURY</td>\n",
       "      <td>NaN</td>\n",
       "      <td>N</td>\n",
       "      <td>1</td>\n",
       "      <td>2025-01-05</td>\n",
       "    </tr>\n",
       "    <tr>\n",
       "      <th>273330</th>\n",
       "      <td>2024-08-16</td>\n",
       "      <td>Business Crime Outcomes</td>\n",
       "      <td>Wandsworth</td>\n",
       "      <td>PUBLIC ORDER OFFENCES</td>\n",
       "      <td>PUBLIC FEAR ALARM OR DISTRESS</td>\n",
       "      <td>NaN</td>\n",
       "      <td>N</td>\n",
       "      <td>1</td>\n",
       "      <td>2025-01-05</td>\n",
       "    </tr>\n",
       "    <tr>\n",
       "      <th>237436</th>\n",
       "      <td>2024-06-07</td>\n",
       "      <td>Business Crime Outcomes</td>\n",
       "      <td>Brent</td>\n",
       "      <td>THEFT</td>\n",
       "      <td>OTHER THEFT</td>\n",
       "      <td>NaN</td>\n",
       "      <td>N</td>\n",
       "      <td>1</td>\n",
       "      <td>2025-01-05</td>\n",
       "    </tr>\n",
       "    <tr>\n",
       "      <th>327298</th>\n",
       "      <td>2024-11-10</td>\n",
       "      <td>Business Crime Outcomes</td>\n",
       "      <td>Hillingdon</td>\n",
       "      <td>VIOLENCE AGAINST THE PERSON</td>\n",
       "      <td>VIOLENCE WITHOUT INJURY</td>\n",
       "      <td>NaN</td>\n",
       "      <td>N</td>\n",
       "      <td>1</td>\n",
       "      <td>2025-01-05</td>\n",
       "    </tr>\n",
       "    <tr>\n",
       "      <th>288820</th>\n",
       "      <td>2024-08-28</td>\n",
       "      <td>Business Crime Outcomes</td>\n",
       "      <td>Bexley</td>\n",
       "      <td>VIOLENCE AGAINST THE PERSON</td>\n",
       "      <td>VIOLENCE WITHOUT INJURY</td>\n",
       "      <td>NaN</td>\n",
       "      <td>N</td>\n",
       "      <td>1</td>\n",
       "      <td>2025-01-05</td>\n",
       "    </tr>\n",
       "    <tr>\n",
       "      <th>...</th>\n",
       "      <td>...</td>\n",
       "      <td>...</td>\n",
       "      <td>...</td>\n",
       "      <td>...</td>\n",
       "      <td>...</td>\n",
       "      <td>...</td>\n",
       "      <td>...</td>\n",
       "      <td>...</td>\n",
       "      <td>...</td>\n",
       "    </tr>\n",
       "    <tr>\n",
       "      <th>325926</th>\n",
       "      <td>2024-10-22</td>\n",
       "      <td>Business Crime Outcomes</td>\n",
       "      <td>Tower Hamlets</td>\n",
       "      <td>ARSON AND CRIMINAL DAMAGE</td>\n",
       "      <td>CRIMINAL DAMAGE</td>\n",
       "      <td>NaN</td>\n",
       "      <td>N</td>\n",
       "      <td>1</td>\n",
       "      <td>2025-01-05</td>\n",
       "    </tr>\n",
       "    <tr>\n",
       "      <th>293500</th>\n",
       "      <td>2024-09-18</td>\n",
       "      <td>Business Crime Outcomes</td>\n",
       "      <td>Barking and Dagenham</td>\n",
       "      <td>PUBLIC ORDER OFFENCES</td>\n",
       "      <td>PUBLIC FEAR ALARM OR DISTRESS</td>\n",
       "      <td>NaN</td>\n",
       "      <td>N</td>\n",
       "      <td>1</td>\n",
       "      <td>2025-01-05</td>\n",
       "    </tr>\n",
       "    <tr>\n",
       "      <th>315501</th>\n",
       "      <td>2024-10-01</td>\n",
       "      <td>Business Crime Outcomes</td>\n",
       "      <td>Tower Hamlets</td>\n",
       "      <td>PUBLIC ORDER OFFENCES</td>\n",
       "      <td>RACE OR RELIGIOUS AGG PUBLIC FEAR</td>\n",
       "      <td>NaN</td>\n",
       "      <td>N</td>\n",
       "      <td>1</td>\n",
       "      <td>2025-01-05</td>\n",
       "    </tr>\n",
       "    <tr>\n",
       "      <th>273416</th>\n",
       "      <td>2024-06-20</td>\n",
       "      <td>Business Crime Outcomes</td>\n",
       "      <td>Haringey</td>\n",
       "      <td>PUBLIC ORDER OFFENCES</td>\n",
       "      <td>RACE OR RELIGIOUS AGG PUBLIC FEAR</td>\n",
       "      <td>NaN</td>\n",
       "      <td>N</td>\n",
       "      <td>1</td>\n",
       "      <td>2025-01-05</td>\n",
       "    </tr>\n",
       "    <tr>\n",
       "      <th>399549</th>\n",
       "      <td>2024-08-08</td>\n",
       "      <td>Business Crime Outcomes</td>\n",
       "      <td>Westminster</td>\n",
       "      <td>VIOLENCE AGAINST THE PERSON</td>\n",
       "      <td>VIOLENCE WITHOUT INJURY</td>\n",
       "      <td>NaN</td>\n",
       "      <td>N</td>\n",
       "      <td>1</td>\n",
       "      <td>2025-01-05</td>\n",
       "    </tr>\n",
       "  </tbody>\n",
       "</table>\n",
       "<p>145 rows × 9 columns</p>\n",
       "</div>"
      ],
      "text/plain": [
       "              Date                  Measure                 Borough  \\\n",
       "288084  2024-08-16  Business Crime Outcomes  Kensington and Chelsea   \n",
       "273330  2024-08-16  Business Crime Outcomes              Wandsworth   \n",
       "237436  2024-06-07  Business Crime Outcomes                   Brent   \n",
       "327298  2024-11-10  Business Crime Outcomes              Hillingdon   \n",
       "288820  2024-08-28  Business Crime Outcomes                  Bexley   \n",
       "...            ...                      ...                     ...   \n",
       "325926  2024-10-22  Business Crime Outcomes           Tower Hamlets   \n",
       "293500  2024-09-18  Business Crime Outcomes    Barking and Dagenham   \n",
       "315501  2024-10-01  Business Crime Outcomes           Tower Hamlets   \n",
       "273416  2024-06-20  Business Crime Outcomes                Haringey   \n",
       "399549  2024-08-08  Business Crime Outcomes             Westminster   \n",
       "\n",
       "                      Crime Section                        Crime group  \\\n",
       "288084  VIOLENCE AGAINST THE PERSON            VIOLENCE WITHOUT INJURY   \n",
       "273330        PUBLIC ORDER OFFENCES      PUBLIC FEAR ALARM OR DISTRESS   \n",
       "237436                        THEFT                        OTHER THEFT   \n",
       "327298  VIOLENCE AGAINST THE PERSON            VIOLENCE WITHOUT INJURY   \n",
       "288820  VIOLENCE AGAINST THE PERSON            VIOLENCE WITHOUT INJURY   \n",
       "...                             ...                                ...   \n",
       "325926    ARSON AND CRIMINAL DAMAGE                    CRIMINAL DAMAGE   \n",
       "293500        PUBLIC ORDER OFFENCES      PUBLIC FEAR ALARM OR DISTRESS   \n",
       "315501        PUBLIC ORDER OFFENCES  RACE OR RELIGIOUS AGG PUBLIC FEAR   \n",
       "273416        PUBLIC ORDER OFFENCES  RACE OR RELIGIOUS AGG PUBLIC FEAR   \n",
       "399549  VIOLENCE AGAINST THE PERSON            VIOLENCE WITHOUT INJURY   \n",
       "\n",
       "       Outcome Positive Outcome  Outcome Count Refresh Date  \n",
       "288084     NaN                N              1   2025-01-05  \n",
       "273330     NaN                N              1   2025-01-05  \n",
       "237436     NaN                N              1   2025-01-05  \n",
       "327298     NaN                N              1   2025-01-05  \n",
       "288820     NaN                N              1   2025-01-05  \n",
       "...        ...              ...            ...          ...  \n",
       "325926     NaN                N              1   2025-01-05  \n",
       "293500     NaN                N              1   2025-01-05  \n",
       "315501     NaN                N              1   2025-01-05  \n",
       "273416     NaN                N              1   2025-01-05  \n",
       "399549     NaN                N              1   2025-01-05  \n",
       "\n",
       "[145 rows x 9 columns]"
      ]
     },
     "execution_count": 5,
     "metadata": {},
     "output_type": "execute_result"
    }
   ],
   "source": [
    "# check rows with missing outcome values\n",
    "df[df['Outcome'].isnull()]"
   ]
  },
  {
   "cell_type": "code",
   "execution_count": 6,
   "id": "52f0c6a2",
   "metadata": {},
   "outputs": [
    {
     "data": {
      "text/plain": [
       "np.int64(145)"
      ]
     },
     "execution_count": 6,
     "metadata": {},
     "output_type": "execute_result"
    }
   ],
   "source": [
    "# replacing null values in Outcome with 'No outcome yet'\n",
    "df['Outcome'] = df['Outcome'].fillna('No outcome yet')\n",
    "\n",
    "# check null values are replaced\n",
    "(df['Outcome'] == 'No outcome yet').sum()"
   ]
  },
  {
   "cell_type": "markdown",
   "id": "42abda2a",
   "metadata": {},
   "source": [
    "145 of missing values in Outcome columns are replaced with 'No outocme yet'"
   ]
  },
  {
   "cell_type": "markdown",
   "id": "4162d37e",
   "metadata": {},
   "source": [
    "##### Handling other null values"
   ]
  },
  {
   "cell_type": "code",
   "execution_count": 7,
   "id": "d2beb444",
   "metadata": {},
   "outputs": [
    {
     "data": {
      "text/html": [
       "<div>\n",
       "<style scoped>\n",
       "    .dataframe tbody tr th:only-of-type {\n",
       "        vertical-align: middle;\n",
       "    }\n",
       "\n",
       "    .dataframe tbody tr th {\n",
       "        vertical-align: top;\n",
       "    }\n",
       "\n",
       "    .dataframe thead th {\n",
       "        text-align: right;\n",
       "    }\n",
       "</style>\n",
       "<table border=\"1\" class=\"dataframe\">\n",
       "  <thead>\n",
       "    <tr style=\"text-align: right;\">\n",
       "      <th></th>\n",
       "      <th>Date</th>\n",
       "      <th>Measure</th>\n",
       "      <th>Borough</th>\n",
       "      <th>Crime Section</th>\n",
       "      <th>Crime group</th>\n",
       "      <th>Outcome</th>\n",
       "      <th>Positive Outcome</th>\n",
       "      <th>Outcome Count</th>\n",
       "      <th>Refresh Date</th>\n",
       "    </tr>\n",
       "  </thead>\n",
       "  <tbody>\n",
       "  </tbody>\n",
       "</table>\n",
       "</div>"
      ],
      "text/plain": [
       "Empty DataFrame\n",
       "Columns: [Date, Measure, Borough, Crime Section, Crime group, Outcome, Positive Outcome, Outcome Count, Refresh Date]\n",
       "Index: []"
      ]
     },
     "execution_count": 7,
     "metadata": {},
     "output_type": "execute_result"
    }
   ],
   "source": [
    "# check missing value in Date column\n",
    "df[df['Date'].isnull()]"
   ]
  },
  {
   "cell_type": "code",
   "execution_count": 8,
   "id": "b46bd458",
   "metadata": {},
   "outputs": [
    {
     "data": {
      "text/plain": [
       "Date                0\n",
       "Measure             0\n",
       "Borough             0\n",
       "Crime Section       0\n",
       "Crime group         0\n",
       "Outcome             0\n",
       "Positive Outcome    0\n",
       "Outcome Count       0\n",
       "Refresh Date        0\n",
       "dtype: int64"
      ]
     },
     "execution_count": 8,
     "metadata": {},
     "output_type": "execute_result"
    }
   ],
   "source": [
    "# check null value\n",
    "df.isnull().sum()"
   ]
  },
  {
   "cell_type": "markdown",
   "id": "aa2339fa",
   "metadata": {},
   "source": [
    "All missing values are handled now."
   ]
  },
  {
   "cell_type": "markdown",
   "id": "e90a3e06",
   "metadata": {},
   "source": [
    "### Check data type"
   ]
  },
  {
   "cell_type": "code",
   "execution_count": 9,
   "id": "9abf53de",
   "metadata": {},
   "outputs": [
    {
     "data": {
      "text/plain": [
       "Date                object\n",
       "Measure             object\n",
       "Borough             object\n",
       "Crime Section       object\n",
       "Crime group         object\n",
       "Outcome             object\n",
       "Positive Outcome    object\n",
       "Outcome Count        int64\n",
       "Refresh Date        object\n",
       "dtype: object"
      ]
     },
     "execution_count": 9,
     "metadata": {},
     "output_type": "execute_result"
    }
   ],
   "source": [
    "df.dtypes"
   ]
  },
  {
   "cell_type": "markdown",
   "id": "e9e10bb6",
   "metadata": {},
   "source": [
    "Date and Refresh Date needs to be in date format so I will convert into date format."
   ]
  },
  {
   "cell_type": "code",
   "execution_count": 10,
   "id": "a1d7aa39",
   "metadata": {},
   "outputs": [
    {
     "data": {
      "text/plain": [
       "Date                datetime64[ns]\n",
       "Measure                     object\n",
       "Borough                     object\n",
       "Crime Section               object\n",
       "Crime group                 object\n",
       "Outcome                     object\n",
       "Positive Outcome            object\n",
       "Outcome Count                int64\n",
       "Refresh Date        datetime64[ns]\n",
       "dtype: object"
      ]
     },
     "execution_count": 10,
     "metadata": {},
     "output_type": "execute_result"
    }
   ],
   "source": [
    "# convert into date format\n",
    "df['Date'] = pd.to_datetime(df['Date'])\n",
    "df['Refresh Date'] = pd.to_datetime(df['Refresh Date'])\n",
    "df.dtypes"
   ]
  },
  {
   "cell_type": "markdown",
   "id": "9d4c968c",
   "metadata": {},
   "source": [
    "Outcome Count should be integer not float so I willl convert it into interger."
   ]
  },
  {
   "cell_type": "code",
   "execution_count": 11,
   "id": "fea3be30",
   "metadata": {},
   "outputs": [
    {
     "data": {
      "text/plain": [
       "Date                datetime64[ns]\n",
       "Measure                     object\n",
       "Borough                     object\n",
       "Crime Section               object\n",
       "Crime group                 object\n",
       "Outcome                     object\n",
       "Positive Outcome            object\n",
       "Outcome Count                int64\n",
       "Refresh Date        datetime64[ns]\n",
       "dtype: object"
      ]
     },
     "execution_count": 11,
     "metadata": {},
     "output_type": "execute_result"
    }
   ],
   "source": [
    "# convert into integer\n",
    "df['Outcome Count'] = df['Outcome Count'].astype(int)\n",
    "df.dtypes"
   ]
  },
  {
   "cell_type": "markdown",
   "id": "1d279fb0",
   "metadata": {},
   "source": [
    "### Check inconsistent categorical values"
   ]
  },
  {
   "cell_type": "code",
   "execution_count": 12,
   "id": "9fdd39c6",
   "metadata": {},
   "outputs": [
    {
     "data": {
      "text/plain": [
       "Measure              1\n",
       "Borough             33\n",
       "Crime Section       12\n",
       "Crime group         30\n",
       "Outcome             31\n",
       "Positive Outcome     2\n",
       "dtype: int64"
      ]
     },
     "execution_count": 12,
     "metadata": {},
     "output_type": "execute_result"
    }
   ],
   "source": [
    "# check how many unique values each categorical columns have\n",
    "df.select_dtypes(include='object').nunique()"
   ]
  },
  {
   "cell_type": "code",
   "execution_count": 13,
   "id": "5ce98cae",
   "metadata": {},
   "outputs": [
    {
     "name": "stdout",
     "output_type": "stream",
     "text": [
      "\n",
      " Unique values in 'Measure':\n",
      "Measure\n",
      "Business Crime Outcomes    41585\n",
      "Name: count, dtype: int64\n",
      "\n",
      " Unique values in 'Borough':\n",
      "Borough\n",
      "Westminster               2323\n",
      "Newham                    1668\n",
      "Camden                    1636\n",
      "Tower Hamlets             1569\n",
      "Lambeth                   1558\n",
      "Brent                     1495\n",
      "Hackney                   1491\n",
      "Southwark                 1482\n",
      "Islington                 1429\n",
      "Other                     1426\n",
      "Wandsworth                1378\n",
      "Hillingdon                1375\n",
      "Ealing                    1374\n",
      "Lewisham                  1363\n",
      "Croydon                   1359\n",
      "Greenwich                 1341\n",
      "Haringey                  1328\n",
      "Barnet                    1255\n",
      "Enfield                   1215\n",
      "Redbridge                 1214\n",
      "Hammersmith and Fulham    1206\n",
      "Hounslow                  1198\n",
      "Bromley                   1171\n",
      "Waltham Forest            1051\n",
      "Kensington and Chelsea    1035\n",
      "Havering                  1035\n",
      "Barking and Dagenham      1025\n",
      "Harrow                     859\n",
      "Kingston upon Thames       834\n",
      "Merton                     820\n",
      "Bexley                     761\n",
      "Sutton                     683\n",
      "Richmond upon Thames       628\n",
      "Name: count, dtype: int64\n",
      "\n",
      " Unique values in 'Crime Section':\n",
      "Crime Section\n",
      "THEFT                                   11763\n",
      "VIOLENCE AGAINST THE PERSON              9306\n",
      "PUBLIC ORDER OFFENCES                    4337\n",
      "VEHICLE OFFENCES                         3215\n",
      "ARSON AND CRIMINAL DAMAGE                3176\n",
      "BURGLARY                                 2928\n",
      "ROBBERY                                  2542\n",
      "DRUG OFFENCES                            1866\n",
      "SEXUAL OFFENCES                          1293\n",
      "MISCELLANEOUS CRIMES AGAINST SOCIETY      729\n",
      "POSSESSION OF WEAPONS                     399\n",
      "FRAUD AND FORGERY                          31\n",
      "Name: count, dtype: int64\n",
      "\n",
      " Unique values in 'Crime group':\n",
      "Crime group\n",
      "VIOLENCE WITHOUT INJURY                  5427\n",
      "SHOPLIFTING                              4851\n",
      "VIOLENCE WITH INJURY                     3870\n",
      "OTHER THEFT                              3597\n",
      "CRIMINAL DAMAGE                          2946\n",
      "PUBLIC FEAR ALARM OR DISTRESS            2720\n",
      "THEFT FROM THE PERSON                    2276\n",
      "BURGLARY BUSINESS AND COMMUNITY          2160\n",
      "THEFT FROM A VEHICLE                     1586\n",
      "ROBBERY OF PERSONAL PROPERTY             1569\n",
      "POSSESSION OF DRUGS                      1459\n",
      "RACE OR RELIGIOUS AGG PUBLIC FEAR        1127\n",
      "THEFT OR UNAUTH TAKING OF A MOTOR VEH    1111\n",
      "BICYCLE THEFT                            1039\n",
      "OTHER SEXUAL OFFENCES                     996\n",
      "ROBBERY OF BUSINESS PROPERTY              973\n",
      "MISC CRIMES AGAINST SOCIETY               729\n",
      "BURGLARY - RESIDENTIAL                    500\n",
      "INTERFERING WITH A MOTOR VEHICLE          495\n",
      "OTHER OFFENCES PUBLIC ORDER               482\n",
      "TRAFFICKING OF DRUGS                      407\n",
      "POSSESSION OF WEAPONS                     399\n",
      "RAPE                                      297\n",
      "BURGLARY IN A DWELLING                    260\n",
      "ARSON                                     230\n",
      "FRAUD AND FORGERY                          31\n",
      "AGGRAVATED VEHICLE TAKING                  23\n",
      "HOMICIDE                                    9\n",
      "VIOLENT DISORDER                            8\n",
      "BURGLARY NON-DWELLING                       8\n",
      "Name: count, dtype: int64\n",
      "\n",
      " Unique values in 'Outcome':\n",
      "Outcome\n",
      "Investigation Complete; No Suspect Identified. Crime Investigated As Far As Reasonably Possible-Case Closed Pending Further Investigative Opportunities Becoming Available                      19281\n",
      "Named Suspect Identified: Victim Supports Police Action But Evidential Difficulties Prevent Further Action                                                                                       5594\n",
      "Named Suspect Identified: Evidential Difficulties Prevent Further Action: Victim Does Not Support (Or Has Withdrawn Support From) Police Action                                                  5345\n",
      "Evidential Difficulties Victim Based-Named Suspect Not Identified: Crime Confirmed But The Victim Either Declines Or Unable To Support Further Police Investigation To Identify The Offender     5066\n",
      "Charged/Summonsed/Postal Requisition                                                                                                                                                             2737\n",
      "Community resolution (Crime)                                                                                                                                                                     1186\n",
      "Outcome Pending (Legacy Only)                                                                                                                                                                     536\n",
      "Charged/Summons - alternate offence. Offender has been charged under the alternate offence rule.                                                                                                  395\n",
      "Admin (Legacy Only)                                                                                                                                                                               288\n",
      "Further action resulting from the crime report will be undertaken by another body or agency subject to the victim (or person acting on their behalf) being made aware of the act to be taken      211\n",
      "Penalty notice for disorder                                                                                                                                                                       202\n",
      "Caution Adult                                                                                                                                                                                     195\n",
      "No outcome yet                                                                                                                                                                                    145\n",
      "No Crime (Legacy Only)                                                                                                                                                                             69\n",
      "Prosecution Prevented-Named Suspect Identified But Is Too Ill (Physical Or Mental Health) To Prosecute                                                                                             57\n",
      "No Investigation, named suspect identified. Capable of proof, but not in public interest to investigate. Supervisor rationale documented in closing report.                                        55\n",
      "Formal Action Against Offender is not in the Public Interest (Police)                                                                                                                              54\n",
      "No Further Action Police Decision                                                                                                                                                                  32\n",
      "Caution Youth                                                                                                                                                                                      30\n",
      "Prosecution Time Limit Expired: Suspect Identified But Prosecution Time Limit Has Expired                                                                                                          29\n",
      "Caution Adult - alternate offence. Offender has been given a simple caution under the alternate offences rule.                                                                                     25\n",
      "Prosecution Prevented-Named Suspect Identified But Is Below The Age Of Criminal Responsibility                                                                                                     10\n",
      "Prosecution Not In the Public Interest (CPS)                                                                                                                                                       10\n",
      "Not in use in the MPS/on CRIS (Legacy Only)                                                                                                                                                         9\n",
      "Prosecution Prevented-Named Suspect Identified But Victim Or Key Witness Is Dead Or Too Ill To Give Evidence                                                                                        9\n",
      "Offender has died                                                                                                                                                                                   7\n",
      "Caution Youth - alternate offence. Offender is a juvenile and has been given a youth caution under the alternate offences rule.                                                                     2\n",
      "Diversionary, educational or intervention activity, resulting from the crime report, has been undertaken and it is not in the public interest to take any further action.                           2\n",
      "CPS Decision Not to Proceed (Legacy Only)                                                                                                                                                           2\n",
      "TIC - Taken into Consideration                                                                                                                                                                      1\n",
      "Cannabis/Khat Warning                                                                                                                                                                               1\n",
      "Name: count, dtype: int64\n",
      "\n",
      " Unique values in 'Positive Outcome':\n",
      "Positive Outcome\n",
      "N    36811\n",
      "Y     4774\n",
      "Name: count, dtype: int64\n"
     ]
    }
   ],
   "source": [
    "# check what uique values are in all categorical columns\n",
    "for col in df.select_dtypes(include='object').columns:\n",
    "    print(f\"\\n Unique values in '{col}':\")\n",
    "    print(df[col].value_counts(dropna=False))"
   ]
  },
  {
   "cell_type": "markdown",
   "id": "7958acf3",
   "metadata": {},
   "source": [
    "This analysis investigates the geographical crime trend, so an unspecified location isn't useful. Therefore, I will delete 'Other' in the Borough column. "
   ]
  },
  {
   "cell_type": "code",
   "execution_count": 14,
   "id": "731624e7",
   "metadata": {},
   "outputs": [
    {
     "data": {
      "text/plain": [
       "Borough\n",
       "Westminster               2323\n",
       "Newham                    1668\n",
       "Camden                    1636\n",
       "Tower Hamlets             1569\n",
       "Lambeth                   1558\n",
       "Brent                     1495\n",
       "Hackney                   1491\n",
       "Southwark                 1482\n",
       "Islington                 1429\n",
       "Wandsworth                1378\n",
       "Hillingdon                1375\n",
       "Ealing                    1374\n",
       "Lewisham                  1363\n",
       "Croydon                   1359\n",
       "Greenwich                 1341\n",
       "Haringey                  1328\n",
       "Barnet                    1255\n",
       "Enfield                   1215\n",
       "Redbridge                 1214\n",
       "Hammersmith and Fulham    1206\n",
       "Hounslow                  1198\n",
       "Bromley                   1171\n",
       "Waltham Forest            1051\n",
       "Kensington and Chelsea    1035\n",
       "Havering                  1035\n",
       "Barking and Dagenham      1025\n",
       "Harrow                     859\n",
       "Kingston upon Thames       834\n",
       "Merton                     820\n",
       "Bexley                     761\n",
       "Sutton                     683\n",
       "Richmond upon Thames       628\n",
       "Name: count, dtype: int64"
      ]
     },
     "execution_count": 14,
     "metadata": {},
     "output_type": "execute_result"
    }
   ],
   "source": [
    "# keep only the rows that is not equal to 'Other'\n",
    "df = df[df['Borough'] != 'Other']\n",
    "\n",
    "# check if the value is deleted correctly\n",
    "df['Borough'].value_counts()"
   ]
  },
  {
   "cell_type": "code",
   "execution_count": 15,
   "id": "1ba9e6ab",
   "metadata": {},
   "outputs": [
    {
     "data": {
      "text/plain": [
       "Measure              1\n",
       "Borough             32\n",
       "Crime Section       12\n",
       "Crime group         30\n",
       "Outcome             31\n",
       "Positive Outcome     2\n",
       "dtype: int64"
      ]
     },
     "execution_count": 15,
     "metadata": {},
     "output_type": "execute_result"
    }
   ],
   "source": [
    "# check the unique value again\n",
    "df.select_dtypes(include='object').nunique()"
   ]
  },
  {
   "cell_type": "markdown",
   "id": "683f5762",
   "metadata": {},
   "source": [
    "##### Check for duplicate"
   ]
  },
  {
   "cell_type": "code",
   "execution_count": 16,
   "id": "f0912220",
   "metadata": {},
   "outputs": [
    {
     "data": {
      "text/plain": [
       "np.int64(0)"
      ]
     },
     "execution_count": 16,
     "metadata": {},
     "output_type": "execute_result"
    }
   ],
   "source": [
    "df.duplicated().sum()"
   ]
  },
  {
   "cell_type": "markdown",
   "id": "113c076f",
   "metadata": {},
   "source": [
    "No duplicate found. Data cleaning process is satisfactory."
   ]
  },
  {
   "cell_type": "markdown",
   "id": "8dd74e5a",
   "metadata": {},
   "source": [
    "### Create new columns"
   ]
  },
  {
   "cell_type": "markdown",
   "id": "74f52882",
   "metadata": {},
   "source": [
    "I would like to make separate columns for Year, Month, Date for analysis."
   ]
  },
  {
   "cell_type": "code",
   "execution_count": 17,
   "id": "a2a2a3bc",
   "metadata": {},
   "outputs": [
    {
     "data": {
      "text/html": [
       "<div>\n",
       "<style scoped>\n",
       "    .dataframe tbody tr th:only-of-type {\n",
       "        vertical-align: middle;\n",
       "    }\n",
       "\n",
       "    .dataframe tbody tr th {\n",
       "        vertical-align: top;\n",
       "    }\n",
       "\n",
       "    .dataframe thead th {\n",
       "        text-align: right;\n",
       "    }\n",
       "</style>\n",
       "<table border=\"1\" class=\"dataframe\">\n",
       "  <thead>\n",
       "    <tr style=\"text-align: right;\">\n",
       "      <th></th>\n",
       "      <th>Date</th>\n",
       "      <th>Measure</th>\n",
       "      <th>Borough</th>\n",
       "      <th>Crime Section</th>\n",
       "      <th>Crime group</th>\n",
       "      <th>Outcome</th>\n",
       "      <th>Positive Outcome</th>\n",
       "      <th>Outcome Count</th>\n",
       "      <th>Refresh Date</th>\n",
       "      <th>Year</th>\n",
       "      <th>Month</th>\n",
       "      <th>Weekday</th>\n",
       "    </tr>\n",
       "  </thead>\n",
       "  <tbody>\n",
       "    <tr>\n",
       "      <th>248172</th>\n",
       "      <td>2024-06-10</td>\n",
       "      <td>Business Crime Outcomes</td>\n",
       "      <td>Southwark</td>\n",
       "      <td>DRUG OFFENCES</td>\n",
       "      <td>POSSESSION OF DRUGS</td>\n",
       "      <td>Charged/Summonsed/Postal Requisition</td>\n",
       "      <td>Y</td>\n",
       "      <td>1</td>\n",
       "      <td>2025-01-05</td>\n",
       "      <td>2024</td>\n",
       "      <td>6</td>\n",
       "      <td>Monday</td>\n",
       "    </tr>\n",
       "    <tr>\n",
       "      <th>298165</th>\n",
       "      <td>2024-09-04</td>\n",
       "      <td>Business Crime Outcomes</td>\n",
       "      <td>Lewisham</td>\n",
       "      <td>PUBLIC ORDER OFFENCES</td>\n",
       "      <td>PUBLIC FEAR ALARM OR DISTRESS</td>\n",
       "      <td>Investigation Complete; No Suspect Identified....</td>\n",
       "      <td>N</td>\n",
       "      <td>1</td>\n",
       "      <td>2025-01-05</td>\n",
       "      <td>2024</td>\n",
       "      <td>9</td>\n",
       "      <td>Wednesday</td>\n",
       "    </tr>\n",
       "    <tr>\n",
       "      <th>84441</th>\n",
       "      <td>2023-06-08</td>\n",
       "      <td>Business Crime Outcomes</td>\n",
       "      <td>Islington</td>\n",
       "      <td>THEFT</td>\n",
       "      <td>SHOPLIFTING</td>\n",
       "      <td>Investigation Complete; No Suspect Identified....</td>\n",
       "      <td>N</td>\n",
       "      <td>18</td>\n",
       "      <td>2025-01-05</td>\n",
       "      <td>2023</td>\n",
       "      <td>6</td>\n",
       "      <td>Thursday</td>\n",
       "    </tr>\n",
       "    <tr>\n",
       "      <th>386902</th>\n",
       "      <td>2024-03-17</td>\n",
       "      <td>Business Crime Outcomes</td>\n",
       "      <td>Newham</td>\n",
       "      <td>THEFT</td>\n",
       "      <td>SHOPLIFTING</td>\n",
       "      <td>Investigation Complete; No Suspect Identified....</td>\n",
       "      <td>N</td>\n",
       "      <td>3</td>\n",
       "      <td>2025-01-05</td>\n",
       "      <td>2024</td>\n",
       "      <td>3</td>\n",
       "      <td>Sunday</td>\n",
       "    </tr>\n",
       "    <tr>\n",
       "      <th>259355</th>\n",
       "      <td>2024-05-25</td>\n",
       "      <td>Business Crime Outcomes</td>\n",
       "      <td>Lambeth</td>\n",
       "      <td>DRUG OFFENCES</td>\n",
       "      <td>POSSESSION OF DRUGS</td>\n",
       "      <td>Community resolution (Crime)</td>\n",
       "      <td>Y</td>\n",
       "      <td>7</td>\n",
       "      <td>2025-01-05</td>\n",
       "      <td>2024</td>\n",
       "      <td>5</td>\n",
       "      <td>Saturday</td>\n",
       "    </tr>\n",
       "  </tbody>\n",
       "</table>\n",
       "</div>"
      ],
      "text/plain": [
       "             Date                  Measure    Borough          Crime Section  \\\n",
       "248172 2024-06-10  Business Crime Outcomes  Southwark          DRUG OFFENCES   \n",
       "298165 2024-09-04  Business Crime Outcomes   Lewisham  PUBLIC ORDER OFFENCES   \n",
       "84441  2023-06-08  Business Crime Outcomes  Islington                  THEFT   \n",
       "386902 2024-03-17  Business Crime Outcomes     Newham                  THEFT   \n",
       "259355 2024-05-25  Business Crime Outcomes    Lambeth          DRUG OFFENCES   \n",
       "\n",
       "                          Crime group  \\\n",
       "248172            POSSESSION OF DRUGS   \n",
       "298165  PUBLIC FEAR ALARM OR DISTRESS   \n",
       "84441                     SHOPLIFTING   \n",
       "386902                    SHOPLIFTING   \n",
       "259355            POSSESSION OF DRUGS   \n",
       "\n",
       "                                                  Outcome Positive Outcome  \\\n",
       "248172               Charged/Summonsed/Postal Requisition                Y   \n",
       "298165  Investigation Complete; No Suspect Identified....                N   \n",
       "84441   Investigation Complete; No Suspect Identified....                N   \n",
       "386902  Investigation Complete; No Suspect Identified....                N   \n",
       "259355                       Community resolution (Crime)                Y   \n",
       "\n",
       "        Outcome Count Refresh Date  Year  Month    Weekday  \n",
       "248172              1   2025-01-05  2024      6     Monday  \n",
       "298165              1   2025-01-05  2024      9  Wednesday  \n",
       "84441              18   2025-01-05  2023      6   Thursday  \n",
       "386902              3   2025-01-05  2024      3     Sunday  \n",
       "259355              7   2025-01-05  2024      5   Saturday  "
      ]
     },
     "execution_count": 17,
     "metadata": {},
     "output_type": "execute_result"
    }
   ],
   "source": [
    "# create new columns\n",
    "df['Year'] = df['Date'].dt.year\n",
    "df['Month'] = df['Date'].dt.month\n",
    "df['Weekday'] = df['Date'].dt.day_name()\n",
    "\n",
    "# check for new columns\n",
    "df.head() "
   ]
  },
  {
   "cell_type": "markdown",
   "id": "83737f3f",
   "metadata": {},
   "source": [
    "Delete uneccesary columns. \n",
    "\n",
    "Measure refers to type of crime and this data only include one type which is business crime so I delete the column. \n",
    "Refresh Date refers to the date that was updated this dataset which isn't needed for this analysis."
   ]
  },
  {
   "cell_type": "code",
   "execution_count": 18,
   "id": "064c4e97",
   "metadata": {},
   "outputs": [
    {
     "data": {
      "text/html": [
       "<div>\n",
       "<style scoped>\n",
       "    .dataframe tbody tr th:only-of-type {\n",
       "        vertical-align: middle;\n",
       "    }\n",
       "\n",
       "    .dataframe tbody tr th {\n",
       "        vertical-align: top;\n",
       "    }\n",
       "\n",
       "    .dataframe thead th {\n",
       "        text-align: right;\n",
       "    }\n",
       "</style>\n",
       "<table border=\"1\" class=\"dataframe\">\n",
       "  <thead>\n",
       "    <tr style=\"text-align: right;\">\n",
       "      <th></th>\n",
       "      <th>Date</th>\n",
       "      <th>Borough</th>\n",
       "      <th>Crime Section</th>\n",
       "      <th>Crime group</th>\n",
       "      <th>Outcome</th>\n",
       "      <th>Positive Outcome</th>\n",
       "      <th>Outcome Count</th>\n",
       "      <th>Year</th>\n",
       "      <th>Month</th>\n",
       "      <th>Weekday</th>\n",
       "    </tr>\n",
       "  </thead>\n",
       "  <tbody>\n",
       "    <tr>\n",
       "      <th>248172</th>\n",
       "      <td>2024-06-10</td>\n",
       "      <td>Southwark</td>\n",
       "      <td>DRUG OFFENCES</td>\n",
       "      <td>POSSESSION OF DRUGS</td>\n",
       "      <td>Charged/Summonsed/Postal Requisition</td>\n",
       "      <td>Y</td>\n",
       "      <td>1</td>\n",
       "      <td>2024</td>\n",
       "      <td>6</td>\n",
       "      <td>Monday</td>\n",
       "    </tr>\n",
       "    <tr>\n",
       "      <th>298165</th>\n",
       "      <td>2024-09-04</td>\n",
       "      <td>Lewisham</td>\n",
       "      <td>PUBLIC ORDER OFFENCES</td>\n",
       "      <td>PUBLIC FEAR ALARM OR DISTRESS</td>\n",
       "      <td>Investigation Complete; No Suspect Identified....</td>\n",
       "      <td>N</td>\n",
       "      <td>1</td>\n",
       "      <td>2024</td>\n",
       "      <td>9</td>\n",
       "      <td>Wednesday</td>\n",
       "    </tr>\n",
       "    <tr>\n",
       "      <th>84441</th>\n",
       "      <td>2023-06-08</td>\n",
       "      <td>Islington</td>\n",
       "      <td>THEFT</td>\n",
       "      <td>SHOPLIFTING</td>\n",
       "      <td>Investigation Complete; No Suspect Identified....</td>\n",
       "      <td>N</td>\n",
       "      <td>18</td>\n",
       "      <td>2023</td>\n",
       "      <td>6</td>\n",
       "      <td>Thursday</td>\n",
       "    </tr>\n",
       "    <tr>\n",
       "      <th>386902</th>\n",
       "      <td>2024-03-17</td>\n",
       "      <td>Newham</td>\n",
       "      <td>THEFT</td>\n",
       "      <td>SHOPLIFTING</td>\n",
       "      <td>Investigation Complete; No Suspect Identified....</td>\n",
       "      <td>N</td>\n",
       "      <td>3</td>\n",
       "      <td>2024</td>\n",
       "      <td>3</td>\n",
       "      <td>Sunday</td>\n",
       "    </tr>\n",
       "    <tr>\n",
       "      <th>259355</th>\n",
       "      <td>2024-05-25</td>\n",
       "      <td>Lambeth</td>\n",
       "      <td>DRUG OFFENCES</td>\n",
       "      <td>POSSESSION OF DRUGS</td>\n",
       "      <td>Community resolution (Crime)</td>\n",
       "      <td>Y</td>\n",
       "      <td>7</td>\n",
       "      <td>2024</td>\n",
       "      <td>5</td>\n",
       "      <td>Saturday</td>\n",
       "    </tr>\n",
       "  </tbody>\n",
       "</table>\n",
       "</div>"
      ],
      "text/plain": [
       "             Date    Borough          Crime Section  \\\n",
       "248172 2024-06-10  Southwark          DRUG OFFENCES   \n",
       "298165 2024-09-04   Lewisham  PUBLIC ORDER OFFENCES   \n",
       "84441  2023-06-08  Islington                  THEFT   \n",
       "386902 2024-03-17     Newham                  THEFT   \n",
       "259355 2024-05-25    Lambeth          DRUG OFFENCES   \n",
       "\n",
       "                          Crime group  \\\n",
       "248172            POSSESSION OF DRUGS   \n",
       "298165  PUBLIC FEAR ALARM OR DISTRESS   \n",
       "84441                     SHOPLIFTING   \n",
       "386902                    SHOPLIFTING   \n",
       "259355            POSSESSION OF DRUGS   \n",
       "\n",
       "                                                  Outcome Positive Outcome  \\\n",
       "248172               Charged/Summonsed/Postal Requisition                Y   \n",
       "298165  Investigation Complete; No Suspect Identified....                N   \n",
       "84441   Investigation Complete; No Suspect Identified....                N   \n",
       "386902  Investigation Complete; No Suspect Identified....                N   \n",
       "259355                       Community resolution (Crime)                Y   \n",
       "\n",
       "        Outcome Count  Year  Month    Weekday  \n",
       "248172              1  2024      6     Monday  \n",
       "298165              1  2024      9  Wednesday  \n",
       "84441              18  2023      6   Thursday  \n",
       "386902              3  2024      3     Sunday  \n",
       "259355              7  2024      5   Saturday  "
      ]
     },
     "execution_count": 18,
     "metadata": {},
     "output_type": "execute_result"
    }
   ],
   "source": [
    "df.drop(columns=['Measure', 'Refresh Date'], inplace=True)\n",
    "df.head()"
   ]
  },
  {
   "cell_type": "markdown",
   "id": "c950aa2f",
   "metadata": {},
   "source": [
    "### Save cleaned data as csv"
   ]
  },
  {
   "cell_type": "code",
   "execution_count": 19,
   "id": "6eaeb2d4",
   "metadata": {},
   "outputs": [],
   "source": [
    "df.to_csv(\"../dataset/data_cleaned.csv\", index=False)"
   ]
  },
  {
   "cell_type": "markdown",
   "id": "497b6660",
   "metadata": {},
   "source": [
    "##### The next step taken is Exporatory Data Analysis which can find from [here](https://github.com/Kaori61/crime-data-analysis/blob/main/jupyter_notebooks/exploratory_data_analysis.ipynb).\n",
    "Go back to [README](https://github.com/Kaori61/crime-data-analysis/blob/main/README.md) / [Statistical analysis](https://github.com/Kaori61/crime-data-analysis/blob/main/jupyter_notebooks/statistical_analysis.ipynb) / [Dashboard](https://public.tableau.com/views/LondonBusinessCrimeAnalysis/Dashboard1?:language=en-GB&:sid=&:redirect=auth&:display_count=n&:origin=viz_share_link)\n"
   ]
  },
  {
   "cell_type": "markdown",
   "id": "734b391e",
   "metadata": {},
   "source": []
  }
 ],
 "metadata": {
  "kernelspec": {
   "display_name": ".venv",
   "language": "python",
   "name": "python3"
  },
  "language_info": {
   "codemirror_mode": {
    "name": "ipython",
    "version": 3
   },
   "file_extension": ".py",
   "mimetype": "text/x-python",
   "name": "python",
   "nbconvert_exporter": "python",
   "pygments_lexer": "ipython3",
   "version": "3.12.8"
  }
 },
 "nbformat": 4,
 "nbformat_minor": 5
}
