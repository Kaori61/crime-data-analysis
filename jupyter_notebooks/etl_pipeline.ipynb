{
 "cells": [
  {
   "cell_type": "markdown",
   "id": "b409d289",
   "metadata": {},
   "source": [
    "# London Business Crime investigations"
   ]
  },
  {
   "cell_type": "markdown",
   "id": "5ffa74e2",
   "metadata": {},
   "source": [
    "## Navigation\n",
    "* [README](https://github.com/Kaori61/crime-data-analysis/blob/main/README.md)"
   ]
  }
 ],
 "metadata": {
  "language_info": {
   "name": "python"
  }
 },
 "nbformat": 4,
 "nbformat_minor": 5
}
