{
 "cells": [
  {
   "cell_type": "markdown",
   "id": "b409d289",
   "metadata": {},
   "source": [
    "# London Business Crime investigations"
   ]
  },
  {
   "cell_type": "markdown",
   "id": "5ffa74e2",
   "metadata": {},
   "source": [
    "### Navigation\n",
    "* [README](https://github.com/Kaori61/crime-data-analysis/blob/main/README.md)"
   ]
  },
  {
   "cell_type": "markdown",
   "id": "e9e0c916",
   "metadata": {},
   "source": [
    "### Import libraries and load data"
   ]
  },
  {
   "cell_type": "code",
   "execution_count": 1,
   "id": "2d27e0e0",
   "metadata": {},
   "outputs": [],
   "source": [
    "# import necessary libraries\n",
    "import pandas as pd\n",
    "import numpy as np"
   ]
  },
  {
   "cell_type": "code",
   "execution_count": 7,
   "id": "ba07579e",
   "metadata": {},
   "outputs": [
    {
     "data": {
      "text/html": [
       "<div>\n",
       "<style scoped>\n",
       "    .dataframe tbody tr th:only-of-type {\n",
       "        vertical-align: middle;\n",
       "    }\n",
       "\n",
       "    .dataframe tbody tr th {\n",
       "        vertical-align: top;\n",
       "    }\n",
       "\n",
       "    .dataframe thead th {\n",
       "        text-align: right;\n",
       "    }\n",
       "</style>\n",
       "<table border=\"1\" class=\"dataframe\">\n",
       "  <thead>\n",
       "    <tr style=\"text-align: right;\">\n",
       "      <th></th>\n",
       "      <th>Date</th>\n",
       "      <th>Measure</th>\n",
       "      <th>Borough</th>\n",
       "      <th>Crime Section</th>\n",
       "      <th>Crime group</th>\n",
       "      <th>Outcome</th>\n",
       "      <th>Positive Outcome</th>\n",
       "      <th>Outcome Count</th>\n",
       "      <th>Refresh Date</th>\n",
       "    </tr>\n",
       "  </thead>\n",
       "  <tbody>\n",
       "    <tr>\n",
       "      <th>0</th>\n",
       "      <td>2023-06-01</td>\n",
       "      <td>Business Crime Outcomes</td>\n",
       "      <td>Barking and Dagenham</td>\n",
       "      <td>POSSESSION OF WEAPONS</td>\n",
       "      <td>POSSESSION OF WEAPONS</td>\n",
       "      <td>Investigation Complete; No Suspect Identified....</td>\n",
       "      <td>N</td>\n",
       "      <td>1.0</td>\n",
       "      <td>2025-06-05</td>\n",
       "    </tr>\n",
       "    <tr>\n",
       "      <th>1</th>\n",
       "      <td>2023-06-01</td>\n",
       "      <td>Business Crime Outcomes</td>\n",
       "      <td>Barking and Dagenham</td>\n",
       "      <td>THEFT</td>\n",
       "      <td>OTHER THEFT</td>\n",
       "      <td>Investigation Complete; No Suspect Identified....</td>\n",
       "      <td>N</td>\n",
       "      <td>2.0</td>\n",
       "      <td>2025-06-05</td>\n",
       "    </tr>\n",
       "    <tr>\n",
       "      <th>2</th>\n",
       "      <td>2023-06-01</td>\n",
       "      <td>Business Crime Outcomes</td>\n",
       "      <td>Barking and Dagenham</td>\n",
       "      <td>THEFT</td>\n",
       "      <td>SHOPLIFTING</td>\n",
       "      <td>Named Suspect Identified: Victim Supports Poli...</td>\n",
       "      <td>N</td>\n",
       "      <td>2.0</td>\n",
       "      <td>2025-06-05</td>\n",
       "    </tr>\n",
       "    <tr>\n",
       "      <th>3</th>\n",
       "      <td>2023-06-01</td>\n",
       "      <td>Business Crime Outcomes</td>\n",
       "      <td>Barking and Dagenham</td>\n",
       "      <td>VIOLENCE AGAINST THE PERSON</td>\n",
       "      <td>VIOLENCE WITH INJURY</td>\n",
       "      <td>Named Suspect Identified: Evidential Difficult...</td>\n",
       "      <td>N</td>\n",
       "      <td>2.0</td>\n",
       "      <td>2025-06-05</td>\n",
       "    </tr>\n",
       "    <tr>\n",
       "      <th>4</th>\n",
       "      <td>2023-06-01</td>\n",
       "      <td>Business Crime Outcomes</td>\n",
       "      <td>Barnet</td>\n",
       "      <td>ARSON AND CRIMINAL DAMAGE</td>\n",
       "      <td>CRIMINAL DAMAGE</td>\n",
       "      <td>Named Suspect Identified: Victim Supports Poli...</td>\n",
       "      <td>N</td>\n",
       "      <td>1.0</td>\n",
       "      <td>2025-06-05</td>\n",
       "    </tr>\n",
       "  </tbody>\n",
       "</table>\n",
       "</div>"
      ],
      "text/plain": [
       "         Date                  Measure               Borough  \\\n",
       "0  2023-06-01  Business Crime Outcomes  Barking and Dagenham   \n",
       "1  2023-06-01  Business Crime Outcomes  Barking and Dagenham   \n",
       "2  2023-06-01  Business Crime Outcomes  Barking and Dagenham   \n",
       "3  2023-06-01  Business Crime Outcomes  Barking and Dagenham   \n",
       "4  2023-06-01  Business Crime Outcomes                Barnet   \n",
       "\n",
       "                 Crime Section            Crime group  \\\n",
       "0        POSSESSION OF WEAPONS  POSSESSION OF WEAPONS   \n",
       "1                        THEFT            OTHER THEFT   \n",
       "2                        THEFT            SHOPLIFTING   \n",
       "3  VIOLENCE AGAINST THE PERSON   VIOLENCE WITH INJURY   \n",
       "4    ARSON AND CRIMINAL DAMAGE        CRIMINAL DAMAGE   \n",
       "\n",
       "                                             Outcome Positive Outcome  \\\n",
       "0  Investigation Complete; No Suspect Identified....                N   \n",
       "1  Investigation Complete; No Suspect Identified....                N   \n",
       "2  Named Suspect Identified: Victim Supports Poli...                N   \n",
       "3  Named Suspect Identified: Evidential Difficult...                N   \n",
       "4  Named Suspect Identified: Victim Supports Poli...                N   \n",
       "\n",
       "   Outcome Count Refresh Date  \n",
       "0            1.0   2025-06-05  \n",
       "1            2.0   2025-06-05  \n",
       "2            2.0   2025-06-05  \n",
       "3            2.0   2025-06-05  \n",
       "4            1.0   2025-06-05  "
      ]
     },
     "execution_count": 7,
     "metadata": {},
     "output_type": "execute_result"
    }
   ],
   "source": [
    "# loading csv data \n",
    "df = pd.read_csv('../dataset/raw_data.csv')\n",
    "df.head()"
   ]
  },
  {
   "cell_type": "code",
   "execution_count": 10,
   "id": "af48685f",
   "metadata": {},
   "outputs": [
    {
     "data": {
      "text/plain": [
       "(407342, 9)"
      ]
     },
     "execution_count": 10,
     "metadata": {},
     "output_type": "execute_result"
    }
   ],
   "source": [
    "# check the dataset is loaded correctly \n",
    "df.shape"
   ]
  },
  {
   "cell_type": "markdown",
   "id": "bb67e7dc",
   "metadata": {},
   "source": [
    "# Data cleaning"
   ]
  },
  {
   "cell_type": "code",
   "execution_count": 12,
   "id": "45609cf3",
   "metadata": {},
   "outputs": [
    {
     "data": {
      "text/plain": [
       "Date                   1\n",
       "Measure                1\n",
       "Borough                1\n",
       "Crime Section          1\n",
       "Crime group            1\n",
       "Outcome             1315\n",
       "Positive Outcome       1\n",
       "Outcome Count          1\n",
       "Refresh Date           1\n",
       "dtype: int64"
      ]
     },
     "execution_count": 12,
     "metadata": {},
     "output_type": "execute_result"
    }
   ],
   "source": [
    "# check for null values\n",
    "df.isnull().sum()"
   ]
  },
  {
   "cell_type": "code",
   "execution_count": null,
   "id": "027a7b96",
   "metadata": {},
   "outputs": [],
   "source": []
  },
  {
   "cell_type": "markdown",
   "id": "0ba255d9",
   "metadata": {},
   "source": [
    "The outcome column contains the description of crime outcome. Missing value in outcome is likely no outcome yet"
   ]
  },
  {
   "cell_type": "code",
   "execution_count": null,
   "id": "f8978f58",
   "metadata": {},
   "outputs": [],
   "source": []
  }
 ],
 "metadata": {
  "kernelspec": {
   "display_name": ".venv",
   "language": "python",
   "name": "python3"
  },
  "language_info": {
   "codemirror_mode": {
    "name": "ipython",
    "version": 3
   },
   "file_extension": ".py",
   "mimetype": "text/x-python",
   "name": "python",
   "nbconvert_exporter": "python",
   "pygments_lexer": "ipython3",
   "version": "3.12.8"
  }
 },
 "nbformat": 4,
 "nbformat_minor": 5
}
