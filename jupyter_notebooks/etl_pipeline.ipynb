{
 "cells": [
  {
   "cell_type": "markdown",
   "id": "b409d289",
   "metadata": {},
   "source": [
    "# London Business Crime investigations"
   ]
  },
  {
   "cell_type": "markdown",
   "id": "5ffa74e2",
   "metadata": {},
   "source": [
    "### Navigation\n",
    "* [README](https://github.com/Kaori61/crime-data-analysis/blob/main/README.md)\n",
    "* [Clean data](https://github.com/Kaori61/crime-data-analysis/blob/main/dataset/cleaned_data.csv)\n",
    "* [Raw data](https://github.com/Kaori61/crime-data-analysis/blob/main/dataset/raw_data.csv)\n",
    "* [Exploratory data analysis (EDA)](https://github.com/Kaori61/crime-data-analysis/blob/main/jupyter_notebooks/exploratory_data_analysis.ipynb)\n",
    "* [Statistical analysis](https://github.com/Kaori61/crime-data-analysis/blob/main/jupyter_notebooks/statistical_analysis.ipynb)"
   ]
  },
  {
   "cell_type": "markdown",
   "id": "e9e0c916",
   "metadata": {},
   "source": [
    "### Import libraries and load data"
   ]
  },
  {
   "cell_type": "code",
   "execution_count": 1,
   "id": "2d27e0e0",
   "metadata": {},
   "outputs": [],
   "source": [
    "# import necessary libraries\n",
    "import pandas as pd\n",
    "import numpy as np"
   ]
  },
  {
   "cell_type": "code",
   "execution_count": 2,
   "id": "ba07579e",
   "metadata": {},
   "outputs": [
    {
     "data": {
      "text/html": [
       "<div>\n",
       "<style scoped>\n",
       "    .dataframe tbody tr th:only-of-type {\n",
       "        vertical-align: middle;\n",
       "    }\n",
       "\n",
       "    .dataframe tbody tr th {\n",
       "        vertical-align: top;\n",
       "    }\n",
       "\n",
       "    .dataframe thead th {\n",
       "        text-align: right;\n",
       "    }\n",
       "</style>\n",
       "<table border=\"1\" class=\"dataframe\">\n",
       "  <thead>\n",
       "    <tr style=\"text-align: right;\">\n",
       "      <th></th>\n",
       "      <th>Date</th>\n",
       "      <th>Measure</th>\n",
       "      <th>Borough</th>\n",
       "      <th>Crime Section</th>\n",
       "      <th>Crime group</th>\n",
       "      <th>Outcome</th>\n",
       "      <th>Positive Outcome</th>\n",
       "      <th>Outcome Count</th>\n",
       "      <th>Refresh Date</th>\n",
       "    </tr>\n",
       "  </thead>\n",
       "  <tbody>\n",
       "    <tr>\n",
       "      <th>0</th>\n",
       "      <td>2023-01-01</td>\n",
       "      <td>Business Crime Outcomes</td>\n",
       "      <td>Barnet</td>\n",
       "      <td>PUBLIC ORDER OFFENCES</td>\n",
       "      <td>PUBLIC FEAR ALARM OR DISTRESS</td>\n",
       "      <td>Evidential Difficulties Victim Based-Named Sus...</td>\n",
       "      <td>N</td>\n",
       "      <td>1</td>\n",
       "      <td>2025-01-05</td>\n",
       "    </tr>\n",
       "    <tr>\n",
       "      <th>1</th>\n",
       "      <td>2023-01-01</td>\n",
       "      <td>Business Crime Outcomes</td>\n",
       "      <td>Barnet</td>\n",
       "      <td>ROBBERY</td>\n",
       "      <td>ROBBERY OF BUSINESS PROPERTY</td>\n",
       "      <td>Investigation Complete; No Suspect Identified....</td>\n",
       "      <td>N</td>\n",
       "      <td>1</td>\n",
       "      <td>2025-01-05</td>\n",
       "    </tr>\n",
       "    <tr>\n",
       "      <th>2</th>\n",
       "      <td>2023-01-01</td>\n",
       "      <td>Business Crime Outcomes</td>\n",
       "      <td>Barnet</td>\n",
       "      <td>THEFT</td>\n",
       "      <td>SHOPLIFTING</td>\n",
       "      <td>Evidential Difficulties Victim Based-Named Sus...</td>\n",
       "      <td>N</td>\n",
       "      <td>4</td>\n",
       "      <td>2025-01-05</td>\n",
       "    </tr>\n",
       "    <tr>\n",
       "      <th>3</th>\n",
       "      <td>2023-01-01</td>\n",
       "      <td>Business Crime Outcomes</td>\n",
       "      <td>Barnet</td>\n",
       "      <td>VIOLENCE AGAINST THE PERSON</td>\n",
       "      <td>VIOLENCE WITHOUT INJURY</td>\n",
       "      <td>Evidential Difficulties Victim Based-Named Sus...</td>\n",
       "      <td>N</td>\n",
       "      <td>1</td>\n",
       "      <td>2025-01-05</td>\n",
       "    </tr>\n",
       "    <tr>\n",
       "      <th>4</th>\n",
       "      <td>2023-01-01</td>\n",
       "      <td>Business Crime Outcomes</td>\n",
       "      <td>Barnet</td>\n",
       "      <td>VIOLENCE AGAINST THE PERSON</td>\n",
       "      <td>VIOLENCE WITHOUT INJURY</td>\n",
       "      <td>Investigation Complete; No Suspect Identified....</td>\n",
       "      <td>N</td>\n",
       "      <td>1</td>\n",
       "      <td>2025-01-05</td>\n",
       "    </tr>\n",
       "  </tbody>\n",
       "</table>\n",
       "</div>"
      ],
      "text/plain": [
       "         Date                  Measure Borough                Crime Section  \\\n",
       "0  2023-01-01  Business Crime Outcomes  Barnet        PUBLIC ORDER OFFENCES   \n",
       "1  2023-01-01  Business Crime Outcomes  Barnet                      ROBBERY   \n",
       "2  2023-01-01  Business Crime Outcomes  Barnet                        THEFT   \n",
       "3  2023-01-01  Business Crime Outcomes  Barnet  VIOLENCE AGAINST THE PERSON   \n",
       "4  2023-01-01  Business Crime Outcomes  Barnet  VIOLENCE AGAINST THE PERSON   \n",
       "\n",
       "                     Crime group  \\\n",
       "0  PUBLIC FEAR ALARM OR DISTRESS   \n",
       "1   ROBBERY OF BUSINESS PROPERTY   \n",
       "2                    SHOPLIFTING   \n",
       "3        VIOLENCE WITHOUT INJURY   \n",
       "4        VIOLENCE WITHOUT INJURY   \n",
       "\n",
       "                                             Outcome Positive Outcome  \\\n",
       "0  Evidential Difficulties Victim Based-Named Sus...                N   \n",
       "1  Investigation Complete; No Suspect Identified....                N   \n",
       "2  Evidential Difficulties Victim Based-Named Sus...                N   \n",
       "3  Evidential Difficulties Victim Based-Named Sus...                N   \n",
       "4  Investigation Complete; No Suspect Identified....                N   \n",
       "\n",
       "   Outcome Count Refresh Date  \n",
       "0              1   2025-01-05  \n",
       "1              1   2025-01-05  \n",
       "2              4   2025-01-05  \n",
       "3              1   2025-01-05  \n",
       "4              1   2025-01-05  "
      ]
     },
     "execution_count": 2,
     "metadata": {},
     "output_type": "execute_result"
    }
   ],
   "source": [
    "# loading csv data \n",
    "df = pd.read_csv('../dataset/raw_data.csv')\n",
    "df.head()"
   ]
  },
  {
   "cell_type": "code",
   "execution_count": 3,
   "id": "af48685f",
   "metadata": {},
   "outputs": [
    {
     "data": {
      "text/plain": [
       "(415847, 9)"
      ]
     },
     "execution_count": 3,
     "metadata": {},
     "output_type": "execute_result"
    }
   ],
   "source": [
    "# check the dataset is loaded correctly \n",
    "df.shape"
   ]
  },
  {
   "cell_type": "markdown",
   "id": "bb67e7dc",
   "metadata": {},
   "source": [
    "# Data cleaning"
   ]
  },
  {
   "cell_type": "markdown",
   "id": "abe5c77e",
   "metadata": {},
   "source": [
    "### Check for Null values"
   ]
  },
  {
   "cell_type": "code",
   "execution_count": 4,
   "id": "45609cf3",
   "metadata": {},
   "outputs": [
    {
     "data": {
      "text/plain": [
       "Date                   0\n",
       "Measure                0\n",
       "Borough                0\n",
       "Crime Section          0\n",
       "Crime group            0\n",
       "Outcome             1171\n",
       "Positive Outcome       0\n",
       "Outcome Count          0\n",
       "Refresh Date           0\n",
       "dtype: int64"
      ]
     },
     "execution_count": 4,
     "metadata": {},
     "output_type": "execute_result"
    }
   ],
   "source": [
    "# check for null values\n",
    "df.isnull().sum()"
   ]
  },
  {
   "cell_type": "markdown",
   "id": "0ba255d9",
   "metadata": {},
   "source": [
    "The Outcome column contains the description of the crime outcome. Missing value in this column is likely means there is no recorded outcome yet. Therefore, null values in Outcome column will be replaced with \"No outcome yet\","
   ]
  },
  {
   "cell_type": "markdown",
   "id": "19061591",
   "metadata": {},
   "source": [
    "#### Handling missing Outcome values"
   ]
  },
  {
   "cell_type": "code",
   "execution_count": 5,
   "id": "f8978f58",
   "metadata": {},
   "outputs": [
    {
     "data": {
      "text/html": [
       "<div>\n",
       "<style scoped>\n",
       "    .dataframe tbody tr th:only-of-type {\n",
       "        vertical-align: middle;\n",
       "    }\n",
       "\n",
       "    .dataframe tbody tr th {\n",
       "        vertical-align: top;\n",
       "    }\n",
       "\n",
       "    .dataframe thead th {\n",
       "        text-align: right;\n",
       "    }\n",
       "</style>\n",
       "<table border=\"1\" class=\"dataframe\">\n",
       "  <thead>\n",
       "    <tr style=\"text-align: right;\">\n",
       "      <th></th>\n",
       "      <th>Date</th>\n",
       "      <th>Measure</th>\n",
       "      <th>Borough</th>\n",
       "      <th>Crime Section</th>\n",
       "      <th>Crime group</th>\n",
       "      <th>Outcome</th>\n",
       "      <th>Positive Outcome</th>\n",
       "      <th>Outcome Count</th>\n",
       "      <th>Refresh Date</th>\n",
       "    </tr>\n",
       "  </thead>\n",
       "  <tbody>\n",
       "    <tr>\n",
       "      <th>207012</th>\n",
       "      <td>2024-03-17</td>\n",
       "      <td>Business Crime Outcomes</td>\n",
       "      <td>Other</td>\n",
       "      <td>MISCELLANEOUS CRIMES AGAINST SOCIETY</td>\n",
       "      <td>MISC CRIMES AGAINST SOCIETY</td>\n",
       "      <td>NaN</td>\n",
       "      <td>N</td>\n",
       "      <td>1</td>\n",
       "      <td>2025-01-05</td>\n",
       "    </tr>\n",
       "    <tr>\n",
       "      <th>217397</th>\n",
       "      <td>2024-03-22</td>\n",
       "      <td>Business Crime Outcomes</td>\n",
       "      <td>Croydon</td>\n",
       "      <td>VIOLENCE AGAINST THE PERSON</td>\n",
       "      <td>VIOLENCE WITHOUT INJURY</td>\n",
       "      <td>NaN</td>\n",
       "      <td>N</td>\n",
       "      <td>1</td>\n",
       "      <td>2025-01-05</td>\n",
       "    </tr>\n",
       "    <tr>\n",
       "      <th>217640</th>\n",
       "      <td>2024-03-23</td>\n",
       "      <td>Business Crime Outcomes</td>\n",
       "      <td>Hillingdon</td>\n",
       "      <td>MISCELLANEOUS CRIMES AGAINST SOCIETY</td>\n",
       "      <td>MISC CRIMES AGAINST SOCIETY</td>\n",
       "      <td>NaN</td>\n",
       "      <td>N</td>\n",
       "      <td>1</td>\n",
       "      <td>2025-01-05</td>\n",
       "    </tr>\n",
       "    <tr>\n",
       "      <th>217899</th>\n",
       "      <td>2024-04-19</td>\n",
       "      <td>Business Crime Outcomes</td>\n",
       "      <td>Havering</td>\n",
       "      <td>PUBLIC ORDER OFFENCES</td>\n",
       "      <td>PUBLIC FEAR ALARM OR DISTRESS</td>\n",
       "      <td>NaN</td>\n",
       "      <td>N</td>\n",
       "      <td>1</td>\n",
       "      <td>2025-01-05</td>\n",
       "    </tr>\n",
       "    <tr>\n",
       "      <th>220420</th>\n",
       "      <td>2024-04-01</td>\n",
       "      <td>Business Crime Outcomes</td>\n",
       "      <td>Hillingdon</td>\n",
       "      <td>VIOLENCE AGAINST THE PERSON</td>\n",
       "      <td>VIOLENCE WITHOUT INJURY</td>\n",
       "      <td>NaN</td>\n",
       "      <td>N</td>\n",
       "      <td>1</td>\n",
       "      <td>2025-01-05</td>\n",
       "    </tr>\n",
       "    <tr>\n",
       "      <th>...</th>\n",
       "      <td>...</td>\n",
       "      <td>...</td>\n",
       "      <td>...</td>\n",
       "      <td>...</td>\n",
       "      <td>...</td>\n",
       "      <td>...</td>\n",
       "      <td>...</td>\n",
       "      <td>...</td>\n",
       "      <td>...</td>\n",
       "    </tr>\n",
       "    <tr>\n",
       "      <th>414749</th>\n",
       "      <td>2024-12-18</td>\n",
       "      <td>Business Crime Outcomes</td>\n",
       "      <td>Waltham Forest</td>\n",
       "      <td>DRUG OFFENCES</td>\n",
       "      <td>TRAFFICKING OF DRUGS</td>\n",
       "      <td>NaN</td>\n",
       "      <td>N</td>\n",
       "      <td>1</td>\n",
       "      <td>2025-01-05</td>\n",
       "    </tr>\n",
       "    <tr>\n",
       "      <th>414798</th>\n",
       "      <td>2024-12-19</td>\n",
       "      <td>Business Crime Outcomes</td>\n",
       "      <td>Ealing</td>\n",
       "      <td>SEXUAL OFFENCES</td>\n",
       "      <td>RAPE</td>\n",
       "      <td>NaN</td>\n",
       "      <td>N</td>\n",
       "      <td>1</td>\n",
       "      <td>2025-01-05</td>\n",
       "    </tr>\n",
       "    <tr>\n",
       "      <th>414941</th>\n",
       "      <td>2024-12-20</td>\n",
       "      <td>Business Crime Outcomes</td>\n",
       "      <td>Hillingdon</td>\n",
       "      <td>THEFT</td>\n",
       "      <td>OTHER THEFT</td>\n",
       "      <td>NaN</td>\n",
       "      <td>N</td>\n",
       "      <td>1</td>\n",
       "      <td>2025-01-05</td>\n",
       "    </tr>\n",
       "    <tr>\n",
       "      <th>415014</th>\n",
       "      <td>2024-12-21</td>\n",
       "      <td>Business Crime Outcomes</td>\n",
       "      <td>Croydon</td>\n",
       "      <td>BURGLARY</td>\n",
       "      <td>BURGLARY BUSINESS AND COMMUNITY</td>\n",
       "      <td>NaN</td>\n",
       "      <td>N</td>\n",
       "      <td>1</td>\n",
       "      <td>2025-01-05</td>\n",
       "    </tr>\n",
       "    <tr>\n",
       "      <th>415175</th>\n",
       "      <td>2024-12-22</td>\n",
       "      <td>Business Crime Outcomes</td>\n",
       "      <td>Westminster</td>\n",
       "      <td>VIOLENCE AGAINST THE PERSON</td>\n",
       "      <td>VIOLENCE WITHOUT INJURY</td>\n",
       "      <td>NaN</td>\n",
       "      <td>N</td>\n",
       "      <td>1</td>\n",
       "      <td>2025-01-05</td>\n",
       "    </tr>\n",
       "  </tbody>\n",
       "</table>\n",
       "<p>1171 rows × 9 columns</p>\n",
       "</div>"
      ],
      "text/plain": [
       "              Date                  Measure         Borough  \\\n",
       "207012  2024-03-17  Business Crime Outcomes           Other   \n",
       "217397  2024-03-22  Business Crime Outcomes         Croydon   \n",
       "217640  2024-03-23  Business Crime Outcomes      Hillingdon   \n",
       "217899  2024-04-19  Business Crime Outcomes        Havering   \n",
       "220420  2024-04-01  Business Crime Outcomes      Hillingdon   \n",
       "...            ...                      ...             ...   \n",
       "414749  2024-12-18  Business Crime Outcomes  Waltham Forest   \n",
       "414798  2024-12-19  Business Crime Outcomes          Ealing   \n",
       "414941  2024-12-20  Business Crime Outcomes      Hillingdon   \n",
       "415014  2024-12-21  Business Crime Outcomes         Croydon   \n",
       "415175  2024-12-22  Business Crime Outcomes     Westminster   \n",
       "\n",
       "                               Crime Section                      Crime group  \\\n",
       "207012  MISCELLANEOUS CRIMES AGAINST SOCIETY      MISC CRIMES AGAINST SOCIETY   \n",
       "217397           VIOLENCE AGAINST THE PERSON          VIOLENCE WITHOUT INJURY   \n",
       "217640  MISCELLANEOUS CRIMES AGAINST SOCIETY      MISC CRIMES AGAINST SOCIETY   \n",
       "217899                 PUBLIC ORDER OFFENCES    PUBLIC FEAR ALARM OR DISTRESS   \n",
       "220420           VIOLENCE AGAINST THE PERSON          VIOLENCE WITHOUT INJURY   \n",
       "...                                      ...                              ...   \n",
       "414749                         DRUG OFFENCES             TRAFFICKING OF DRUGS   \n",
       "414798                       SEXUAL OFFENCES                             RAPE   \n",
       "414941                                 THEFT                      OTHER THEFT   \n",
       "415014                              BURGLARY  BURGLARY BUSINESS AND COMMUNITY   \n",
       "415175           VIOLENCE AGAINST THE PERSON          VIOLENCE WITHOUT INJURY   \n",
       "\n",
       "       Outcome Positive Outcome  Outcome Count Refresh Date  \n",
       "207012     NaN                N              1   2025-01-05  \n",
       "217397     NaN                N              1   2025-01-05  \n",
       "217640     NaN                N              1   2025-01-05  \n",
       "217899     NaN                N              1   2025-01-05  \n",
       "220420     NaN                N              1   2025-01-05  \n",
       "...        ...              ...            ...          ...  \n",
       "414749     NaN                N              1   2025-01-05  \n",
       "414798     NaN                N              1   2025-01-05  \n",
       "414941     NaN                N              1   2025-01-05  \n",
       "415014     NaN                N              1   2025-01-05  \n",
       "415175     NaN                N              1   2025-01-05  \n",
       "\n",
       "[1171 rows x 9 columns]"
      ]
     },
     "execution_count": 5,
     "metadata": {},
     "output_type": "execute_result"
    }
   ],
   "source": [
    "# check rows with missing outcome values\n",
    "df[df['Outcome'].isnull()]"
   ]
  },
  {
   "cell_type": "code",
   "execution_count": 6,
   "id": "52f0c6a2",
   "metadata": {},
   "outputs": [
    {
     "data": {
      "text/plain": [
       "np.int64(1171)"
      ]
     },
     "execution_count": 6,
     "metadata": {},
     "output_type": "execute_result"
    }
   ],
   "source": [
    "# replacing null values in Outcome with 'No outcome yet'\n",
    "df['Outcome'] = df['Outcome'].fillna('No outcome yet')\n",
    "\n",
    "# check null values are replaced\n",
    "(df['Outcome'] == 'No outcome yet').sum()"
   ]
  },
  {
   "cell_type": "markdown",
   "id": "42abda2a",
   "metadata": {},
   "source": [
    "Missing values are replaced with 'No outocme yet'"
   ]
  },
  {
   "cell_type": "markdown",
   "id": "4162d37e",
   "metadata": {},
   "source": [
    "#### Handling other null values"
   ]
  },
  {
   "cell_type": "code",
   "execution_count": 7,
   "id": "d2beb444",
   "metadata": {},
   "outputs": [
    {
     "data": {
      "text/html": [
       "<div>\n",
       "<style scoped>\n",
       "    .dataframe tbody tr th:only-of-type {\n",
       "        vertical-align: middle;\n",
       "    }\n",
       "\n",
       "    .dataframe tbody tr th {\n",
       "        vertical-align: top;\n",
       "    }\n",
       "\n",
       "    .dataframe thead th {\n",
       "        text-align: right;\n",
       "    }\n",
       "</style>\n",
       "<table border=\"1\" class=\"dataframe\">\n",
       "  <thead>\n",
       "    <tr style=\"text-align: right;\">\n",
       "      <th></th>\n",
       "      <th>Date</th>\n",
       "      <th>Measure</th>\n",
       "      <th>Borough</th>\n",
       "      <th>Crime Section</th>\n",
       "      <th>Crime group</th>\n",
       "      <th>Outcome</th>\n",
       "      <th>Positive Outcome</th>\n",
       "      <th>Outcome Count</th>\n",
       "      <th>Refresh Date</th>\n",
       "    </tr>\n",
       "  </thead>\n",
       "  <tbody>\n",
       "  </tbody>\n",
       "</table>\n",
       "</div>"
      ],
      "text/plain": [
       "Empty DataFrame\n",
       "Columns: [Date, Measure, Borough, Crime Section, Crime group, Outcome, Positive Outcome, Outcome Count, Refresh Date]\n",
       "Index: []"
      ]
     },
     "execution_count": 7,
     "metadata": {},
     "output_type": "execute_result"
    }
   ],
   "source": [
    "# check missing value in Date column\n",
    "df[df['Date'].isnull()]"
   ]
  },
  {
   "cell_type": "markdown",
   "id": "93156fdc",
   "metadata": {},
   "source": [
    "This row didn't have any values so I will delete this row."
   ]
  },
  {
   "cell_type": "code",
   "execution_count": 8,
   "id": "0a58a2f1",
   "metadata": {},
   "outputs": [],
   "source": [
    "# delete row 407341\n",
    "df = df.drop(407341)"
   ]
  },
  {
   "cell_type": "code",
   "execution_count": 9,
   "id": "b46bd458",
   "metadata": {},
   "outputs": [
    {
     "data": {
      "text/plain": [
       "Date                0\n",
       "Measure             0\n",
       "Borough             0\n",
       "Crime Section       0\n",
       "Crime group         0\n",
       "Outcome             0\n",
       "Positive Outcome    0\n",
       "Outcome Count       0\n",
       "Refresh Date        0\n",
       "dtype: int64"
      ]
     },
     "execution_count": 9,
     "metadata": {},
     "output_type": "execute_result"
    }
   ],
   "source": [
    "# check null value\n",
    "df.isnull().sum()"
   ]
  },
  {
   "cell_type": "markdown",
   "id": "aa2339fa",
   "metadata": {},
   "source": [
    "All missing values are handled now."
   ]
  },
  {
   "cell_type": "markdown",
   "id": "e90a3e06",
   "metadata": {},
   "source": [
    "### Check data type"
   ]
  },
  {
   "cell_type": "code",
   "execution_count": 10,
   "id": "9abf53de",
   "metadata": {},
   "outputs": [
    {
     "data": {
      "text/plain": [
       "Date                object\n",
       "Measure             object\n",
       "Borough             object\n",
       "Crime Section       object\n",
       "Crime group         object\n",
       "Outcome             object\n",
       "Positive Outcome    object\n",
       "Outcome Count        int64\n",
       "Refresh Date        object\n",
       "dtype: object"
      ]
     },
     "execution_count": 10,
     "metadata": {},
     "output_type": "execute_result"
    }
   ],
   "source": [
    "df.dtypes"
   ]
  },
  {
   "cell_type": "markdown",
   "id": "e9e10bb6",
   "metadata": {},
   "source": [
    "Date and Refresh Date needs to be in date format so I will convert into date format."
   ]
  },
  {
   "cell_type": "code",
   "execution_count": 11,
   "id": "a1d7aa39",
   "metadata": {},
   "outputs": [
    {
     "data": {
      "text/plain": [
       "Date                datetime64[ns]\n",
       "Measure                     object\n",
       "Borough                     object\n",
       "Crime Section               object\n",
       "Crime group                 object\n",
       "Outcome                     object\n",
       "Positive Outcome            object\n",
       "Outcome Count                int64\n",
       "Refresh Date        datetime64[ns]\n",
       "dtype: object"
      ]
     },
     "execution_count": 11,
     "metadata": {},
     "output_type": "execute_result"
    }
   ],
   "source": [
    "# convert into date format\n",
    "df['Date'] = pd.to_datetime(df['Date'])\n",
    "df['Refresh Date'] = pd.to_datetime(df['Refresh Date'])\n",
    "df.dtypes"
   ]
  },
  {
   "cell_type": "markdown",
   "id": "9d4c968c",
   "metadata": {},
   "source": [
    "Outcome Count should be integer not floaat so I willl convert it into interger."
   ]
  },
  {
   "cell_type": "code",
   "execution_count": 12,
   "id": "fea3be30",
   "metadata": {},
   "outputs": [
    {
     "data": {
      "text/plain": [
       "Date                datetime64[ns]\n",
       "Measure                     object\n",
       "Borough                     object\n",
       "Crime Section               object\n",
       "Crime group                 object\n",
       "Outcome                     object\n",
       "Positive Outcome            object\n",
       "Outcome Count                int64\n",
       "Refresh Date        datetime64[ns]\n",
       "dtype: object"
      ]
     },
     "execution_count": 12,
     "metadata": {},
     "output_type": "execute_result"
    }
   ],
   "source": [
    "# convert into integer\n",
    "df['Outcome Count'] = df['Outcome Count'].astype(int)\n",
    "df.dtypes"
   ]
  },
  {
   "cell_type": "markdown",
   "id": "1d279fb0",
   "metadata": {},
   "source": [
    "### Check inconsistent values"
   ]
  },
  {
   "cell_type": "code",
   "execution_count": 13,
   "id": "9fdd39c6",
   "metadata": {},
   "outputs": [
    {
     "data": {
      "text/plain": [
       "Measure              1\n",
       "Borough             33\n",
       "Crime Section       13\n",
       "Crime group         31\n",
       "Outcome             31\n",
       "Positive Outcome     2\n",
       "dtype: int64"
      ]
     },
     "execution_count": 13,
     "metadata": {},
     "output_type": "execute_result"
    }
   ],
   "source": [
    "# check how many unique values each categorical columns have\n",
    "df.select_dtypes(include='object').nunique()"
   ]
  },
  {
   "cell_type": "code",
   "execution_count": 14,
   "id": "5ce98cae",
   "metadata": {},
   "outputs": [
    {
     "name": "stdout",
     "output_type": "stream",
     "text": [
      "\n",
      " Unique values in 'Measure':\n",
      "Measure\n",
      "Business Crime Outcomes    415846\n",
      "Name: count, dtype: int64\n",
      "\n",
      " Unique values in 'Borough':\n",
      "Borough\n",
      "Westminster               23383\n",
      "Camden                    16688\n",
      "Newham                    15939\n",
      "Tower Hamlets             15830\n",
      "Lambeth                   15773\n",
      "Southwark                 15213\n",
      "Brent                     14673\n",
      "Hackney                   14655\n",
      "Other                     14647\n",
      "Islington                 14266\n",
      "Croydon                   13891\n",
      "Ealing                    13843\n",
      "Hillingdon                13402\n",
      "Greenwich                 13183\n",
      "Wandsworth                13142\n",
      "Haringey                  12993\n",
      "Barnet                    12965\n",
      "Lewisham                  12943\n",
      "Hounslow                  12818\n",
      "Enfield                   12506\n",
      "Hammersmith and Fulham    12154\n",
      "Redbridge                 12005\n",
      "Bromley                   11393\n",
      "Waltham Forest            10745\n",
      "Havering                  10671\n",
      "Kensington and Chelsea    10550\n",
      "Barking and Dagenham      10022\n",
      "Harrow                     8415\n",
      "Merton                     8194\n",
      "Kingston upon Thames       8085\n",
      "Bexley                     7613\n",
      "Sutton                     6869\n",
      "Richmond upon Thames       6377\n",
      "Name: count, dtype: int64\n",
      "\n",
      " Unique values in 'Crime Section':\n",
      "Crime Section\n",
      "THEFT                                   118222\n",
      "VIOLENCE AGAINST THE PERSON              92342\n",
      "PUBLIC ORDER OFFENCES                    43337\n",
      "VEHICLE OFFENCES                         33413\n",
      "ARSON AND CRIMINAL DAMAGE                31573\n",
      "BURGLARY                                 29259\n",
      "ROBBERY                                  24881\n",
      "DRUG OFFENCES                            18131\n",
      "SEXUAL OFFENCES                          13027\n",
      "MISCELLANEOUS CRIMES AGAINST SOCIETY      7145\n",
      "POSSESSION OF WEAPONS                     4112\n",
      "FRAUD AND FORGERY                          392\n",
      "NFIB FRAUD                                  12\n",
      "Name: count, dtype: int64\n",
      "\n",
      " Unique values in 'Crime group':\n",
      "Crime group\n",
      "VIOLENCE WITHOUT INJURY                  54363\n",
      "SHOPLIFTING                              48726\n",
      "VIOLENCE WITH INJURY                     37910\n",
      "OTHER THEFT                              36000\n",
      "CRIMINAL DAMAGE                          29414\n",
      "PUBLIC FEAR ALARM OR DISTRESS            26971\n",
      "THEFT FROM THE PERSON                    23030\n",
      "BURGLARY BUSINESS AND COMMUNITY          21626\n",
      "THEFT FROM A VEHICLE                     16874\n",
      "ROBBERY OF PERSONAL PROPERTY             15557\n",
      "POSSESSION OF DRUGS                      14005\n",
      "THEFT OR UNAUTH TAKING OF A MOTOR VEH    11421\n",
      "RACE OR RELIGIOUS AGG PUBLIC FEAR        11137\n",
      "BICYCLE THEFT                            10466\n",
      "OTHER SEXUAL OFFENCES                    10025\n",
      "ROBBERY OF BUSINESS PROPERTY              9324\n",
      "MISC CRIMES AGAINST SOCIETY               7145\n",
      "OTHER OFFENCES PUBLIC ORDER               5142\n",
      "BURGLARY - RESIDENTIAL                    4970\n",
      "INTERFERING WITH A MOTOR VEHICLE          4846\n",
      "TRAFFICKING OF DRUGS                      4126\n",
      "POSSESSION OF WEAPONS                     4112\n",
      "RAPE                                      3002\n",
      "BURGLARY IN A DWELLING                    2600\n",
      "ARSON                                     2159\n",
      "FRAUD AND FORGERY                          392\n",
      "AGGRAVATED VEHICLE TAKING                  272\n",
      "VIOLENT DISORDER                            87\n",
      "HOMICIDE                                    69\n",
      "BURGLARY NON-DWELLING                       63\n",
      "NFIB                                        12\n",
      "Name: count, dtype: int64\n",
      "\n",
      " Unique values in 'Outcome':\n",
      "Outcome\n",
      "Investigation Complete; No Suspect Identified. Crime Investigated As Far As Reasonably Possible-Case Closed Pending Further Investigative Opportunities Becoming Available                      192104\n",
      "Named Suspect Identified: Victim Supports Police Action But Evidential Difficulties Prevent Further Action                                                                                       57547\n",
      "Named Suspect Identified: Evidential Difficulties Prevent Further Action: Victim Does Not Support (Or Has Withdrawn Support From) Police Action                                                  52355\n",
      "Evidential Difficulties Victim Based-Named Suspect Not Identified: Crime Confirmed But The Victim Either Declines Or Unable To Support Further Police Investigation To Identify The Offender     51038\n",
      "Charged/Summonsed/Postal Requisition                                                                                                                                                             27913\n",
      "Community resolution (Crime)                                                                                                                                                                     11489\n",
      "Outcome Pending (Legacy Only)                                                                                                                                                                     5447\n",
      "Charged/Summons - alternate offence. Offender has been charged under the alternate offence rule.                                                                                                  3898\n",
      "Admin (Legacy Only)                                                                                                                                                                               3049\n",
      "Further action resulting from the crime report will be undertaken by another body or agency subject to the victim (or person acting on their behalf) being made aware of the act to be taken      2068\n",
      "Caution Adult                                                                                                                                                                                     1987\n",
      "Penalty notice for disorder                                                                                                                                                                       1941\n",
      "No outcome yet                                                                                                                                                                                    1171\n",
      "Formal Action Against Offender is not in the Public Interest (Police)                                                                                                                              625\n",
      "No Crime (Legacy Only)                                                                                                                                                                             507\n",
      "Prosecution Prevented-Named Suspect Identified But Is Too Ill (Physical Or Mental Health) To Prosecute                                                                                             497\n",
      "No Investigation, named suspect identified. Capable of proof, but not in public interest to investigate. Supervisor rationale documented in closing report.                                        450\n",
      "Caution Youth                                                                                                                                                                                      352\n",
      "Prosecution Time Limit Expired: Suspect Identified But Prosecution Time Limit Has Expired                                                                                                          294\n",
      "Caution Adult - alternate offence. Offender has been given a simple caution under the alternate offences rule.                                                                                     280\n",
      "No Further Action Police Decision                                                                                                                                                                  275\n",
      "Prosecution Prevented-Named Suspect Identified But Victim Or Key Witness Is Dead Or Too Ill To Give Evidence                                                                                       100\n",
      "Prosecution Not In the Public Interest (CPS)                                                                                                                                                        97\n",
      "Prosecution Prevented-Named Suspect Identified But Is Below The Age Of Criminal Responsibility                                                                                                      91\n",
      "Offender has died                                                                                                                                                                                   74\n",
      "Not in use in the MPS/on CRIS (Legacy Only)                                                                                                                                                         69\n",
      "Diversionary, educational or intervention activity, resulting from the crime report, has been undertaken and it is not in the public interest to take any further action.                           40\n",
      "TIC - Taken into Consideration                                                                                                                                                                      37\n",
      "Caution Youth - alternate offence. Offender is a juvenile and has been given a youth caution under the alternate offences rule.                                                                     30\n",
      "CPS Decision Not to Proceed (Legacy Only)                                                                                                                                                           15\n",
      "Cannabis/Khat Warning                                                                                                                                                                                6\n",
      "Name: count, dtype: int64\n",
      "\n",
      " Unique values in 'Positive Outcome':\n",
      "Positive Outcome\n",
      "N    367913\n",
      "Y     47933\n",
      "Name: count, dtype: int64\n"
     ]
    }
   ],
   "source": [
    "# check what uique values are in all categorical columns\n",
    "for col in df.select_dtypes(include='object').columns:\n",
    "    print(f\"\\n Unique values in '{col}':\")\n",
    "    print(df[col].value_counts(dropna=False))"
   ]
  },
  {
   "cell_type": "markdown",
   "id": "7958acf3",
   "metadata": {},
   "source": [
    "This analysis investigates the geographical crime trend, so an unspecified location isn't useful. Therefore, I will delete 'Other' in the Borough column. "
   ]
  },
  {
   "cell_type": "code",
   "execution_count": 15,
   "id": "731624e7",
   "metadata": {},
   "outputs": [
    {
     "data": {
      "text/plain": [
       "Borough\n",
       "Westminster               23383\n",
       "Camden                    16688\n",
       "Newham                    15939\n",
       "Tower Hamlets             15830\n",
       "Lambeth                   15773\n",
       "Southwark                 15213\n",
       "Brent                     14673\n",
       "Hackney                   14655\n",
       "Islington                 14266\n",
       "Croydon                   13891\n",
       "Ealing                    13843\n",
       "Hillingdon                13402\n",
       "Greenwich                 13183\n",
       "Wandsworth                13142\n",
       "Haringey                  12993\n",
       "Barnet                    12965\n",
       "Lewisham                  12943\n",
       "Hounslow                  12818\n",
       "Enfield                   12506\n",
       "Hammersmith and Fulham    12154\n",
       "Redbridge                 12005\n",
       "Bromley                   11393\n",
       "Waltham Forest            10745\n",
       "Havering                  10671\n",
       "Kensington and Chelsea    10550\n",
       "Barking and Dagenham      10022\n",
       "Harrow                     8415\n",
       "Merton                     8194\n",
       "Kingston upon Thames       8085\n",
       "Bexley                     7613\n",
       "Sutton                     6869\n",
       "Richmond upon Thames       6377\n",
       "Name: count, dtype: int64"
      ]
     },
     "execution_count": 15,
     "metadata": {},
     "output_type": "execute_result"
    }
   ],
   "source": [
    "# keep only the rows that is not equal to 'Other'\n",
    "df = df[df['Borough'] != 'Other']\n",
    "\n",
    "# check if the value is deleted correctly\n",
    "df['Borough'].value_counts()"
   ]
  },
  {
   "cell_type": "code",
   "execution_count": 16,
   "id": "1ba9e6ab",
   "metadata": {},
   "outputs": [
    {
     "data": {
      "text/plain": [
       "Measure              1\n",
       "Borough             32\n",
       "Crime Section       13\n",
       "Crime group         31\n",
       "Outcome             31\n",
       "Positive Outcome     2\n",
       "dtype: int64"
      ]
     },
     "execution_count": 16,
     "metadata": {},
     "output_type": "execute_result"
    }
   ],
   "source": [
    "# check the unique value again\n",
    "df.select_dtypes(include='object').nunique()"
   ]
  },
  {
   "cell_type": "markdown",
   "id": "683f5762",
   "metadata": {},
   "source": [
    "### Check for duplicate"
   ]
  },
  {
   "cell_type": "code",
   "execution_count": 17,
   "id": "f0912220",
   "metadata": {},
   "outputs": [
    {
     "data": {
      "text/plain": [
       "np.int64(0)"
      ]
     },
     "execution_count": 17,
     "metadata": {},
     "output_type": "execute_result"
    }
   ],
   "source": [
    "df.duplicated().sum()"
   ]
  },
  {
   "cell_type": "markdown",
   "id": "113c076f",
   "metadata": {},
   "source": [
    "No duplicate found. Data cleaning process is satisfactory."
   ]
  },
  {
   "cell_type": "markdown",
   "id": "8dd74e5a",
   "metadata": {},
   "source": [
    "## Create new columns"
   ]
  },
  {
   "cell_type": "markdown",
   "id": "74f52882",
   "metadata": {},
   "source": [
    "I would like to make separate columns for Year, Month, Date for analysis."
   ]
  },
  {
   "cell_type": "code",
   "execution_count": 18,
   "id": "a2a2a3bc",
   "metadata": {},
   "outputs": [
    {
     "data": {
      "text/html": [
       "<div>\n",
       "<style scoped>\n",
       "    .dataframe tbody tr th:only-of-type {\n",
       "        vertical-align: middle;\n",
       "    }\n",
       "\n",
       "    .dataframe tbody tr th {\n",
       "        vertical-align: top;\n",
       "    }\n",
       "\n",
       "    .dataframe thead th {\n",
       "        text-align: right;\n",
       "    }\n",
       "</style>\n",
       "<table border=\"1\" class=\"dataframe\">\n",
       "  <thead>\n",
       "    <tr style=\"text-align: right;\">\n",
       "      <th></th>\n",
       "      <th>Date</th>\n",
       "      <th>Measure</th>\n",
       "      <th>Borough</th>\n",
       "      <th>Crime Section</th>\n",
       "      <th>Crime group</th>\n",
       "      <th>Outcome</th>\n",
       "      <th>Positive Outcome</th>\n",
       "      <th>Outcome Count</th>\n",
       "      <th>Refresh Date</th>\n",
       "      <th>Year</th>\n",
       "      <th>Month</th>\n",
       "      <th>Weekday</th>\n",
       "    </tr>\n",
       "  </thead>\n",
       "  <tbody>\n",
       "    <tr>\n",
       "      <th>0</th>\n",
       "      <td>2023-01-01</td>\n",
       "      <td>Business Crime Outcomes</td>\n",
       "      <td>Barnet</td>\n",
       "      <td>PUBLIC ORDER OFFENCES</td>\n",
       "      <td>PUBLIC FEAR ALARM OR DISTRESS</td>\n",
       "      <td>Evidential Difficulties Victim Based-Named Sus...</td>\n",
       "      <td>N</td>\n",
       "      <td>1</td>\n",
       "      <td>2025-01-05</td>\n",
       "      <td>2023</td>\n",
       "      <td>1</td>\n",
       "      <td>Sunday</td>\n",
       "    </tr>\n",
       "    <tr>\n",
       "      <th>1</th>\n",
       "      <td>2023-01-01</td>\n",
       "      <td>Business Crime Outcomes</td>\n",
       "      <td>Barnet</td>\n",
       "      <td>ROBBERY</td>\n",
       "      <td>ROBBERY OF BUSINESS PROPERTY</td>\n",
       "      <td>Investigation Complete; No Suspect Identified....</td>\n",
       "      <td>N</td>\n",
       "      <td>1</td>\n",
       "      <td>2025-01-05</td>\n",
       "      <td>2023</td>\n",
       "      <td>1</td>\n",
       "      <td>Sunday</td>\n",
       "    </tr>\n",
       "    <tr>\n",
       "      <th>2</th>\n",
       "      <td>2023-01-01</td>\n",
       "      <td>Business Crime Outcomes</td>\n",
       "      <td>Barnet</td>\n",
       "      <td>THEFT</td>\n",
       "      <td>SHOPLIFTING</td>\n",
       "      <td>Evidential Difficulties Victim Based-Named Sus...</td>\n",
       "      <td>N</td>\n",
       "      <td>4</td>\n",
       "      <td>2025-01-05</td>\n",
       "      <td>2023</td>\n",
       "      <td>1</td>\n",
       "      <td>Sunday</td>\n",
       "    </tr>\n",
       "    <tr>\n",
       "      <th>3</th>\n",
       "      <td>2023-01-01</td>\n",
       "      <td>Business Crime Outcomes</td>\n",
       "      <td>Barnet</td>\n",
       "      <td>VIOLENCE AGAINST THE PERSON</td>\n",
       "      <td>VIOLENCE WITHOUT INJURY</td>\n",
       "      <td>Evidential Difficulties Victim Based-Named Sus...</td>\n",
       "      <td>N</td>\n",
       "      <td>1</td>\n",
       "      <td>2025-01-05</td>\n",
       "      <td>2023</td>\n",
       "      <td>1</td>\n",
       "      <td>Sunday</td>\n",
       "    </tr>\n",
       "    <tr>\n",
       "      <th>4</th>\n",
       "      <td>2023-01-01</td>\n",
       "      <td>Business Crime Outcomes</td>\n",
       "      <td>Barnet</td>\n",
       "      <td>VIOLENCE AGAINST THE PERSON</td>\n",
       "      <td>VIOLENCE WITHOUT INJURY</td>\n",
       "      <td>Investigation Complete; No Suspect Identified....</td>\n",
       "      <td>N</td>\n",
       "      <td>1</td>\n",
       "      <td>2025-01-05</td>\n",
       "      <td>2023</td>\n",
       "      <td>1</td>\n",
       "      <td>Sunday</td>\n",
       "    </tr>\n",
       "  </tbody>\n",
       "</table>\n",
       "</div>"
      ],
      "text/plain": [
       "        Date                  Measure Borough                Crime Section  \\\n",
       "0 2023-01-01  Business Crime Outcomes  Barnet        PUBLIC ORDER OFFENCES   \n",
       "1 2023-01-01  Business Crime Outcomes  Barnet                      ROBBERY   \n",
       "2 2023-01-01  Business Crime Outcomes  Barnet                        THEFT   \n",
       "3 2023-01-01  Business Crime Outcomes  Barnet  VIOLENCE AGAINST THE PERSON   \n",
       "4 2023-01-01  Business Crime Outcomes  Barnet  VIOLENCE AGAINST THE PERSON   \n",
       "\n",
       "                     Crime group  \\\n",
       "0  PUBLIC FEAR ALARM OR DISTRESS   \n",
       "1   ROBBERY OF BUSINESS PROPERTY   \n",
       "2                    SHOPLIFTING   \n",
       "3        VIOLENCE WITHOUT INJURY   \n",
       "4        VIOLENCE WITHOUT INJURY   \n",
       "\n",
       "                                             Outcome Positive Outcome  \\\n",
       "0  Evidential Difficulties Victim Based-Named Sus...                N   \n",
       "1  Investigation Complete; No Suspect Identified....                N   \n",
       "2  Evidential Difficulties Victim Based-Named Sus...                N   \n",
       "3  Evidential Difficulties Victim Based-Named Sus...                N   \n",
       "4  Investigation Complete; No Suspect Identified....                N   \n",
       "\n",
       "   Outcome Count Refresh Date  Year  Month Weekday  \n",
       "0              1   2025-01-05  2023      1  Sunday  \n",
       "1              1   2025-01-05  2023      1  Sunday  \n",
       "2              4   2025-01-05  2023      1  Sunday  \n",
       "3              1   2025-01-05  2023      1  Sunday  \n",
       "4              1   2025-01-05  2023      1  Sunday  "
      ]
     },
     "execution_count": 18,
     "metadata": {},
     "output_type": "execute_result"
    }
   ],
   "source": [
    "# create new columns\n",
    "df['Year'] = df['Date'].dt.year\n",
    "df['Month'] = df['Date'].dt.month\n",
    "df['Weekday'] = df['Date'].dt.day_name()\n",
    "\n",
    "# check for new columns\n",
    "df.head() "
   ]
  },
  {
   "cell_type": "markdown",
   "id": "83737f3f",
   "metadata": {},
   "source": [
    "Delete uneccesary columns"
   ]
  },
  {
   "cell_type": "code",
   "execution_count": 19,
   "id": "064c4e97",
   "metadata": {},
   "outputs": [
    {
     "data": {
      "text/html": [
       "<div>\n",
       "<style scoped>\n",
       "    .dataframe tbody tr th:only-of-type {\n",
       "        vertical-align: middle;\n",
       "    }\n",
       "\n",
       "    .dataframe tbody tr th {\n",
       "        vertical-align: top;\n",
       "    }\n",
       "\n",
       "    .dataframe thead th {\n",
       "        text-align: right;\n",
       "    }\n",
       "</style>\n",
       "<table border=\"1\" class=\"dataframe\">\n",
       "  <thead>\n",
       "    <tr style=\"text-align: right;\">\n",
       "      <th></th>\n",
       "      <th>Date</th>\n",
       "      <th>Borough</th>\n",
       "      <th>Crime Section</th>\n",
       "      <th>Crime group</th>\n",
       "      <th>Outcome</th>\n",
       "      <th>Positive Outcome</th>\n",
       "      <th>Outcome Count</th>\n",
       "      <th>Year</th>\n",
       "      <th>Month</th>\n",
       "      <th>Weekday</th>\n",
       "    </tr>\n",
       "  </thead>\n",
       "  <tbody>\n",
       "    <tr>\n",
       "      <th>0</th>\n",
       "      <td>2023-01-01</td>\n",
       "      <td>Barnet</td>\n",
       "      <td>PUBLIC ORDER OFFENCES</td>\n",
       "      <td>PUBLIC FEAR ALARM OR DISTRESS</td>\n",
       "      <td>Evidential Difficulties Victim Based-Named Sus...</td>\n",
       "      <td>N</td>\n",
       "      <td>1</td>\n",
       "      <td>2023</td>\n",
       "      <td>1</td>\n",
       "      <td>Sunday</td>\n",
       "    </tr>\n",
       "    <tr>\n",
       "      <th>1</th>\n",
       "      <td>2023-01-01</td>\n",
       "      <td>Barnet</td>\n",
       "      <td>ROBBERY</td>\n",
       "      <td>ROBBERY OF BUSINESS PROPERTY</td>\n",
       "      <td>Investigation Complete; No Suspect Identified....</td>\n",
       "      <td>N</td>\n",
       "      <td>1</td>\n",
       "      <td>2023</td>\n",
       "      <td>1</td>\n",
       "      <td>Sunday</td>\n",
       "    </tr>\n",
       "    <tr>\n",
       "      <th>2</th>\n",
       "      <td>2023-01-01</td>\n",
       "      <td>Barnet</td>\n",
       "      <td>THEFT</td>\n",
       "      <td>SHOPLIFTING</td>\n",
       "      <td>Evidential Difficulties Victim Based-Named Sus...</td>\n",
       "      <td>N</td>\n",
       "      <td>4</td>\n",
       "      <td>2023</td>\n",
       "      <td>1</td>\n",
       "      <td>Sunday</td>\n",
       "    </tr>\n",
       "    <tr>\n",
       "      <th>3</th>\n",
       "      <td>2023-01-01</td>\n",
       "      <td>Barnet</td>\n",
       "      <td>VIOLENCE AGAINST THE PERSON</td>\n",
       "      <td>VIOLENCE WITHOUT INJURY</td>\n",
       "      <td>Evidential Difficulties Victim Based-Named Sus...</td>\n",
       "      <td>N</td>\n",
       "      <td>1</td>\n",
       "      <td>2023</td>\n",
       "      <td>1</td>\n",
       "      <td>Sunday</td>\n",
       "    </tr>\n",
       "    <tr>\n",
       "      <th>4</th>\n",
       "      <td>2023-01-01</td>\n",
       "      <td>Barnet</td>\n",
       "      <td>VIOLENCE AGAINST THE PERSON</td>\n",
       "      <td>VIOLENCE WITHOUT INJURY</td>\n",
       "      <td>Investigation Complete; No Suspect Identified....</td>\n",
       "      <td>N</td>\n",
       "      <td>1</td>\n",
       "      <td>2023</td>\n",
       "      <td>1</td>\n",
       "      <td>Sunday</td>\n",
       "    </tr>\n",
       "  </tbody>\n",
       "</table>\n",
       "</div>"
      ],
      "text/plain": [
       "        Date Borough                Crime Section  \\\n",
       "0 2023-01-01  Barnet        PUBLIC ORDER OFFENCES   \n",
       "1 2023-01-01  Barnet                      ROBBERY   \n",
       "2 2023-01-01  Barnet                        THEFT   \n",
       "3 2023-01-01  Barnet  VIOLENCE AGAINST THE PERSON   \n",
       "4 2023-01-01  Barnet  VIOLENCE AGAINST THE PERSON   \n",
       "\n",
       "                     Crime group  \\\n",
       "0  PUBLIC FEAR ALARM OR DISTRESS   \n",
       "1   ROBBERY OF BUSINESS PROPERTY   \n",
       "2                    SHOPLIFTING   \n",
       "3        VIOLENCE WITHOUT INJURY   \n",
       "4        VIOLENCE WITHOUT INJURY   \n",
       "\n",
       "                                             Outcome Positive Outcome  \\\n",
       "0  Evidential Difficulties Victim Based-Named Sus...                N   \n",
       "1  Investigation Complete; No Suspect Identified....                N   \n",
       "2  Evidential Difficulties Victim Based-Named Sus...                N   \n",
       "3  Evidential Difficulties Victim Based-Named Sus...                N   \n",
       "4  Investigation Complete; No Suspect Identified....                N   \n",
       "\n",
       "   Outcome Count  Year  Month Weekday  \n",
       "0              1  2023      1  Sunday  \n",
       "1              1  2023      1  Sunday  \n",
       "2              4  2023      1  Sunday  \n",
       "3              1  2023      1  Sunday  \n",
       "4              1  2023      1  Sunday  "
      ]
     },
     "execution_count": 19,
     "metadata": {},
     "output_type": "execute_result"
    }
   ],
   "source": [
    "df.drop(columns=['Measure', 'Refresh Date'], inplace=True)\n",
    "df.head()"
   ]
  },
  {
   "cell_type": "markdown",
   "id": "c950aa2f",
   "metadata": {},
   "source": [
    "### Save cleaned data as csv"
   ]
  },
  {
   "cell_type": "code",
   "execution_count": 20,
   "id": "6eaeb2d4",
   "metadata": {},
   "outputs": [],
   "source": [
    "df.to_csv(\"../dataset/cleaned_data.csv\", index=False)"
   ]
  },
  {
   "cell_type": "markdown",
   "id": "497b6660",
   "metadata": {},
   "source": [
    "##### The next step taken is Exporatory Data Analysis which can find from [here](https://github.com/Kaori61/crime-data-analysis/blob/main/jupyter_notebooks/exploratory_data_analysis.ipynb).\n",
    "Go back to [README](https://github.com/Kaori61/crime-data-analysis/blob/main/README.md)"
   ]
  }
 ],
 "metadata": {
  "kernelspec": {
   "display_name": ".venv",
   "language": "python",
   "name": "python3"
  },
  "language_info": {
   "codemirror_mode": {
    "name": "ipython",
    "version": 3
   },
   "file_extension": ".py",
   "mimetype": "text/x-python",
   "name": "python",
   "nbconvert_exporter": "python",
   "pygments_lexer": "ipython3",
   "version": "3.12.8"
  }
 },
 "nbformat": 4,
 "nbformat_minor": 5
}
