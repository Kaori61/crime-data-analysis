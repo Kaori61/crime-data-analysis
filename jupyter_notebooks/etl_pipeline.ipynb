{
 "cells": [
  {
   "cell_type": "markdown",
   "id": "b409d289",
   "metadata": {},
   "source": [
    "# London Business Crime investigations"
   ]
  },
  {
   "cell_type": "markdown",
   "id": "5ffa74e2",
   "metadata": {},
   "source": [
    "### Navigation\n",
    "* [README](https://github.com/Kaori61/crime-data-analysis/blob/main/README.md)\n",
    "* [Clean data](https://github.com/Kaori61/crime-data-analysis/blob/main/dataset/cleaned_data.csv)\n",
    "* [Raw data](https://github.com/Kaori61/crime-data-analysis/blob/main/dataset/raw_data.csv)\n",
    "* [Exploratory data analysis (EDA)](https://github.com/Kaori61/crime-data-analysis/blob/main/jupyter_notebooks/exploratory_data_analysis.ipynb)\n",
    "* [Statistical analysis](https://github.com/Kaori61/crime-data-analysis/blob/main/jupyter_notebooks/statistical_analysis.ipynb)"
   ]
  },
  {
   "cell_type": "markdown",
   "id": "e9e0c916",
   "metadata": {},
   "source": [
    "### Import libraries and load data"
   ]
  },
  {
   "cell_type": "code",
   "execution_count": 1,
   "id": "2d27e0e0",
   "metadata": {},
   "outputs": [],
   "source": [
    "# import necessary libraries\n",
    "import pandas as pd\n",
    "import numpy as np"
   ]
  },
  {
   "cell_type": "code",
   "execution_count": 2,
   "id": "ba07579e",
   "metadata": {},
   "outputs": [
    {
     "data": {
      "text/html": [
       "<div>\n",
       "<style scoped>\n",
       "    .dataframe tbody tr th:only-of-type {\n",
       "        vertical-align: middle;\n",
       "    }\n",
       "\n",
       "    .dataframe tbody tr th {\n",
       "        vertical-align: top;\n",
       "    }\n",
       "\n",
       "    .dataframe thead th {\n",
       "        text-align: right;\n",
       "    }\n",
       "</style>\n",
       "<table border=\"1\" class=\"dataframe\">\n",
       "  <thead>\n",
       "    <tr style=\"text-align: right;\">\n",
       "      <th></th>\n",
       "      <th>Date</th>\n",
       "      <th>Measure</th>\n",
       "      <th>Borough</th>\n",
       "      <th>Crime Section</th>\n",
       "      <th>Crime group</th>\n",
       "      <th>Outcome</th>\n",
       "      <th>Positive Outcome</th>\n",
       "      <th>Outcome Count</th>\n",
       "      <th>Refresh Date</th>\n",
       "    </tr>\n",
       "  </thead>\n",
       "  <tbody>\n",
       "    <tr>\n",
       "      <th>0</th>\n",
       "      <td>2023-06-01</td>\n",
       "      <td>Business Crime Outcomes</td>\n",
       "      <td>Barking and Dagenham</td>\n",
       "      <td>POSSESSION OF WEAPONS</td>\n",
       "      <td>POSSESSION OF WEAPONS</td>\n",
       "      <td>Investigation Complete; No Suspect Identified....</td>\n",
       "      <td>N</td>\n",
       "      <td>1.0</td>\n",
       "      <td>2025-06-05</td>\n",
       "    </tr>\n",
       "    <tr>\n",
       "      <th>1</th>\n",
       "      <td>2023-06-01</td>\n",
       "      <td>Business Crime Outcomes</td>\n",
       "      <td>Barking and Dagenham</td>\n",
       "      <td>THEFT</td>\n",
       "      <td>OTHER THEFT</td>\n",
       "      <td>Investigation Complete; No Suspect Identified....</td>\n",
       "      <td>N</td>\n",
       "      <td>2.0</td>\n",
       "      <td>2025-06-05</td>\n",
       "    </tr>\n",
       "    <tr>\n",
       "      <th>2</th>\n",
       "      <td>2023-06-01</td>\n",
       "      <td>Business Crime Outcomes</td>\n",
       "      <td>Barking and Dagenham</td>\n",
       "      <td>THEFT</td>\n",
       "      <td>SHOPLIFTING</td>\n",
       "      <td>Named Suspect Identified: Victim Supports Poli...</td>\n",
       "      <td>N</td>\n",
       "      <td>2.0</td>\n",
       "      <td>2025-06-05</td>\n",
       "    </tr>\n",
       "    <tr>\n",
       "      <th>3</th>\n",
       "      <td>2023-06-01</td>\n",
       "      <td>Business Crime Outcomes</td>\n",
       "      <td>Barking and Dagenham</td>\n",
       "      <td>VIOLENCE AGAINST THE PERSON</td>\n",
       "      <td>VIOLENCE WITH INJURY</td>\n",
       "      <td>Named Suspect Identified: Evidential Difficult...</td>\n",
       "      <td>N</td>\n",
       "      <td>2.0</td>\n",
       "      <td>2025-06-05</td>\n",
       "    </tr>\n",
       "    <tr>\n",
       "      <th>4</th>\n",
       "      <td>2023-06-01</td>\n",
       "      <td>Business Crime Outcomes</td>\n",
       "      <td>Barnet</td>\n",
       "      <td>ARSON AND CRIMINAL DAMAGE</td>\n",
       "      <td>CRIMINAL DAMAGE</td>\n",
       "      <td>Named Suspect Identified: Victim Supports Poli...</td>\n",
       "      <td>N</td>\n",
       "      <td>1.0</td>\n",
       "      <td>2025-06-05</td>\n",
       "    </tr>\n",
       "  </tbody>\n",
       "</table>\n",
       "</div>"
      ],
      "text/plain": [
       "         Date                  Measure               Borough  \\\n",
       "0  2023-06-01  Business Crime Outcomes  Barking and Dagenham   \n",
       "1  2023-06-01  Business Crime Outcomes  Barking and Dagenham   \n",
       "2  2023-06-01  Business Crime Outcomes  Barking and Dagenham   \n",
       "3  2023-06-01  Business Crime Outcomes  Barking and Dagenham   \n",
       "4  2023-06-01  Business Crime Outcomes                Barnet   \n",
       "\n",
       "                 Crime Section            Crime group  \\\n",
       "0        POSSESSION OF WEAPONS  POSSESSION OF WEAPONS   \n",
       "1                        THEFT            OTHER THEFT   \n",
       "2                        THEFT            SHOPLIFTING   \n",
       "3  VIOLENCE AGAINST THE PERSON   VIOLENCE WITH INJURY   \n",
       "4    ARSON AND CRIMINAL DAMAGE        CRIMINAL DAMAGE   \n",
       "\n",
       "                                             Outcome Positive Outcome  \\\n",
       "0  Investigation Complete; No Suspect Identified....                N   \n",
       "1  Investigation Complete; No Suspect Identified....                N   \n",
       "2  Named Suspect Identified: Victim Supports Poli...                N   \n",
       "3  Named Suspect Identified: Evidential Difficult...                N   \n",
       "4  Named Suspect Identified: Victim Supports Poli...                N   \n",
       "\n",
       "   Outcome Count Refresh Date  \n",
       "0            1.0   2025-06-05  \n",
       "1            2.0   2025-06-05  \n",
       "2            2.0   2025-06-05  \n",
       "3            2.0   2025-06-05  \n",
       "4            1.0   2025-06-05  "
      ]
     },
     "execution_count": 2,
     "metadata": {},
     "output_type": "execute_result"
    }
   ],
   "source": [
    "# loading csv data \n",
    "df = pd.read_csv('../dataset/raw_data.csv')\n",
    "df.head()"
   ]
  },
  {
   "cell_type": "code",
   "execution_count": 3,
   "id": "af48685f",
   "metadata": {},
   "outputs": [
    {
     "data": {
      "text/plain": [
       "(407342, 9)"
      ]
     },
     "execution_count": 3,
     "metadata": {},
     "output_type": "execute_result"
    }
   ],
   "source": [
    "# check the dataset is loaded correctly \n",
    "df.shape"
   ]
  },
  {
   "cell_type": "markdown",
   "id": "bb67e7dc",
   "metadata": {},
   "source": [
    "# Data cleaning"
   ]
  },
  {
   "cell_type": "markdown",
   "id": "abe5c77e",
   "metadata": {},
   "source": [
    "### Check for Null values"
   ]
  },
  {
   "cell_type": "code",
   "execution_count": 4,
   "id": "45609cf3",
   "metadata": {},
   "outputs": [
    {
     "data": {
      "text/plain": [
       "Date                   1\n",
       "Measure                1\n",
       "Borough                1\n",
       "Crime Section          1\n",
       "Crime group            1\n",
       "Outcome             1315\n",
       "Positive Outcome       1\n",
       "Outcome Count          1\n",
       "Refresh Date           1\n",
       "dtype: int64"
      ]
     },
     "execution_count": 4,
     "metadata": {},
     "output_type": "execute_result"
    }
   ],
   "source": [
    "# check for null values\n",
    "df.isnull().sum()"
   ]
  },
  {
   "cell_type": "markdown",
   "id": "0ba255d9",
   "metadata": {},
   "source": [
    "The Outcome column contains the description of the crime outcome. Missing value in this column is likely means there is no recorded outcome yet. Therefore, null values in Outcome column will be replaced with \"No outcome yet\","
   ]
  },
  {
   "cell_type": "markdown",
   "id": "19061591",
   "metadata": {},
   "source": [
    "#### Handling missing Outcome values"
   ]
  },
  {
   "cell_type": "code",
   "execution_count": 5,
   "id": "f8978f58",
   "metadata": {},
   "outputs": [
    {
     "data": {
      "text/html": [
       "<div>\n",
       "<style scoped>\n",
       "    .dataframe tbody tr th:only-of-type {\n",
       "        vertical-align: middle;\n",
       "    }\n",
       "\n",
       "    .dataframe tbody tr th {\n",
       "        vertical-align: top;\n",
       "    }\n",
       "\n",
       "    .dataframe thead th {\n",
       "        text-align: right;\n",
       "    }\n",
       "</style>\n",
       "<table border=\"1\" class=\"dataframe\">\n",
       "  <thead>\n",
       "    <tr style=\"text-align: right;\">\n",
       "      <th></th>\n",
       "      <th>Date</th>\n",
       "      <th>Measure</th>\n",
       "      <th>Borough</th>\n",
       "      <th>Crime Section</th>\n",
       "      <th>Crime group</th>\n",
       "      <th>Outcome</th>\n",
       "      <th>Positive Outcome</th>\n",
       "      <th>Outcome Count</th>\n",
       "      <th>Refresh Date</th>\n",
       "    </tr>\n",
       "  </thead>\n",
       "  <tbody>\n",
       "    <tr>\n",
       "      <th>136828</th>\n",
       "      <td>2024-03-22</td>\n",
       "      <td>Business Crime Outcomes</td>\n",
       "      <td>Croydon</td>\n",
       "      <td>VIOLENCE AGAINST THE PERSON</td>\n",
       "      <td>VIOLENCE WITHOUT INJURY</td>\n",
       "      <td>NaN</td>\n",
       "      <td>N</td>\n",
       "      <td>1.0</td>\n",
       "      <td>2025-06-05</td>\n",
       "    </tr>\n",
       "    <tr>\n",
       "      <th>137119</th>\n",
       "      <td>2024-03-23</td>\n",
       "      <td>Business Crime Outcomes</td>\n",
       "      <td>Hillingdon</td>\n",
       "      <td>MISCELLANEOUS CRIMES AGAINST SOCIETY</td>\n",
       "      <td>MISC CRIMES AGAINST SOCIETY</td>\n",
       "      <td>NaN</td>\n",
       "      <td>N</td>\n",
       "      <td>1.0</td>\n",
       "      <td>2025-06-05</td>\n",
       "    </tr>\n",
       "    <tr>\n",
       "      <th>137852</th>\n",
       "      <td>2024-03-17</td>\n",
       "      <td>Business Crime Outcomes</td>\n",
       "      <td>Hillingdon</td>\n",
       "      <td>MISCELLANEOUS CRIMES AGAINST SOCIETY</td>\n",
       "      <td>MISC CRIMES AGAINST SOCIETY</td>\n",
       "      <td>NaN</td>\n",
       "      <td>N</td>\n",
       "      <td>1.0</td>\n",
       "      <td>2025-06-05</td>\n",
       "    </tr>\n",
       "    <tr>\n",
       "      <th>144379</th>\n",
       "      <td>2024-04-12</td>\n",
       "      <td>Business Crime Outcomes</td>\n",
       "      <td>Lambeth</td>\n",
       "      <td>VIOLENCE AGAINST THE PERSON</td>\n",
       "      <td>VIOLENCE WITHOUT INJURY</td>\n",
       "      <td>NaN</td>\n",
       "      <td>N</td>\n",
       "      <td>1.0</td>\n",
       "      <td>2025-06-05</td>\n",
       "    </tr>\n",
       "    <tr>\n",
       "      <th>145443</th>\n",
       "      <td>2024-05-04</td>\n",
       "      <td>Business Crime Outcomes</td>\n",
       "      <td>Croydon</td>\n",
       "      <td>THEFT</td>\n",
       "      <td>OTHER THEFT</td>\n",
       "      <td>NaN</td>\n",
       "      <td>N</td>\n",
       "      <td>1.0</td>\n",
       "      <td>2025-06-05</td>\n",
       "    </tr>\n",
       "    <tr>\n",
       "      <th>...</th>\n",
       "      <td>...</td>\n",
       "      <td>...</td>\n",
       "      <td>...</td>\n",
       "      <td>...</td>\n",
       "      <td>...</td>\n",
       "      <td>...</td>\n",
       "      <td>...</td>\n",
       "      <td>...</td>\n",
       "      <td>...</td>\n",
       "    </tr>\n",
       "    <tr>\n",
       "      <th>405715</th>\n",
       "      <td>2025-05-12</td>\n",
       "      <td>Business Crime Outcomes</td>\n",
       "      <td>Hackney</td>\n",
       "      <td>PUBLIC ORDER OFFENCES</td>\n",
       "      <td>RACE OR RELIGIOUS AGG PUBLIC FEAR</td>\n",
       "      <td>NaN</td>\n",
       "      <td>N</td>\n",
       "      <td>1.0</td>\n",
       "      <td>2025-06-05</td>\n",
       "    </tr>\n",
       "    <tr>\n",
       "      <th>406240</th>\n",
       "      <td>2025-05-18</td>\n",
       "      <td>Business Crime Outcomes</td>\n",
       "      <td>Hackney</td>\n",
       "      <td>VIOLENCE AGAINST THE PERSON</td>\n",
       "      <td>VIOLENCE WITH INJURY</td>\n",
       "      <td>NaN</td>\n",
       "      <td>N</td>\n",
       "      <td>1.0</td>\n",
       "      <td>2025-06-05</td>\n",
       "    </tr>\n",
       "    <tr>\n",
       "      <th>406548</th>\n",
       "      <td>2025-05-21</td>\n",
       "      <td>Business Crime Outcomes</td>\n",
       "      <td>Southwark</td>\n",
       "      <td>PUBLIC ORDER OFFENCES</td>\n",
       "      <td>RACE OR RELIGIOUS AGG PUBLIC FEAR</td>\n",
       "      <td>NaN</td>\n",
       "      <td>N</td>\n",
       "      <td>1.0</td>\n",
       "      <td>2025-06-05</td>\n",
       "    </tr>\n",
       "    <tr>\n",
       "      <th>406571</th>\n",
       "      <td>2025-05-22</td>\n",
       "      <td>Business Crime Outcomes</td>\n",
       "      <td>Brent</td>\n",
       "      <td>VIOLENCE AGAINST THE PERSON</td>\n",
       "      <td>VIOLENCE WITHOUT INJURY</td>\n",
       "      <td>NaN</td>\n",
       "      <td>N</td>\n",
       "      <td>1.0</td>\n",
       "      <td>2025-06-05</td>\n",
       "    </tr>\n",
       "    <tr>\n",
       "      <th>407341</th>\n",
       "      <td>NaN</td>\n",
       "      <td>NaN</td>\n",
       "      <td>NaN</td>\n",
       "      <td>NaN</td>\n",
       "      <td>NaN</td>\n",
       "      <td>NaN</td>\n",
       "      <td>NaN</td>\n",
       "      <td>NaN</td>\n",
       "      <td>NaN</td>\n",
       "    </tr>\n",
       "  </tbody>\n",
       "</table>\n",
       "<p>1315 rows × 9 columns</p>\n",
       "</div>"
      ],
      "text/plain": [
       "              Date                  Measure     Borough  \\\n",
       "136828  2024-03-22  Business Crime Outcomes     Croydon   \n",
       "137119  2024-03-23  Business Crime Outcomes  Hillingdon   \n",
       "137852  2024-03-17  Business Crime Outcomes  Hillingdon   \n",
       "144379  2024-04-12  Business Crime Outcomes     Lambeth   \n",
       "145443  2024-05-04  Business Crime Outcomes     Croydon   \n",
       "...            ...                      ...         ...   \n",
       "405715  2025-05-12  Business Crime Outcomes     Hackney   \n",
       "406240  2025-05-18  Business Crime Outcomes     Hackney   \n",
       "406548  2025-05-21  Business Crime Outcomes   Southwark   \n",
       "406571  2025-05-22  Business Crime Outcomes       Brent   \n",
       "407341         NaN                      NaN         NaN   \n",
       "\n",
       "                               Crime Section  \\\n",
       "136828           VIOLENCE AGAINST THE PERSON   \n",
       "137119  MISCELLANEOUS CRIMES AGAINST SOCIETY   \n",
       "137852  MISCELLANEOUS CRIMES AGAINST SOCIETY   \n",
       "144379           VIOLENCE AGAINST THE PERSON   \n",
       "145443                                 THEFT   \n",
       "...                                      ...   \n",
       "405715                 PUBLIC ORDER OFFENCES   \n",
       "406240           VIOLENCE AGAINST THE PERSON   \n",
       "406548                 PUBLIC ORDER OFFENCES   \n",
       "406571           VIOLENCE AGAINST THE PERSON   \n",
       "407341                                   NaN   \n",
       "\n",
       "                              Crime group Outcome Positive Outcome  \\\n",
       "136828            VIOLENCE WITHOUT INJURY     NaN                N   \n",
       "137119        MISC CRIMES AGAINST SOCIETY     NaN                N   \n",
       "137852        MISC CRIMES AGAINST SOCIETY     NaN                N   \n",
       "144379            VIOLENCE WITHOUT INJURY     NaN                N   \n",
       "145443                        OTHER THEFT     NaN                N   \n",
       "...                                   ...     ...              ...   \n",
       "405715  RACE OR RELIGIOUS AGG PUBLIC FEAR     NaN                N   \n",
       "406240               VIOLENCE WITH INJURY     NaN                N   \n",
       "406548  RACE OR RELIGIOUS AGG PUBLIC FEAR     NaN                N   \n",
       "406571            VIOLENCE WITHOUT INJURY     NaN                N   \n",
       "407341                                NaN     NaN              NaN   \n",
       "\n",
       "        Outcome Count Refresh Date  \n",
       "136828            1.0   2025-06-05  \n",
       "137119            1.0   2025-06-05  \n",
       "137852            1.0   2025-06-05  \n",
       "144379            1.0   2025-06-05  \n",
       "145443            1.0   2025-06-05  \n",
       "...               ...          ...  \n",
       "405715            1.0   2025-06-05  \n",
       "406240            1.0   2025-06-05  \n",
       "406548            1.0   2025-06-05  \n",
       "406571            1.0   2025-06-05  \n",
       "407341            NaN          NaN  \n",
       "\n",
       "[1315 rows x 9 columns]"
      ]
     },
     "execution_count": 5,
     "metadata": {},
     "output_type": "execute_result"
    }
   ],
   "source": [
    "# check rows with missing outcome values\n",
    "df[df['Outcome'].isnull()]"
   ]
  },
  {
   "cell_type": "code",
   "execution_count": 6,
   "id": "52f0c6a2",
   "metadata": {},
   "outputs": [
    {
     "data": {
      "text/plain": [
       "np.int64(1315)"
      ]
     },
     "execution_count": 6,
     "metadata": {},
     "output_type": "execute_result"
    }
   ],
   "source": [
    "# replacing null values in Outcome with 'No outcome yet'\n",
    "df['Outcome'] = df['Outcome'].fillna('No outcome yet')\n",
    "\n",
    "# check null values are replaced\n",
    "(df['Outcome'] == 'No outcome yet').sum()"
   ]
  },
  {
   "cell_type": "markdown",
   "id": "42abda2a",
   "metadata": {},
   "source": [
    "Missing values are replaced with 'No outocme yet'"
   ]
  },
  {
   "cell_type": "markdown",
   "id": "4162d37e",
   "metadata": {},
   "source": [
    "#### Handling other null values"
   ]
  },
  {
   "cell_type": "code",
   "execution_count": 7,
   "id": "d2beb444",
   "metadata": {},
   "outputs": [
    {
     "data": {
      "text/html": [
       "<div>\n",
       "<style scoped>\n",
       "    .dataframe tbody tr th:only-of-type {\n",
       "        vertical-align: middle;\n",
       "    }\n",
       "\n",
       "    .dataframe tbody tr th {\n",
       "        vertical-align: top;\n",
       "    }\n",
       "\n",
       "    .dataframe thead th {\n",
       "        text-align: right;\n",
       "    }\n",
       "</style>\n",
       "<table border=\"1\" class=\"dataframe\">\n",
       "  <thead>\n",
       "    <tr style=\"text-align: right;\">\n",
       "      <th></th>\n",
       "      <th>Date</th>\n",
       "      <th>Measure</th>\n",
       "      <th>Borough</th>\n",
       "      <th>Crime Section</th>\n",
       "      <th>Crime group</th>\n",
       "      <th>Outcome</th>\n",
       "      <th>Positive Outcome</th>\n",
       "      <th>Outcome Count</th>\n",
       "      <th>Refresh Date</th>\n",
       "    </tr>\n",
       "  </thead>\n",
       "  <tbody>\n",
       "    <tr>\n",
       "      <th>407341</th>\n",
       "      <td>NaN</td>\n",
       "      <td>NaN</td>\n",
       "      <td>NaN</td>\n",
       "      <td>NaN</td>\n",
       "      <td>NaN</td>\n",
       "      <td>No outcome yet</td>\n",
       "      <td>NaN</td>\n",
       "      <td>NaN</td>\n",
       "      <td>NaN</td>\n",
       "    </tr>\n",
       "  </tbody>\n",
       "</table>\n",
       "</div>"
      ],
      "text/plain": [
       "       Date Measure Borough Crime Section Crime group         Outcome  \\\n",
       "407341  NaN     NaN     NaN           NaN         NaN  No outcome yet   \n",
       "\n",
       "       Positive Outcome  Outcome Count Refresh Date  \n",
       "407341              NaN            NaN          NaN  "
      ]
     },
     "execution_count": 7,
     "metadata": {},
     "output_type": "execute_result"
    }
   ],
   "source": [
    "# check missing value in Date column\n",
    "df[df['Date'].isnull()]"
   ]
  },
  {
   "cell_type": "markdown",
   "id": "93156fdc",
   "metadata": {},
   "source": [
    "This row didn't have any values so I will delete this row."
   ]
  },
  {
   "cell_type": "code",
   "execution_count": 8,
   "id": "0a58a2f1",
   "metadata": {},
   "outputs": [],
   "source": [
    "# delete row 407341\n",
    "df = df.drop(407341)"
   ]
  },
  {
   "cell_type": "code",
   "execution_count": 9,
   "id": "b46bd458",
   "metadata": {},
   "outputs": [
    {
     "data": {
      "text/plain": [
       "Date                0\n",
       "Measure             0\n",
       "Borough             0\n",
       "Crime Section       0\n",
       "Crime group         0\n",
       "Outcome             0\n",
       "Positive Outcome    0\n",
       "Outcome Count       0\n",
       "Refresh Date        0\n",
       "dtype: int64"
      ]
     },
     "execution_count": 9,
     "metadata": {},
     "output_type": "execute_result"
    }
   ],
   "source": [
    "# check null value\n",
    "df.isnull().sum()"
   ]
  },
  {
   "cell_type": "markdown",
   "id": "aa2339fa",
   "metadata": {},
   "source": [
    "All missing values are handled now."
   ]
  },
  {
   "cell_type": "markdown",
   "id": "e90a3e06",
   "metadata": {},
   "source": [
    "### Check data type"
   ]
  },
  {
   "cell_type": "code",
   "execution_count": 10,
   "id": "9abf53de",
   "metadata": {},
   "outputs": [
    {
     "data": {
      "text/plain": [
       "Date                 object\n",
       "Measure              object\n",
       "Borough              object\n",
       "Crime Section        object\n",
       "Crime group          object\n",
       "Outcome              object\n",
       "Positive Outcome     object\n",
       "Outcome Count       float64\n",
       "Refresh Date         object\n",
       "dtype: object"
      ]
     },
     "execution_count": 10,
     "metadata": {},
     "output_type": "execute_result"
    }
   ],
   "source": [
    "df.dtypes"
   ]
  },
  {
   "cell_type": "markdown",
   "id": "e9e10bb6",
   "metadata": {},
   "source": [
    "Date and Refresh Date needs to be in date format so I will convert into date format."
   ]
  },
  {
   "cell_type": "code",
   "execution_count": 11,
   "id": "a1d7aa39",
   "metadata": {},
   "outputs": [
    {
     "data": {
      "text/plain": [
       "Date                datetime64[ns]\n",
       "Measure                     object\n",
       "Borough                     object\n",
       "Crime Section               object\n",
       "Crime group                 object\n",
       "Outcome                     object\n",
       "Positive Outcome            object\n",
       "Outcome Count              float64\n",
       "Refresh Date        datetime64[ns]\n",
       "dtype: object"
      ]
     },
     "execution_count": 11,
     "metadata": {},
     "output_type": "execute_result"
    }
   ],
   "source": [
    "# convert into date format\n",
    "df['Date'] = pd.to_datetime(df['Date'])\n",
    "df['Refresh Date'] = pd.to_datetime(df['Refresh Date'])\n",
    "df.dtypes"
   ]
  },
  {
   "cell_type": "markdown",
   "id": "9d4c968c",
   "metadata": {},
   "source": [
    "Outcome Count should be integer not floaat so I willl convert it into interger."
   ]
  },
  {
   "cell_type": "code",
   "execution_count": 12,
   "id": "fea3be30",
   "metadata": {},
   "outputs": [
    {
     "data": {
      "text/plain": [
       "Date                datetime64[ns]\n",
       "Measure                     object\n",
       "Borough                     object\n",
       "Crime Section               object\n",
       "Crime group                 object\n",
       "Outcome                     object\n",
       "Positive Outcome            object\n",
       "Outcome Count                int64\n",
       "Refresh Date        datetime64[ns]\n",
       "dtype: object"
      ]
     },
     "execution_count": 12,
     "metadata": {},
     "output_type": "execute_result"
    }
   ],
   "source": [
    "# convert into integer\n",
    "df['Outcome Count'] = df['Outcome Count'].astype(int)\n",
    "df.dtypes"
   ]
  },
  {
   "cell_type": "markdown",
   "id": "1d279fb0",
   "metadata": {},
   "source": [
    "### Check inconsistent values"
   ]
  },
  {
   "cell_type": "code",
   "execution_count": 13,
   "id": "9fdd39c6",
   "metadata": {},
   "outputs": [
    {
     "data": {
      "text/plain": [
       "Measure              1\n",
       "Borough             33\n",
       "Crime Section       13\n",
       "Crime group         31\n",
       "Outcome             31\n",
       "Positive Outcome     2\n",
       "dtype: int64"
      ]
     },
     "execution_count": 13,
     "metadata": {},
     "output_type": "execute_result"
    }
   ],
   "source": [
    "# check how many unique values each categorical columns have\n",
    "df.select_dtypes(include='object').nunique()"
   ]
  },
  {
   "cell_type": "code",
   "execution_count": 14,
   "id": "5ce98cae",
   "metadata": {},
   "outputs": [
    {
     "name": "stdout",
     "output_type": "stream",
     "text": [
      "\n",
      " Unique values in 'Measure':\n",
      "Measure\n",
      "Business Crime Outcomes    407341\n",
      "Name: count, dtype: int64\n",
      "\n",
      " Unique values in 'Borough':\n",
      "Borough\n",
      "Westminster               22041\n",
      "Camden                    16393\n",
      "Tower Hamlets             15960\n",
      "Newham                    15604\n",
      "Lambeth                   15490\n",
      "Southwark                 15456\n",
      "Hackney                   14705\n",
      "Brent                     14336\n",
      "Islington                 14258\n",
      "Hillingdon                13771\n",
      "Croydon                   13675\n",
      "Ealing                    13491\n",
      "Barnet                    12952\n",
      "Wandsworth                12927\n",
      "Greenwich                 12881\n",
      "Lewisham                  12757\n",
      "Haringey                  12437\n",
      "Hounslow                  12423\n",
      "Other                     12221\n",
      "Enfield                   12020\n",
      "Hammersmith and Fulham    11768\n",
      "Redbridge                 11470\n",
      "Bromley                   11358\n",
      "Kensington and Chelsea    10639\n",
      "Waltham Forest            10617\n",
      "Havering                  10401\n",
      "Barking and Dagenham       9969\n",
      "Harrow                     8197\n",
      "Kingston upon Thames       7967\n",
      "Merton                     7872\n",
      "Bexley                     7836\n",
      "Sutton                     6803\n",
      "Richmond upon Thames       6646\n",
      "Name: count, dtype: int64\n",
      "\n",
      " Unique values in 'Crime Section':\n",
      "Crime Section\n",
      "THEFT                                   116367\n",
      "VIOLENCE AGAINST THE PERSON              92457\n",
      "PUBLIC ORDER OFFENCES                    41177\n",
      "VEHICLE OFFENCES                         32339\n",
      "ARSON AND CRIMINAL DAMAGE                31037\n",
      "BURGLARY                                 29555\n",
      "ROBBERY                                  24009\n",
      "DRUG OFFENCES                            18748\n",
      "SEXUAL OFFENCES                          10461\n",
      "MISCELLANEOUS CRIMES AGAINST SOCIETY      6855\n",
      "POSSESSION OF WEAPONS                     3924\n",
      "FRAUD AND FORGERY                          400\n",
      "NFIB FRAUD                                  12\n",
      "Name: count, dtype: int64\n",
      "\n",
      " Unique values in 'Crime group':\n",
      "Crime group\n",
      "VIOLENCE WITHOUT INJURY                  56236\n",
      "SHOPLIFTING                              49554\n",
      "VIOLENCE WITH INJURY                     36159\n",
      "OTHER THEFT                              34367\n",
      "CRIMINAL DAMAGE                          28869\n",
      "PUBLIC FEAR ALARM OR DISTRESS            25180\n",
      "THEFT FROM THE PERSON                    22710\n",
      "BURGLARY BUSINESS AND COMMUNITY          20418\n",
      "THEFT FROM A VEHICLE                     16256\n",
      "ROBBERY OF PERSONAL PROPERTY             14268\n",
      "POSSESSION OF DRUGS                      13075\n",
      "THEFT OR UNAUTH TAKING OF A MOTOR VEH    11215\n",
      "RACE OR RELIGIOUS AGG PUBLIC FEAR        10691\n",
      "ROBBERY OF BUSINESS PROPERTY              9741\n",
      "BICYCLE THEFT                             9736\n",
      "OTHER SEXUAL OFFENCES                     7887\n",
      "BURGLARY - RESIDENTIAL                    7475\n",
      "MISC CRIMES AGAINST SOCIETY               6855\n",
      "TRAFFICKING OF DRUGS                      5673\n",
      "OTHER OFFENCES PUBLIC ORDER               5234\n",
      "INTERFERING WITH A MOTOR VEHICLE          4605\n",
      "POSSESSION OF WEAPONS                     3924\n",
      "RAPE                                      2574\n",
      "ARSON                                     2168\n",
      "BURGLARY IN A DWELLING                    1586\n",
      "FRAUD AND FORGERY                          400\n",
      "AGGRAVATED VEHICLE TAKING                  263\n",
      "BURGLARY NON-DWELLING                       76\n",
      "VIOLENT DISORDER                            72\n",
      "HOMICIDE                                    62\n",
      "NFIB                                        12\n",
      "Name: count, dtype: int64\n",
      "\n",
      " Unique values in 'Outcome':\n",
      "Outcome\n",
      "Investigation Complete; No Suspect Identified. Crime Investigated As Far As Reasonably Possible-Case Closed Pending Further Investigative Opportunities Becoming Available                      191827\n",
      "Named Suspect Identified: Victim Supports Police Action But Evidential Difficulties Prevent Further Action                                                                                       53417\n",
      "Named Suspect Identified: Evidential Difficulties Prevent Further Action: Victim Does Not Support (Or Has Withdrawn Support From) Police Action                                                  50872\n",
      "Evidential Difficulties Victim Based-Named Suspect Not Identified: Crime Confirmed But The Victim Either Declines Or Unable To Support Further Police Investigation To Identify The Offender     48003\n",
      "Charged/Summonsed/Postal Requisition                                                                                                                                                             30961\n",
      "Community resolution (Crime)                                                                                                                                                                     10784\n",
      "Charged/Summons - alternate offence. Offender has been charged under the alternate offence rule.                                                                                                  4289\n",
      "Admin (Legacy Only)                                                                                                                                                                               3056\n",
      "Outcome Pending (Legacy Only)                                                                                                                                                                     2934\n",
      "Further action resulting from the crime report will be undertaken by another body or agency subject to the victim (or person acting on their behalf) being made aware of the act to be taken      2405\n",
      "Caution Adult                                                                                                                                                                                     1832\n",
      "Penalty notice for disorder                                                                                                                                                                       1739\n",
      "No outcome yet                                                                                                                                                                                    1314\n",
      "Formal Action Against Offender is not in the Public Interest (Police)                                                                                                                              717\n",
      "No Investigation, named suspect identified. Capable of proof, but not in public interest to investigate. Supervisor rationale documented in closing report.                                        565\n",
      "Prosecution Prevented-Named Suspect Identified But Is Too Ill (Physical Or Mental Health) To Prosecute                                                                                             488\n",
      "No Crime (Legacy Only)                                                                                                                                                                             420\n",
      "Prosecution Time Limit Expired: Suspect Identified But Prosecution Time Limit Has Expired                                                                                                          330\n",
      "Caution Youth                                                                                                                                                                                      320\n",
      "Caution Adult - alternate offence. Offender has been given a simple caution under the alternate offences rule.                                                                                     308\n",
      "No Further Action Police Decision                                                                                                                                                                  187\n",
      "Prosecution Not In the Public Interest (CPS)                                                                                                                                                       140\n",
      "Prosecution Prevented-Named Suspect Identified But Victim Or Key Witness Is Dead Or Too Ill To Give Evidence                                                                                        85\n",
      "Prosecution Prevented-Named Suspect Identified But Is Below The Age Of Criminal Responsibility                                                                                                      78\n",
      "Offender has died                                                                                                                                                                                   70\n",
      "Not in use in the MPS/on CRIS (Legacy Only)                                                                                                                                                         63\n",
      "Diversionary, educational or intervention activity, resulting from the crime report, has been undertaken and it is not in the public interest to take any further action.                           60\n",
      "TIC - Taken into Consideration                                                                                                                                                                      38\n",
      "Caution Youth - alternate offence. Offender is a juvenile and has been given a youth caution under the alternate offences rule.                                                                     26\n",
      "CPS Decision Not to Proceed (Legacy Only)                                                                                                                                                            8\n",
      "Cannabis/Khat Warning                                                                                                                                                                                5\n",
      "Name: count, dtype: int64\n",
      "\n",
      " Unique values in 'Positive Outcome':\n",
      "Positive Outcome\n",
      "N    357039\n",
      "Y     50302\n",
      "Name: count, dtype: int64\n"
     ]
    }
   ],
   "source": [
    "# check what uique values are in all categorical columns\n",
    "for col in df.select_dtypes(include='object').columns:\n",
    "    print(f\"\\n Unique values in '{col}':\")\n",
    "    print(df[col].value_counts(dropna=False))"
   ]
  },
  {
   "cell_type": "markdown",
   "id": "7958acf3",
   "metadata": {},
   "source": [
    "This analysis investigates the geographical crime trend, so an unspecified location isn't useful. Therefore, I will delete 'Other' in the Borough column. "
   ]
  },
  {
   "cell_type": "code",
   "execution_count": 15,
   "id": "731624e7",
   "metadata": {},
   "outputs": [
    {
     "data": {
      "text/plain": [
       "Borough\n",
       "Westminster               22041\n",
       "Camden                    16393\n",
       "Tower Hamlets             15960\n",
       "Newham                    15604\n",
       "Lambeth                   15490\n",
       "Southwark                 15456\n",
       "Hackney                   14705\n",
       "Brent                     14336\n",
       "Islington                 14258\n",
       "Hillingdon                13771\n",
       "Croydon                   13675\n",
       "Ealing                    13491\n",
       "Barnet                    12952\n",
       "Wandsworth                12927\n",
       "Greenwich                 12881\n",
       "Lewisham                  12757\n",
       "Haringey                  12437\n",
       "Hounslow                  12423\n",
       "Enfield                   12020\n",
       "Hammersmith and Fulham    11768\n",
       "Redbridge                 11470\n",
       "Bromley                   11358\n",
       "Kensington and Chelsea    10639\n",
       "Waltham Forest            10617\n",
       "Havering                  10401\n",
       "Barking and Dagenham       9969\n",
       "Harrow                     8197\n",
       "Kingston upon Thames       7967\n",
       "Merton                     7872\n",
       "Bexley                     7836\n",
       "Sutton                     6803\n",
       "Richmond upon Thames       6646\n",
       "Name: count, dtype: int64"
      ]
     },
     "execution_count": 15,
     "metadata": {},
     "output_type": "execute_result"
    }
   ],
   "source": [
    "# keep only the rows that is not equal to 'Other'\n",
    "df = df[df['Borough'] != 'Other']\n",
    "\n",
    "# check if the value is deleted correctly\n",
    "df['Borough'].value_counts()"
   ]
  },
  {
   "cell_type": "code",
   "execution_count": 16,
   "id": "1ba9e6ab",
   "metadata": {},
   "outputs": [
    {
     "data": {
      "text/plain": [
       "Measure              1\n",
       "Borough             32\n",
       "Crime Section       13\n",
       "Crime group         31\n",
       "Outcome             31\n",
       "Positive Outcome     2\n",
       "dtype: int64"
      ]
     },
     "execution_count": 16,
     "metadata": {},
     "output_type": "execute_result"
    }
   ],
   "source": [
    "# check the unique value again\n",
    "df.select_dtypes(include='object').nunique()"
   ]
  },
  {
   "cell_type": "markdown",
   "id": "683f5762",
   "metadata": {},
   "source": [
    "### Check for duplicate"
   ]
  },
  {
   "cell_type": "code",
   "execution_count": 17,
   "id": "f0912220",
   "metadata": {},
   "outputs": [
    {
     "data": {
      "text/plain": [
       "np.int64(0)"
      ]
     },
     "execution_count": 17,
     "metadata": {},
     "output_type": "execute_result"
    }
   ],
   "source": [
    "df.duplicated().sum()"
   ]
  },
  {
   "cell_type": "markdown",
   "id": "113c076f",
   "metadata": {},
   "source": [
    "No duplicate found. Data cleaning process is satisfactory."
   ]
  },
  {
   "cell_type": "markdown",
   "id": "8dd74e5a",
   "metadata": {},
   "source": [
    "## Create new columns"
   ]
  },
  {
   "cell_type": "markdown",
   "id": "74f52882",
   "metadata": {},
   "source": [
    "I would like to make separate columns for Year, Month, Date for analysis."
   ]
  },
  {
   "cell_type": "code",
   "execution_count": 18,
   "id": "a2a2a3bc",
   "metadata": {},
   "outputs": [
    {
     "data": {
      "text/html": [
       "<div>\n",
       "<style scoped>\n",
       "    .dataframe tbody tr th:only-of-type {\n",
       "        vertical-align: middle;\n",
       "    }\n",
       "\n",
       "    .dataframe tbody tr th {\n",
       "        vertical-align: top;\n",
       "    }\n",
       "\n",
       "    .dataframe thead th {\n",
       "        text-align: right;\n",
       "    }\n",
       "</style>\n",
       "<table border=\"1\" class=\"dataframe\">\n",
       "  <thead>\n",
       "    <tr style=\"text-align: right;\">\n",
       "      <th></th>\n",
       "      <th>Date</th>\n",
       "      <th>Measure</th>\n",
       "      <th>Borough</th>\n",
       "      <th>Crime Section</th>\n",
       "      <th>Crime group</th>\n",
       "      <th>Outcome</th>\n",
       "      <th>Positive Outcome</th>\n",
       "      <th>Outcome Count</th>\n",
       "      <th>Refresh Date</th>\n",
       "      <th>Year</th>\n",
       "      <th>Month</th>\n",
       "      <th>Weekday</th>\n",
       "    </tr>\n",
       "  </thead>\n",
       "  <tbody>\n",
       "    <tr>\n",
       "      <th>0</th>\n",
       "      <td>2023-06-01</td>\n",
       "      <td>Business Crime Outcomes</td>\n",
       "      <td>Barking and Dagenham</td>\n",
       "      <td>POSSESSION OF WEAPONS</td>\n",
       "      <td>POSSESSION OF WEAPONS</td>\n",
       "      <td>Investigation Complete; No Suspect Identified....</td>\n",
       "      <td>N</td>\n",
       "      <td>1</td>\n",
       "      <td>2025-06-05</td>\n",
       "      <td>2023</td>\n",
       "      <td>6</td>\n",
       "      <td>Thursday</td>\n",
       "    </tr>\n",
       "    <tr>\n",
       "      <th>1</th>\n",
       "      <td>2023-06-01</td>\n",
       "      <td>Business Crime Outcomes</td>\n",
       "      <td>Barking and Dagenham</td>\n",
       "      <td>THEFT</td>\n",
       "      <td>OTHER THEFT</td>\n",
       "      <td>Investigation Complete; No Suspect Identified....</td>\n",
       "      <td>N</td>\n",
       "      <td>2</td>\n",
       "      <td>2025-06-05</td>\n",
       "      <td>2023</td>\n",
       "      <td>6</td>\n",
       "      <td>Thursday</td>\n",
       "    </tr>\n",
       "    <tr>\n",
       "      <th>2</th>\n",
       "      <td>2023-06-01</td>\n",
       "      <td>Business Crime Outcomes</td>\n",
       "      <td>Barking and Dagenham</td>\n",
       "      <td>THEFT</td>\n",
       "      <td>SHOPLIFTING</td>\n",
       "      <td>Named Suspect Identified: Victim Supports Poli...</td>\n",
       "      <td>N</td>\n",
       "      <td>2</td>\n",
       "      <td>2025-06-05</td>\n",
       "      <td>2023</td>\n",
       "      <td>6</td>\n",
       "      <td>Thursday</td>\n",
       "    </tr>\n",
       "    <tr>\n",
       "      <th>3</th>\n",
       "      <td>2023-06-01</td>\n",
       "      <td>Business Crime Outcomes</td>\n",
       "      <td>Barking and Dagenham</td>\n",
       "      <td>VIOLENCE AGAINST THE PERSON</td>\n",
       "      <td>VIOLENCE WITH INJURY</td>\n",
       "      <td>Named Suspect Identified: Evidential Difficult...</td>\n",
       "      <td>N</td>\n",
       "      <td>2</td>\n",
       "      <td>2025-06-05</td>\n",
       "      <td>2023</td>\n",
       "      <td>6</td>\n",
       "      <td>Thursday</td>\n",
       "    </tr>\n",
       "    <tr>\n",
       "      <th>4</th>\n",
       "      <td>2023-06-01</td>\n",
       "      <td>Business Crime Outcomes</td>\n",
       "      <td>Barnet</td>\n",
       "      <td>ARSON AND CRIMINAL DAMAGE</td>\n",
       "      <td>CRIMINAL DAMAGE</td>\n",
       "      <td>Named Suspect Identified: Victim Supports Poli...</td>\n",
       "      <td>N</td>\n",
       "      <td>1</td>\n",
       "      <td>2025-06-05</td>\n",
       "      <td>2023</td>\n",
       "      <td>6</td>\n",
       "      <td>Thursday</td>\n",
       "    </tr>\n",
       "  </tbody>\n",
       "</table>\n",
       "</div>"
      ],
      "text/plain": [
       "        Date                  Measure               Borough  \\\n",
       "0 2023-06-01  Business Crime Outcomes  Barking and Dagenham   \n",
       "1 2023-06-01  Business Crime Outcomes  Barking and Dagenham   \n",
       "2 2023-06-01  Business Crime Outcomes  Barking and Dagenham   \n",
       "3 2023-06-01  Business Crime Outcomes  Barking and Dagenham   \n",
       "4 2023-06-01  Business Crime Outcomes                Barnet   \n",
       "\n",
       "                 Crime Section            Crime group  \\\n",
       "0        POSSESSION OF WEAPONS  POSSESSION OF WEAPONS   \n",
       "1                        THEFT            OTHER THEFT   \n",
       "2                        THEFT            SHOPLIFTING   \n",
       "3  VIOLENCE AGAINST THE PERSON   VIOLENCE WITH INJURY   \n",
       "4    ARSON AND CRIMINAL DAMAGE        CRIMINAL DAMAGE   \n",
       "\n",
       "                                             Outcome Positive Outcome  \\\n",
       "0  Investigation Complete; No Suspect Identified....                N   \n",
       "1  Investigation Complete; No Suspect Identified....                N   \n",
       "2  Named Suspect Identified: Victim Supports Poli...                N   \n",
       "3  Named Suspect Identified: Evidential Difficult...                N   \n",
       "4  Named Suspect Identified: Victim Supports Poli...                N   \n",
       "\n",
       "   Outcome Count Refresh Date  Year  Month   Weekday  \n",
       "0              1   2025-06-05  2023      6  Thursday  \n",
       "1              2   2025-06-05  2023      6  Thursday  \n",
       "2              2   2025-06-05  2023      6  Thursday  \n",
       "3              2   2025-06-05  2023      6  Thursday  \n",
       "4              1   2025-06-05  2023      6  Thursday  "
      ]
     },
     "execution_count": 18,
     "metadata": {},
     "output_type": "execute_result"
    }
   ],
   "source": [
    "# create new columns\n",
    "df['Year'] = df['Date'].dt.year\n",
    "df['Month'] = df['Date'].dt.month\n",
    "df['Weekday'] = df['Date'].dt.day_name()\n",
    "\n",
    "# check for new columns\n",
    "df.head() "
   ]
  },
  {
   "cell_type": "markdown",
   "id": "6fc0bf1f",
   "metadata": {},
   "source": [
    "I am creating columns for city and country so that Tableau can load borough as geographic measure and delete unneccesary column."
   ]
  },
  {
   "cell_type": "code",
   "execution_count": 19,
   "id": "8f1a0353",
   "metadata": {},
   "outputs": [
    {
     "data": {
      "text/html": [
       "<div>\n",
       "<style scoped>\n",
       "    .dataframe tbody tr th:only-of-type {\n",
       "        vertical-align: middle;\n",
       "    }\n",
       "\n",
       "    .dataframe tbody tr th {\n",
       "        vertical-align: top;\n",
       "    }\n",
       "\n",
       "    .dataframe thead th {\n",
       "        text-align: right;\n",
       "    }\n",
       "</style>\n",
       "<table border=\"1\" class=\"dataframe\">\n",
       "  <thead>\n",
       "    <tr style=\"text-align: right;\">\n",
       "      <th></th>\n",
       "      <th>Date</th>\n",
       "      <th>Measure</th>\n",
       "      <th>Borough</th>\n",
       "      <th>Crime Section</th>\n",
       "      <th>Crime group</th>\n",
       "      <th>Outcome</th>\n",
       "      <th>Positive Outcome</th>\n",
       "      <th>Outcome Count</th>\n",
       "      <th>Year</th>\n",
       "      <th>Month</th>\n",
       "      <th>Weekday</th>\n",
       "      <th>City</th>\n",
       "      <th>Country</th>\n",
       "    </tr>\n",
       "  </thead>\n",
       "  <tbody>\n",
       "    <tr>\n",
       "      <th>0</th>\n",
       "      <td>2023-06-01</td>\n",
       "      <td>Business Crime Outcomes</td>\n",
       "      <td>Barking and Dagenham</td>\n",
       "      <td>POSSESSION OF WEAPONS</td>\n",
       "      <td>POSSESSION OF WEAPONS</td>\n",
       "      <td>Investigation Complete; No Suspect Identified....</td>\n",
       "      <td>N</td>\n",
       "      <td>1</td>\n",
       "      <td>2023</td>\n",
       "      <td>6</td>\n",
       "      <td>Thursday</td>\n",
       "      <td>London</td>\n",
       "      <td>UK</td>\n",
       "    </tr>\n",
       "    <tr>\n",
       "      <th>1</th>\n",
       "      <td>2023-06-01</td>\n",
       "      <td>Business Crime Outcomes</td>\n",
       "      <td>Barking and Dagenham</td>\n",
       "      <td>THEFT</td>\n",
       "      <td>OTHER THEFT</td>\n",
       "      <td>Investigation Complete; No Suspect Identified....</td>\n",
       "      <td>N</td>\n",
       "      <td>2</td>\n",
       "      <td>2023</td>\n",
       "      <td>6</td>\n",
       "      <td>Thursday</td>\n",
       "      <td>London</td>\n",
       "      <td>UK</td>\n",
       "    </tr>\n",
       "    <tr>\n",
       "      <th>2</th>\n",
       "      <td>2023-06-01</td>\n",
       "      <td>Business Crime Outcomes</td>\n",
       "      <td>Barking and Dagenham</td>\n",
       "      <td>THEFT</td>\n",
       "      <td>SHOPLIFTING</td>\n",
       "      <td>Named Suspect Identified: Victim Supports Poli...</td>\n",
       "      <td>N</td>\n",
       "      <td>2</td>\n",
       "      <td>2023</td>\n",
       "      <td>6</td>\n",
       "      <td>Thursday</td>\n",
       "      <td>London</td>\n",
       "      <td>UK</td>\n",
       "    </tr>\n",
       "    <tr>\n",
       "      <th>3</th>\n",
       "      <td>2023-06-01</td>\n",
       "      <td>Business Crime Outcomes</td>\n",
       "      <td>Barking and Dagenham</td>\n",
       "      <td>VIOLENCE AGAINST THE PERSON</td>\n",
       "      <td>VIOLENCE WITH INJURY</td>\n",
       "      <td>Named Suspect Identified: Evidential Difficult...</td>\n",
       "      <td>N</td>\n",
       "      <td>2</td>\n",
       "      <td>2023</td>\n",
       "      <td>6</td>\n",
       "      <td>Thursday</td>\n",
       "      <td>London</td>\n",
       "      <td>UK</td>\n",
       "    </tr>\n",
       "    <tr>\n",
       "      <th>4</th>\n",
       "      <td>2023-06-01</td>\n",
       "      <td>Business Crime Outcomes</td>\n",
       "      <td>Barnet</td>\n",
       "      <td>ARSON AND CRIMINAL DAMAGE</td>\n",
       "      <td>CRIMINAL DAMAGE</td>\n",
       "      <td>Named Suspect Identified: Victim Supports Poli...</td>\n",
       "      <td>N</td>\n",
       "      <td>1</td>\n",
       "      <td>2023</td>\n",
       "      <td>6</td>\n",
       "      <td>Thursday</td>\n",
       "      <td>London</td>\n",
       "      <td>UK</td>\n",
       "    </tr>\n",
       "  </tbody>\n",
       "</table>\n",
       "</div>"
      ],
      "text/plain": [
       "        Date                  Measure               Borough  \\\n",
       "0 2023-06-01  Business Crime Outcomes  Barking and Dagenham   \n",
       "1 2023-06-01  Business Crime Outcomes  Barking and Dagenham   \n",
       "2 2023-06-01  Business Crime Outcomes  Barking and Dagenham   \n",
       "3 2023-06-01  Business Crime Outcomes  Barking and Dagenham   \n",
       "4 2023-06-01  Business Crime Outcomes                Barnet   \n",
       "\n",
       "                 Crime Section            Crime group  \\\n",
       "0        POSSESSION OF WEAPONS  POSSESSION OF WEAPONS   \n",
       "1                        THEFT            OTHER THEFT   \n",
       "2                        THEFT            SHOPLIFTING   \n",
       "3  VIOLENCE AGAINST THE PERSON   VIOLENCE WITH INJURY   \n",
       "4    ARSON AND CRIMINAL DAMAGE        CRIMINAL DAMAGE   \n",
       "\n",
       "                                             Outcome Positive Outcome  \\\n",
       "0  Investigation Complete; No Suspect Identified....                N   \n",
       "1  Investigation Complete; No Suspect Identified....                N   \n",
       "2  Named Suspect Identified: Victim Supports Poli...                N   \n",
       "3  Named Suspect Identified: Evidential Difficult...                N   \n",
       "4  Named Suspect Identified: Victim Supports Poli...                N   \n",
       "\n",
       "   Outcome Count  Year  Month   Weekday    City Country  \n",
       "0              1  2023      6  Thursday  London      UK  \n",
       "1              2  2023      6  Thursday  London      UK  \n",
       "2              2  2023      6  Thursday  London      UK  \n",
       "3              2  2023      6  Thursday  London      UK  \n",
       "4              1  2023      6  Thursday  London      UK  "
      ]
     },
     "execution_count": 19,
     "metadata": {},
     "output_type": "execute_result"
    }
   ],
   "source": [
    "# create new columns \n",
    "df['City']= 'London'\n",
    "df['Country'] = 'UK'\n",
    "\n",
    "# drop nuneccesary column\n",
    "newdf = df.drop('Refresh Date', axis='columns')\n",
    "# check for new columns\n",
    "newdf.head()"
   ]
  },
  {
   "cell_type": "markdown",
   "id": "26c0a210",
   "metadata": {},
   "source": [
    "Reorder the column "
   ]
  },
  {
   "cell_type": "code",
   "execution_count": 20,
   "id": "bc1498a4",
   "metadata": {},
   "outputs": [
    {
     "data": {
      "text/html": [
       "<div>\n",
       "<style scoped>\n",
       "    .dataframe tbody tr th:only-of-type {\n",
       "        vertical-align: middle;\n",
       "    }\n",
       "\n",
       "    .dataframe tbody tr th {\n",
       "        vertical-align: top;\n",
       "    }\n",
       "\n",
       "    .dataframe thead th {\n",
       "        text-align: right;\n",
       "    }\n",
       "</style>\n",
       "<table border=\"1\" class=\"dataframe\">\n",
       "  <thead>\n",
       "    <tr style=\"text-align: right;\">\n",
       "      <th></th>\n",
       "      <th>Date</th>\n",
       "      <th>Measure</th>\n",
       "      <th>Borough</th>\n",
       "      <th>City</th>\n",
       "      <th>Country</th>\n",
       "      <th>Crime Section</th>\n",
       "      <th>Crime group</th>\n",
       "      <th>Outcome</th>\n",
       "      <th>Positive Outcome</th>\n",
       "      <th>Outcome Count</th>\n",
       "      <th>Year</th>\n",
       "      <th>Month</th>\n",
       "      <th>Weekday</th>\n",
       "    </tr>\n",
       "  </thead>\n",
       "  <tbody>\n",
       "    <tr>\n",
       "      <th>0</th>\n",
       "      <td>2023-06-01</td>\n",
       "      <td>Business Crime Outcomes</td>\n",
       "      <td>Barking and Dagenham</td>\n",
       "      <td>London</td>\n",
       "      <td>UK</td>\n",
       "      <td>POSSESSION OF WEAPONS</td>\n",
       "      <td>POSSESSION OF WEAPONS</td>\n",
       "      <td>Investigation Complete; No Suspect Identified....</td>\n",
       "      <td>N</td>\n",
       "      <td>1</td>\n",
       "      <td>2023</td>\n",
       "      <td>6</td>\n",
       "      <td>Thursday</td>\n",
       "    </tr>\n",
       "    <tr>\n",
       "      <th>1</th>\n",
       "      <td>2023-06-01</td>\n",
       "      <td>Business Crime Outcomes</td>\n",
       "      <td>Barking and Dagenham</td>\n",
       "      <td>London</td>\n",
       "      <td>UK</td>\n",
       "      <td>THEFT</td>\n",
       "      <td>OTHER THEFT</td>\n",
       "      <td>Investigation Complete; No Suspect Identified....</td>\n",
       "      <td>N</td>\n",
       "      <td>2</td>\n",
       "      <td>2023</td>\n",
       "      <td>6</td>\n",
       "      <td>Thursday</td>\n",
       "    </tr>\n",
       "    <tr>\n",
       "      <th>2</th>\n",
       "      <td>2023-06-01</td>\n",
       "      <td>Business Crime Outcomes</td>\n",
       "      <td>Barking and Dagenham</td>\n",
       "      <td>London</td>\n",
       "      <td>UK</td>\n",
       "      <td>THEFT</td>\n",
       "      <td>SHOPLIFTING</td>\n",
       "      <td>Named Suspect Identified: Victim Supports Poli...</td>\n",
       "      <td>N</td>\n",
       "      <td>2</td>\n",
       "      <td>2023</td>\n",
       "      <td>6</td>\n",
       "      <td>Thursday</td>\n",
       "    </tr>\n",
       "    <tr>\n",
       "      <th>3</th>\n",
       "      <td>2023-06-01</td>\n",
       "      <td>Business Crime Outcomes</td>\n",
       "      <td>Barking and Dagenham</td>\n",
       "      <td>London</td>\n",
       "      <td>UK</td>\n",
       "      <td>VIOLENCE AGAINST THE PERSON</td>\n",
       "      <td>VIOLENCE WITH INJURY</td>\n",
       "      <td>Named Suspect Identified: Evidential Difficult...</td>\n",
       "      <td>N</td>\n",
       "      <td>2</td>\n",
       "      <td>2023</td>\n",
       "      <td>6</td>\n",
       "      <td>Thursday</td>\n",
       "    </tr>\n",
       "    <tr>\n",
       "      <th>4</th>\n",
       "      <td>2023-06-01</td>\n",
       "      <td>Business Crime Outcomes</td>\n",
       "      <td>Barnet</td>\n",
       "      <td>London</td>\n",
       "      <td>UK</td>\n",
       "      <td>ARSON AND CRIMINAL DAMAGE</td>\n",
       "      <td>CRIMINAL DAMAGE</td>\n",
       "      <td>Named Suspect Identified: Victim Supports Poli...</td>\n",
       "      <td>N</td>\n",
       "      <td>1</td>\n",
       "      <td>2023</td>\n",
       "      <td>6</td>\n",
       "      <td>Thursday</td>\n",
       "    </tr>\n",
       "  </tbody>\n",
       "</table>\n",
       "</div>"
      ],
      "text/plain": [
       "        Date                  Measure               Borough    City Country  \\\n",
       "0 2023-06-01  Business Crime Outcomes  Barking and Dagenham  London      UK   \n",
       "1 2023-06-01  Business Crime Outcomes  Barking and Dagenham  London      UK   \n",
       "2 2023-06-01  Business Crime Outcomes  Barking and Dagenham  London      UK   \n",
       "3 2023-06-01  Business Crime Outcomes  Barking and Dagenham  London      UK   \n",
       "4 2023-06-01  Business Crime Outcomes                Barnet  London      UK   \n",
       "\n",
       "                 Crime Section            Crime group  \\\n",
       "0        POSSESSION OF WEAPONS  POSSESSION OF WEAPONS   \n",
       "1                        THEFT            OTHER THEFT   \n",
       "2                        THEFT            SHOPLIFTING   \n",
       "3  VIOLENCE AGAINST THE PERSON   VIOLENCE WITH INJURY   \n",
       "4    ARSON AND CRIMINAL DAMAGE        CRIMINAL DAMAGE   \n",
       "\n",
       "                                             Outcome Positive Outcome  \\\n",
       "0  Investigation Complete; No Suspect Identified....                N   \n",
       "1  Investigation Complete; No Suspect Identified....                N   \n",
       "2  Named Suspect Identified: Victim Supports Poli...                N   \n",
       "3  Named Suspect Identified: Evidential Difficult...                N   \n",
       "4  Named Suspect Identified: Victim Supports Poli...                N   \n",
       "\n",
       "   Outcome Count  Year  Month   Weekday  \n",
       "0              1  2023      6  Thursday  \n",
       "1              2  2023      6  Thursday  \n",
       "2              2  2023      6  Thursday  \n",
       "3              2  2023      6  Thursday  \n",
       "4              1  2023      6  Thursday  "
      ]
     },
     "execution_count": 20,
     "metadata": {},
     "output_type": "execute_result"
    }
   ],
   "source": [
    "# Get the list of current columns\n",
    "cols = list(newdf.columns)\n",
    "\n",
    "# Remove 'City' and Countyr from its current position\n",
    "cols.remove('City')\n",
    "cols.remove('Country')\n",
    "\n",
    "# Find the index of 'Borough'\n",
    "borough_index = cols.index('Borough')\n",
    "\n",
    "# Insert 'City' and 'Country' right after 'Borough'\n",
    "cols.insert(borough_index + 1, 'City')\n",
    "cols.insert(borough_index + 2, 'Country')\n",
    "\n",
    "# Reorder the DataFrame\n",
    "df2 = newdf[cols]\n",
    "\n",
    "df2.head()\n"
   ]
  },
  {
   "cell_type": "markdown",
   "id": "c950aa2f",
   "metadata": {},
   "source": [
    "### Save cleaned data as csv"
   ]
  },
  {
   "cell_type": "code",
   "execution_count": 21,
   "id": "6eaeb2d4",
   "metadata": {},
   "outputs": [],
   "source": [
    "df2.to_csv(\"../dataset/cleaned_data.csv\", index=False)"
   ]
  },
  {
   "cell_type": "markdown",
   "id": "497b6660",
   "metadata": {},
   "source": [
    "##### The next step taken is Exporatory Data Analysis which can find from [here](https://github.com/Kaori61/crime-data-analysis/blob/main/jupyter_notebooks/exploratory_data_analysis.ipynb).\n",
    "Go back to [README](https://github.com/Kaori61/crime-data-analysis/blob/main/README.md)"
   ]
  }
 ],
 "metadata": {
  "kernelspec": {
   "display_name": ".venv",
   "language": "python",
   "name": "python3"
  },
  "language_info": {
   "codemirror_mode": {
    "name": "ipython",
    "version": 3
   },
   "file_extension": ".py",
   "mimetype": "text/x-python",
   "name": "python",
   "nbconvert_exporter": "python",
   "pygments_lexer": "ipython3",
   "version": "3.12.8"
  }
 },
 "nbformat": 4,
 "nbformat_minor": 5
}
