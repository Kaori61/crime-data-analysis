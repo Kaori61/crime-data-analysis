{
 "cells": [
  {
   "cell_type": "markdown",
   "id": "c3738104",
   "metadata": {},
   "source": [
    "## Statistical analysis for crime data"
   ]
  },
  {
   "cell_type": "markdown",
   "id": "e7ff93f6",
   "metadata": {},
   "source": [
    "##### Import libralies and load dataset"
   ]
  },
  {
   "cell_type": "code",
   "execution_count": 1,
   "id": "b1690616",
   "metadata": {},
   "outputs": [],
   "source": [
    "# import necessary libraries\n",
    "import pandas as pd\n",
    "import numpy as np"
   ]
  },
  {
   "cell_type": "code",
   "execution_count": 2,
   "id": "6c054231",
   "metadata": {},
   "outputs": [
    {
     "data": {
      "text/html": [
       "<div>\n",
       "<style scoped>\n",
       "    .dataframe tbody tr th:only-of-type {\n",
       "        vertical-align: middle;\n",
       "    }\n",
       "\n",
       "    .dataframe tbody tr th {\n",
       "        vertical-align: top;\n",
       "    }\n",
       "\n",
       "    .dataframe thead th {\n",
       "        text-align: right;\n",
       "    }\n",
       "</style>\n",
       "<table border=\"1\" class=\"dataframe\">\n",
       "  <thead>\n",
       "    <tr style=\"text-align: right;\">\n",
       "      <th></th>\n",
       "      <th>Date</th>\n",
       "      <th>Measure</th>\n",
       "      <th>Borough</th>\n",
       "      <th>Crime Section</th>\n",
       "      <th>Crime group</th>\n",
       "      <th>Outcome</th>\n",
       "      <th>Positive Outcome</th>\n",
       "      <th>Outcome Count</th>\n",
       "      <th>Refresh Date</th>\n",
       "      <th>Year</th>\n",
       "      <th>Month</th>\n",
       "      <th>Weekday</th>\n",
       "    </tr>\n",
       "  </thead>\n",
       "  <tbody>\n",
       "    <tr>\n",
       "      <th>0</th>\n",
       "      <td>2023-06-01</td>\n",
       "      <td>Business Crime Outcomes</td>\n",
       "      <td>Barking and Dagenham</td>\n",
       "      <td>POSSESSION OF WEAPONS</td>\n",
       "      <td>POSSESSION OF WEAPONS</td>\n",
       "      <td>Investigation Complete; No Suspect Identified....</td>\n",
       "      <td>N</td>\n",
       "      <td>1</td>\n",
       "      <td>2025-06-05</td>\n",
       "      <td>2023</td>\n",
       "      <td>6</td>\n",
       "      <td>Thursday</td>\n",
       "    </tr>\n",
       "    <tr>\n",
       "      <th>1</th>\n",
       "      <td>2023-06-01</td>\n",
       "      <td>Business Crime Outcomes</td>\n",
       "      <td>Barking and Dagenham</td>\n",
       "      <td>THEFT</td>\n",
       "      <td>OTHER THEFT</td>\n",
       "      <td>Investigation Complete; No Suspect Identified....</td>\n",
       "      <td>N</td>\n",
       "      <td>2</td>\n",
       "      <td>2025-06-05</td>\n",
       "      <td>2023</td>\n",
       "      <td>6</td>\n",
       "      <td>Thursday</td>\n",
       "    </tr>\n",
       "    <tr>\n",
       "      <th>2</th>\n",
       "      <td>2023-06-01</td>\n",
       "      <td>Business Crime Outcomes</td>\n",
       "      <td>Barking and Dagenham</td>\n",
       "      <td>THEFT</td>\n",
       "      <td>SHOPLIFTING</td>\n",
       "      <td>Named Suspect Identified: Victim Supports Poli...</td>\n",
       "      <td>N</td>\n",
       "      <td>2</td>\n",
       "      <td>2025-06-05</td>\n",
       "      <td>2023</td>\n",
       "      <td>6</td>\n",
       "      <td>Thursday</td>\n",
       "    </tr>\n",
       "    <tr>\n",
       "      <th>3</th>\n",
       "      <td>2023-06-01</td>\n",
       "      <td>Business Crime Outcomes</td>\n",
       "      <td>Barking and Dagenham</td>\n",
       "      <td>VIOLENCE AGAINST THE PERSON</td>\n",
       "      <td>VIOLENCE WITH INJURY</td>\n",
       "      <td>Named Suspect Identified: Evidential Difficult...</td>\n",
       "      <td>N</td>\n",
       "      <td>2</td>\n",
       "      <td>2025-06-05</td>\n",
       "      <td>2023</td>\n",
       "      <td>6</td>\n",
       "      <td>Thursday</td>\n",
       "    </tr>\n",
       "    <tr>\n",
       "      <th>4</th>\n",
       "      <td>2023-06-01</td>\n",
       "      <td>Business Crime Outcomes</td>\n",
       "      <td>Barnet</td>\n",
       "      <td>ARSON AND CRIMINAL DAMAGE</td>\n",
       "      <td>CRIMINAL DAMAGE</td>\n",
       "      <td>Named Suspect Identified: Victim Supports Poli...</td>\n",
       "      <td>N</td>\n",
       "      <td>1</td>\n",
       "      <td>2025-06-05</td>\n",
       "      <td>2023</td>\n",
       "      <td>6</td>\n",
       "      <td>Thursday</td>\n",
       "    </tr>\n",
       "  </tbody>\n",
       "</table>\n",
       "</div>"
      ],
      "text/plain": [
       "         Date                  Measure               Borough  \\\n",
       "0  2023-06-01  Business Crime Outcomes  Barking and Dagenham   \n",
       "1  2023-06-01  Business Crime Outcomes  Barking and Dagenham   \n",
       "2  2023-06-01  Business Crime Outcomes  Barking and Dagenham   \n",
       "3  2023-06-01  Business Crime Outcomes  Barking and Dagenham   \n",
       "4  2023-06-01  Business Crime Outcomes                Barnet   \n",
       "\n",
       "                 Crime Section            Crime group  \\\n",
       "0        POSSESSION OF WEAPONS  POSSESSION OF WEAPONS   \n",
       "1                        THEFT            OTHER THEFT   \n",
       "2                        THEFT            SHOPLIFTING   \n",
       "3  VIOLENCE AGAINST THE PERSON   VIOLENCE WITH INJURY   \n",
       "4    ARSON AND CRIMINAL DAMAGE        CRIMINAL DAMAGE   \n",
       "\n",
       "                                             Outcome Positive Outcome  \\\n",
       "0  Investigation Complete; No Suspect Identified....                N   \n",
       "1  Investigation Complete; No Suspect Identified....                N   \n",
       "2  Named Suspect Identified: Victim Supports Poli...                N   \n",
       "3  Named Suspect Identified: Evidential Difficult...                N   \n",
       "4  Named Suspect Identified: Victim Supports Poli...                N   \n",
       "\n",
       "   Outcome Count Refresh Date  Year  Month   Weekday  \n",
       "0              1   2025-06-05  2023      6  Thursday  \n",
       "1              2   2025-06-05  2023      6  Thursday  \n",
       "2              2   2025-06-05  2023      6  Thursday  \n",
       "3              2   2025-06-05  2023      6  Thursday  \n",
       "4              1   2025-06-05  2023      6  Thursday  "
      ]
     },
     "execution_count": 2,
     "metadata": {},
     "output_type": "execute_result"
    }
   ],
   "source": [
    "df = pd.read_csv('../dataset/cleaned_data.csv')\n",
    "df.head()"
   ]
  },
  {
   "cell_type": "markdown",
   "id": "81d82a23",
   "metadata": {},
   "source": [
    "#### Mean crime count per borough"
   ]
  },
  {
   "cell_type": "code",
   "execution_count": null,
   "id": "73adefeb",
   "metadata": {},
   "outputs": [
    {
     "data": {
      "text/plain": [
       "np.float64(12347.5)"
      ]
     },
     "execution_count": 3,
     "metadata": {},
     "output_type": "execute_result"
    }
   ],
   "source": [
    "df['Borough'].value_counts().mean()"
   ]
  },
  {
   "cell_type": "markdown",
   "id": "978b0362",
   "metadata": {},
   "source": [
    "The mean is the sum of all values divided by the number of values and it is the average. The average number of crime in borough is 12347"
   ]
  },
  {
   "cell_type": "markdown",
   "id": "38d4056a",
   "metadata": {},
   "source": [
    "#### Median crime count per borough"
   ]
  },
  {
   "cell_type": "code",
   "execution_count": 5,
   "id": "a55733b6",
   "metadata": {},
   "outputs": [
    {
     "data": {
      "text/plain": [
       "np.float64(23347.0)"
      ]
     },
     "execution_count": 5,
     "metadata": {},
     "output_type": "execute_result"
    }
   ],
   "source": [
    "df['Crime Section'].value_counts().median()"
   ]
  },
  {
   "cell_type": "markdown",
   "id": "0c022299",
   "metadata": {},
   "source": [
    "The Median is the middle value in a dataset. "
   ]
  },
  {
   "cell_type": "markdown",
   "id": "4cf74367",
   "metadata": {},
   "source": [
    "#### Standard Deviation"
   ]
  },
  {
   "cell_type": "code",
   "execution_count": 6,
   "id": "b8bf8d7a",
   "metadata": {},
   "outputs": [
    {
     "data": {
      "text/plain": [
       "np.float64(3.3720163769819123)"
      ]
     },
     "execution_count": 6,
     "metadata": {},
     "output_type": "execute_result"
    }
   ],
   "source": [
    "df['Outcome Count'].std()"
   ]
  },
  {
   "cell_type": "markdown",
   "id": "4c06cff8",
   "metadata": {},
   "source": [
    "Standard deviation measures how spread out the data is. A high standard deviation means more variability.\n",
    "This data has standard deviation of 3.37 which is moderately spread out. "
   ]
  },
  {
   "cell_type": "markdown",
   "id": "3e82d8ec",
   "metadata": {},
   "source": [
    "#### Hypothesis Testing\n",
    "Hypothesis testing helps assess if differences or relationships are statistically significant, not just due to chance."
   ]
  },
  {
   "cell_type": "markdown",
   "id": "2c0c1f03",
   "metadata": {},
   "source": [
    "First, install scripy"
   ]
  },
  {
   "cell_type": "code",
   "execution_count": 9,
   "id": "3d01b7b6",
   "metadata": {},
   "outputs": [
    {
     "name": "stdout",
     "output_type": "stream",
     "text": [
      "Collecting scipy\n",
      "  Using cached scipy-1.16.0-cp312-cp312-win_amd64.whl.metadata (60 kB)\n",
      "Requirement already satisfied: numpy<2.6,>=1.25.2 in c:\\users\\kaori\\projects\\crime-data-analysis\\.venv\\lib\\site-packages (from scipy) (2.3.1)\n",
      "Using cached scipy-1.16.0-cp312-cp312-win_amd64.whl (38.4 MB)\n",
      "Installing collected packages: scipy\n",
      "Successfully installed scipy-1.16.0\n"
     ]
    }
   ],
   "source": [
    "pip install scipy"
   ]
  },
  {
   "cell_type": "code",
   "execution_count": 16,
   "id": "9add318b",
   "metadata": {},
   "outputs": [
    {
     "name": "stdout",
     "output_type": "stream",
     "text": [
      "Westminster vs Camden -> t-statistic: 15.37, p-value: 0.0000\n",
      "Westminster vs Tower Hamlets -> t-statistic: 14.79, p-value: 0.0000\n",
      "Westminster vs Newham -> t-statistic: 9.63, p-value: 0.0000\n",
      "Westminster vs Lambeth -> t-statistic: 12.62, p-value: 0.0000\n",
      "Westminster vs Southwark -> t-statistic: 15.98, p-value: 0.0000\n",
      "Westminster vs Hackney -> t-statistic: 15.69, p-value: 0.0000\n",
      "Westminster vs Brent -> t-statistic: 14.70, p-value: 0.0000\n",
      "Westminster vs Islington -> t-statistic: 13.48, p-value: 0.0000\n",
      "Westminster vs Hillingdon -> t-statistic: 9.93, p-value: 0.0000\n",
      "Camden vs Tower Hamlets -> t-statistic: -0.43, p-value: 0.6685\n",
      "Camden vs Newham -> t-statistic: -5.27, p-value: 0.0000\n",
      "Camden vs Lambeth -> t-statistic: -2.38, p-value: 0.0174\n",
      "Camden vs Southwark -> t-statistic: 0.88, p-value: 0.3798\n",
      "Camden vs Hackney -> t-statistic: 0.84, p-value: 0.3996\n",
      "Camden vs Brent -> t-statistic: 0.01, p-value: 0.9954\n",
      "Camden vs Islington -> t-statistic: -1.16, p-value: 0.2450\n",
      "Camden vs Hillingdon -> t-statistic: -4.45, p-value: 0.0000\n",
      "Tower Hamlets vs Newham -> t-statistic: -4.81, p-value: 0.0000\n",
      "Tower Hamlets vs Lambeth -> t-statistic: -1.94, p-value: 0.0525\n",
      "Tower Hamlets vs Southwark -> t-statistic: 1.29, p-value: 0.1955\n",
      "Tower Hamlets vs Hackney -> t-statistic: 1.25, p-value: 0.2101\n",
      "Tower Hamlets vs Brent -> t-statistic: 0.42, p-value: 0.6748\n",
      "Tower Hamlets vs Islington -> t-statistic: -0.74, p-value: 0.4583\n",
      "Tower Hamlets vs Hillingdon -> t-statistic: -4.01, p-value: 0.0001\n",
      "Newham vs Lambeth -> t-statistic: 2.85, p-value: 0.0044\n",
      "Newham vs Southwark -> t-statistic: 6.06, p-value: 0.0000\n",
      "Newham vs Hackney -> t-statistic: 5.95, p-value: 0.0000\n",
      "Newham vs Brent -> t-statistic: 5.09, p-value: 0.0000\n",
      "Newham vs Islington -> t-statistic: 3.93, p-value: 0.0001\n",
      "Newham vs Hillingdon -> t-statistic: 0.65, p-value: 0.5185\n",
      "Lambeth vs Southwark -> t-statistic: 3.21, p-value: 0.0013\n",
      "Lambeth vs Hackney -> t-statistic: 3.14, p-value: 0.0017\n",
      "Lambeth vs Brent -> t-statistic: 2.30, p-value: 0.0213\n",
      "Lambeth vs Islington -> t-statistic: 1.15, p-value: 0.2511\n",
      "Lambeth vs Hillingdon -> t-statistic: -2.11, p-value: 0.0346\n",
      "Southwark vs Hackney -> t-statistic: -0.02, p-value: 0.9807\n",
      "Southwark vs Brent -> t-statistic: -0.84, p-value: 0.3988\n",
      "Southwark vs Islington -> t-statistic: -2.00, p-value: 0.0460\n",
      "Southwark vs Hillingdon -> t-statistic: -5.23, p-value: 0.0000\n",
      "Hackney vs Brent -> t-statistic: -0.81, p-value: 0.4181\n",
      "Hackney vs Islington -> t-statistic: -1.95, p-value: 0.0516\n",
      "Hackney vs Hillingdon -> t-statistic: -5.14, p-value: 0.0000\n",
      "Brent vs Islington -> t-statistic: -1.13, p-value: 0.2582\n",
      "Brent vs Hillingdon -> t-statistic: -4.31, p-value: 0.0000\n",
      "Islington vs Hillingdon -> t-statistic: -3.19, p-value: 0.0014\n"
     ]
    }
   ],
   "source": [
    "from scipy.stats import ttest_ind\n",
    "import itertools\n",
    "\n",
    "# Map 'Y'/'N' to 1/0\n",
    "df['Closed'] = df['Positive Outcome'].map({'Y': 1, 'N': 0})\n",
    "\n",
    "# Get top 10 boroughs by crime count\n",
    "top_boroughs = df['Borough'].value_counts().nlargest(10).index\n",
    "\n",
    "# Filter dataframe to include only those boroughs\n",
    "filtered_df = df[df['Borough'].isin(top_boroughs)]\n",
    "\n",
    "# Loop through all unique borough pairs\n",
    "for b1, b2 in itertools.combinations(top_boroughs, 2):\n",
    "    group1 = filtered_df[filtered_df['Borough'] == b1]['Closed']\n",
    "    group2 = filtered_df[filtered_df['Borough'] == b2]['Closed']\n",
    "    \n",
    "    t_stat, p_val = ttest_ind(group1, group2, nan_policy='omit')\n",
    "    \n",
    "    print(f\"{b1} vs {b2} -> t-statistic: {t_stat:.2f}, p-value: {p_val:.4f}\")"
   ]
  },
  {
   "cell_type": "markdown",
   "id": "41238725",
   "metadata": {},
   "source": [
    "Top 3 statistically significant borough based on this comparison are\n",
    "| Boroughs                  | t-statistic | p-value | \n",
    "| ---------------------------- | ----------- | ------- |\n",
    "| **Westminster vs Southwark** | 15.98       | 0.0000  |\n",
    "| **Westminster vs Hackney**   | 15.69       | 0.0000  |\n",
    "| **Westminster vs Camden**    | 15.37       | 0.0000  |\n"
   ]
  },
  {
   "cell_type": "markdown",
   "id": "73c14714",
   "metadata": {},
   "source": [
    "All three involve Westminster, suggesting its closure rate is significantly higher (or lower) than others.\n",
    "All p-values are < 0.001, meaning the differences are very unlikely due to chance.\n",
    "\n",
    "All the comparison to Westminster shows 0.000 p-value so I will double check if this is an error."
   ]
  },
  {
   "cell_type": "code",
   "execution_count": null,
   "id": "3a6fb6cd",
   "metadata": {},
   "outputs": [
    {
     "data": {
      "text/plain": [
       "Borough\n",
       "Westminster               0.176172\n",
       "Havering                  0.142871\n",
       "Bromley                   0.139373\n",
       "Newham                    0.139195\n",
       "Hillingdon                0.136591\n",
       "Hammersmith and Fulham    0.133753\n",
       "Kingston upon Thames      0.131292\n",
       "Lewisham                  0.130281\n",
       "Bexley                    0.128637\n",
       "Lambeth                   0.128212\n",
       "Croydon                   0.127971\n",
       "Greenwich                 0.127785\n",
       "Barking and Dagenham      0.127094\n",
       "Islington                 0.123790\n",
       "Tower Hamlets             0.120990\n",
       "Waltham Forest            0.120750\n",
       "Haringey                  0.120286\n",
       "Camden                    0.119441\n",
       "Brent                     0.119420\n",
       "Hackney                   0.116355\n",
       "Southwark                 0.116266\n",
       "Sutton                    0.116125\n",
       "Redbridge                 0.113078\n",
       "Wandsworth                0.110312\n",
       "Kensington and Chelsea    0.108281\n",
       "Hounslow                  0.107864\n",
       "Barnet                    0.106624\n",
       "Harrow                    0.102233\n",
       "Ealing                    0.101549\n",
       "Enfield                   0.097171\n",
       "Merton                    0.095528\n",
       "Richmond upon Thames      0.084713\n",
       "Name: Closed, dtype: float64"
      ]
     },
     "execution_count": 13,
     "metadata": {},
     "output_type": "execute_result"
    }
   ],
   "source": [
    "# checking for positive outcome rate\n",
    "df.groupby('Borough')['Closed'].mean().sort_values(ascending=False)\n"
   ]
  },
  {
   "cell_type": "markdown",
   "id": "f23a5520",
   "metadata": {},
   "source": [
    "Westminster has the highest closure rate compared to other boroughs so the p-value isn't an error. \n",
    "\n",
    "This hypothesis testing can conclude Westminster is the most satistically significant borough in closing crime case."
   ]
  }
 ],
 "metadata": {
  "kernelspec": {
   "display_name": ".venv",
   "language": "python",
   "name": "python3"
  },
  "language_info": {
   "codemirror_mode": {
    "name": "ipython",
    "version": 3
   },
   "file_extension": ".py",
   "mimetype": "text/x-python",
   "name": "python",
   "nbconvert_exporter": "python",
   "pygments_lexer": "ipython3",
   "version": "3.12.8"
  }
 },
 "nbformat": 4,
 "nbformat_minor": 5
}
