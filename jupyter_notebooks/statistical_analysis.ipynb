{
 "cells": [
  {
   "cell_type": "markdown",
   "id": "c3738104",
   "metadata": {},
   "source": [
    "## Statistical analysis for crime data"
   ]
  },
  {
   "cell_type": "markdown",
   "id": "e7ff93f6",
   "metadata": {},
   "source": [
    "##### Import libralies and load dataset"
   ]
  },
  {
   "cell_type": "code",
   "execution_count": 1,
   "id": "b1690616",
   "metadata": {},
   "outputs": [],
   "source": [
    "# import necessary libraries\n",
    "import pandas as pd\n",
    "import numpy as np"
   ]
  },
  {
   "cell_type": "code",
   "execution_count": 2,
   "id": "6c054231",
   "metadata": {},
   "outputs": [
    {
     "data": {
      "text/html": [
       "<div>\n",
       "<style scoped>\n",
       "    .dataframe tbody tr th:only-of-type {\n",
       "        vertical-align: middle;\n",
       "    }\n",
       "\n",
       "    .dataframe tbody tr th {\n",
       "        vertical-align: top;\n",
       "    }\n",
       "\n",
       "    .dataframe thead th {\n",
       "        text-align: right;\n",
       "    }\n",
       "</style>\n",
       "<table border=\"1\" class=\"dataframe\">\n",
       "  <thead>\n",
       "    <tr style=\"text-align: right;\">\n",
       "      <th></th>\n",
       "      <th>Date</th>\n",
       "      <th>Measure</th>\n",
       "      <th>Borough</th>\n",
       "      <th>Crime Section</th>\n",
       "      <th>Crime group</th>\n",
       "      <th>Outcome</th>\n",
       "      <th>Positive Outcome</th>\n",
       "      <th>Outcome Count</th>\n",
       "      <th>Refresh Date</th>\n",
       "      <th>Year</th>\n",
       "      <th>Month</th>\n",
       "      <th>Weekday</th>\n",
       "    </tr>\n",
       "  </thead>\n",
       "  <tbody>\n",
       "    <tr>\n",
       "      <th>0</th>\n",
       "      <td>2023-06-01</td>\n",
       "      <td>Business Crime Outcomes</td>\n",
       "      <td>Barking and Dagenham</td>\n",
       "      <td>POSSESSION OF WEAPONS</td>\n",
       "      <td>POSSESSION OF WEAPONS</td>\n",
       "      <td>Investigation Complete; No Suspect Identified....</td>\n",
       "      <td>N</td>\n",
       "      <td>1</td>\n",
       "      <td>2025-06-05</td>\n",
       "      <td>2023</td>\n",
       "      <td>6</td>\n",
       "      <td>Thursday</td>\n",
       "    </tr>\n",
       "    <tr>\n",
       "      <th>1</th>\n",
       "      <td>2023-06-01</td>\n",
       "      <td>Business Crime Outcomes</td>\n",
       "      <td>Barking and Dagenham</td>\n",
       "      <td>THEFT</td>\n",
       "      <td>OTHER THEFT</td>\n",
       "      <td>Investigation Complete; No Suspect Identified....</td>\n",
       "      <td>N</td>\n",
       "      <td>2</td>\n",
       "      <td>2025-06-05</td>\n",
       "      <td>2023</td>\n",
       "      <td>6</td>\n",
       "      <td>Thursday</td>\n",
       "    </tr>\n",
       "    <tr>\n",
       "      <th>2</th>\n",
       "      <td>2023-06-01</td>\n",
       "      <td>Business Crime Outcomes</td>\n",
       "      <td>Barking and Dagenham</td>\n",
       "      <td>THEFT</td>\n",
       "      <td>SHOPLIFTING</td>\n",
       "      <td>Named Suspect Identified: Victim Supports Poli...</td>\n",
       "      <td>N</td>\n",
       "      <td>2</td>\n",
       "      <td>2025-06-05</td>\n",
       "      <td>2023</td>\n",
       "      <td>6</td>\n",
       "      <td>Thursday</td>\n",
       "    </tr>\n",
       "    <tr>\n",
       "      <th>3</th>\n",
       "      <td>2023-06-01</td>\n",
       "      <td>Business Crime Outcomes</td>\n",
       "      <td>Barking and Dagenham</td>\n",
       "      <td>VIOLENCE AGAINST THE PERSON</td>\n",
       "      <td>VIOLENCE WITH INJURY</td>\n",
       "      <td>Named Suspect Identified: Evidential Difficult...</td>\n",
       "      <td>N</td>\n",
       "      <td>2</td>\n",
       "      <td>2025-06-05</td>\n",
       "      <td>2023</td>\n",
       "      <td>6</td>\n",
       "      <td>Thursday</td>\n",
       "    </tr>\n",
       "    <tr>\n",
       "      <th>4</th>\n",
       "      <td>2023-06-01</td>\n",
       "      <td>Business Crime Outcomes</td>\n",
       "      <td>Barnet</td>\n",
       "      <td>ARSON AND CRIMINAL DAMAGE</td>\n",
       "      <td>CRIMINAL DAMAGE</td>\n",
       "      <td>Named Suspect Identified: Victim Supports Poli...</td>\n",
       "      <td>N</td>\n",
       "      <td>1</td>\n",
       "      <td>2025-06-05</td>\n",
       "      <td>2023</td>\n",
       "      <td>6</td>\n",
       "      <td>Thursday</td>\n",
       "    </tr>\n",
       "  </tbody>\n",
       "</table>\n",
       "</div>"
      ],
      "text/plain": [
       "         Date                  Measure               Borough  \\\n",
       "0  2023-06-01  Business Crime Outcomes  Barking and Dagenham   \n",
       "1  2023-06-01  Business Crime Outcomes  Barking and Dagenham   \n",
       "2  2023-06-01  Business Crime Outcomes  Barking and Dagenham   \n",
       "3  2023-06-01  Business Crime Outcomes  Barking and Dagenham   \n",
       "4  2023-06-01  Business Crime Outcomes                Barnet   \n",
       "\n",
       "                 Crime Section            Crime group  \\\n",
       "0        POSSESSION OF WEAPONS  POSSESSION OF WEAPONS   \n",
       "1                        THEFT            OTHER THEFT   \n",
       "2                        THEFT            SHOPLIFTING   \n",
       "3  VIOLENCE AGAINST THE PERSON   VIOLENCE WITH INJURY   \n",
       "4    ARSON AND CRIMINAL DAMAGE        CRIMINAL DAMAGE   \n",
       "\n",
       "                                             Outcome Positive Outcome  \\\n",
       "0  Investigation Complete; No Suspect Identified....                N   \n",
       "1  Investigation Complete; No Suspect Identified....                N   \n",
       "2  Named Suspect Identified: Victim Supports Poli...                N   \n",
       "3  Named Suspect Identified: Evidential Difficult...                N   \n",
       "4  Named Suspect Identified: Victim Supports Poli...                N   \n",
       "\n",
       "   Outcome Count Refresh Date  Year  Month   Weekday  \n",
       "0              1   2025-06-05  2023      6  Thursday  \n",
       "1              2   2025-06-05  2023      6  Thursday  \n",
       "2              2   2025-06-05  2023      6  Thursday  \n",
       "3              2   2025-06-05  2023      6  Thursday  \n",
       "4              1   2025-06-05  2023      6  Thursday  "
      ]
     },
     "execution_count": 2,
     "metadata": {},
     "output_type": "execute_result"
    }
   ],
   "source": [
    "df = pd.read_csv('../dataset/cleaned_data.csv')\n",
    "df.head()"
   ]
  },
  {
   "cell_type": "markdown",
   "id": "81d82a23",
   "metadata": {},
   "source": [
    "#### Mean crime count per borough"
   ]
  },
  {
   "cell_type": "code",
   "execution_count": null,
   "id": "73adefeb",
   "metadata": {},
   "outputs": [
    {
     "data": {
      "text/plain": [
       "np.float64(12347.5)"
      ]
     },
     "execution_count": 3,
     "metadata": {},
     "output_type": "execute_result"
    }
   ],
   "source": [
    "df['Borough'].value_counts().mean()"
   ]
  },
  {
   "cell_type": "markdown",
   "id": "978b0362",
   "metadata": {},
   "source": [
    "The mean is the sum of all values divided by the number of values and it is the average. The average number of crime in borough is 12347"
   ]
  },
  {
   "cell_type": "markdown",
   "id": "38d4056a",
   "metadata": {},
   "source": [
    "#### Median crime count per borough"
   ]
  },
  {
   "cell_type": "code",
   "execution_count": 5,
   "id": "a55733b6",
   "metadata": {},
   "outputs": [
    {
     "data": {
      "text/plain": [
       "np.float64(23347.0)"
      ]
     },
     "execution_count": 5,
     "metadata": {},
     "output_type": "execute_result"
    }
   ],
   "source": [
    "df['Crime Section'].value_counts().median()"
   ]
  },
  {
   "cell_type": "markdown",
   "id": "0c022299",
   "metadata": {},
   "source": [
    "The Median is the middle value in a dataset. "
   ]
  },
  {
   "cell_type": "markdown",
   "id": "4cf74367",
   "metadata": {},
   "source": [
    "#### Standard Deviation"
   ]
  },
  {
   "cell_type": "code",
   "execution_count": 6,
   "id": "b8bf8d7a",
   "metadata": {},
   "outputs": [
    {
     "data": {
      "text/plain": [
       "np.float64(3.3720163769819123)"
      ]
     },
     "execution_count": 6,
     "metadata": {},
     "output_type": "execute_result"
    }
   ],
   "source": [
    "df['Outcome Count'].std()"
   ]
  },
  {
   "cell_type": "markdown",
   "id": "4c06cff8",
   "metadata": {},
   "source": [
    "Standard deviation measures how spread out the data is. A high standard deviation means more variability.\n",
    "This data has standard deviation of 3.37 which is moderately spread out. "
   ]
  },
  {
   "cell_type": "markdown",
   "id": "871fbdd0",
   "metadata": {},
   "source": []
  }
 ],
 "metadata": {
  "kernelspec": {
   "display_name": ".venv",
   "language": "python",
   "name": "python3"
  },
  "language_info": {
   "codemirror_mode": {
    "name": "ipython",
    "version": 3
   },
   "file_extension": ".py",
   "mimetype": "text/x-python",
   "name": "python",
   "nbconvert_exporter": "python",
   "pygments_lexer": "ipython3",
   "version": "3.12.8"
  }
 },
 "nbformat": 4,
 "nbformat_minor": 5
}
